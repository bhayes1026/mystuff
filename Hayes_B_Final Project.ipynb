{
 "cells": [
  {
   "cell_type": "markdown",
   "metadata": {},
   "source": [
    "<h1>Final Project - IMDB 5000 Movie Dataset & Analysis (Continuing Mid-Term Project)\n",
    "</h1>    \n",
    "\n",
    "<i>Brian Hayes - 12/10/2019 </i> (Move to part 7 for new material relevant to final project, parts 1-6 were for Mid-Term.)\n",
    "\n",
    "\n",
    "<b>K-State Honor Code: \"On my honor, as a student, I have neither given nor received unauthorized aid on this academic work.\" \n",
    "    -Brian Hayes  </b>\n",
    "    \n",
    "    "
   ]
  },
  {
   "cell_type": "markdown",
   "metadata": {},
   "source": [
    "<h2>Part 1 - Business Understanding </h2>\n",
    "\n",
    "Movie success can be determined in a number of ways. One could look at box office performance, critical reception, or awards won. Another metric that can be used is the IMDB rating, which I will use as the primary performance metric in this analysis. The ability to predict movie success would be very important to various production companies to assist them in making their investments successful. Movies can be very expensive to make, so ensuring they are popular with moviegoers is essential to the success of the industry.\n",
    "\n",
    "Many factors and metrics can be used when attempting to discover which are most critical to ensuring a movie is successful. This analysis will seek to uncover which of these factors and metrics are most significant for a movie to end up with a high IMDB score. Once discovered, production companies can use these metrics to make their movies more successful. \n",
    "    "
   ]
  },
  {
   "cell_type": "markdown",
   "metadata": {},
   "source": [
    "<h2> Part 2 - Data Understanding </h2>"
   ]
  },
  {
   "cell_type": "markdown",
   "metadata": {},
   "source": [
    "Here we begin by importing our data analysis tools:"
   ]
  },
  {
   "cell_type": "code",
   "execution_count": 144,
   "metadata": {},
   "outputs": [],
   "source": [
    "import pandas as pd\n",
    "import numpy as np\n",
    "from scipy import stats\n",
    "import matplotlib.pyplot as plt\n",
    "import seaborn as sns\n",
    "%matplotlib inline\n",
    "pd.set_option('display.max_columns', None)\n",
    "\n",
    "#regression packages\n",
    "import sklearn.linear_model as lm\n",
    "from sklearn.metrics import mean_squared_error\n",
    "from sklearn.metrics import explained_variance_score\n",
    "\n",
    "import statsmodels.api as sm\n",
    "from statsmodels.formula.api import ols\n",
    "from yellowbrick.regressor import ResidualsPlot\n",
    "\n",
    "from sklearn.model_selection import train_test_split\n",
    "from sklearn.linear_model import Ridge\n",
    "\n",
    "from sklearn.feature_selection import f_regression\n",
    "from sklearn.feature_selection import SelectKBest\n",
    "\n",
    "from sklearn import tree\n",
    "from sklearn.tree import DecisionTreeClassifier\n",
    "#import logisticregression classifier\n",
    "from sklearn.linear_model import LogisticRegression\n",
    "import statsmodels.api as sm\n",
    "#import knn classifier\n",
    "from sklearn.neighbors import KNeighborsClassifier\n",
    "\n",
    "#for validating your classification model\n",
    "from sklearn.model_selection import cross_val_score\n",
    "from sklearn import metrics\n",
    "from sklearn.metrics import roc_curve, auc\n",
    "from sklearn.metrics import roc_auc_score\n",
    "\n",
    "# feature selection\n",
    "from sklearn.feature_selection import RFE\n",
    "from sklearn.ensemble import ExtraTreesClassifier\n",
    "from sklearn.feature_selection import SelectKBest\n",
    "from sklearn.feature_selection import chi2\n",
    "\n",
    "from sklearn.cluster import KMeans\n",
    "from sklearn.cluster import AgglomerativeClustering\n",
    "from sklearn.cluster import ward_tree\n",
    "from scipy.cluster.hierarchy import dendrogram, linkage, ward\n",
    "\n",
    "from sklearn.metrics import pairwise_distances"
   ]
  },
  {
   "cell_type": "markdown",
   "metadata": {},
   "source": [
    "Next, we read in the data and take a look at it:"
   ]
  },
  {
   "cell_type": "code",
   "execution_count": 3,
   "metadata": {},
   "outputs": [
    {
     "data": {
      "text/html": [
       "<div>\n",
       "<style scoped>\n",
       "    .dataframe tbody tr th:only-of-type {\n",
       "        vertical-align: middle;\n",
       "    }\n",
       "\n",
       "    .dataframe tbody tr th {\n",
       "        vertical-align: top;\n",
       "    }\n",
       "\n",
       "    .dataframe thead th {\n",
       "        text-align: right;\n",
       "    }\n",
       "</style>\n",
       "<table border=\"1\" class=\"dataframe\">\n",
       "  <thead>\n",
       "    <tr style=\"text-align: right;\">\n",
       "      <th></th>\n",
       "      <th>color</th>\n",
       "      <th>director_name</th>\n",
       "      <th>num_critic_for_reviews</th>\n",
       "      <th>duration</th>\n",
       "      <th>director_facebook_likes</th>\n",
       "      <th>actor_3_facebook_likes</th>\n",
       "      <th>actor_2_name</th>\n",
       "      <th>actor_1_facebook_likes</th>\n",
       "      <th>gross</th>\n",
       "      <th>genres</th>\n",
       "      <th>actor_1_name</th>\n",
       "      <th>movie_title</th>\n",
       "      <th>num_voted_users</th>\n",
       "      <th>cast_total_facebook_likes</th>\n",
       "      <th>actor_3_name</th>\n",
       "      <th>facenumber_in_poster</th>\n",
       "      <th>plot_keywords</th>\n",
       "      <th>movie_imdb_link</th>\n",
       "      <th>num_user_for_reviews</th>\n",
       "      <th>language</th>\n",
       "      <th>country</th>\n",
       "      <th>content_rating</th>\n",
       "      <th>budget</th>\n",
       "      <th>title_year</th>\n",
       "      <th>actor_2_facebook_likes</th>\n",
       "      <th>imdb_score</th>\n",
       "      <th>aspect_ratio</th>\n",
       "      <th>movie_facebook_likes</th>\n",
       "    </tr>\n",
       "  </thead>\n",
       "  <tbody>\n",
       "    <tr>\n",
       "      <th>0</th>\n",
       "      <td>Color</td>\n",
       "      <td>James Cameron</td>\n",
       "      <td>723.0</td>\n",
       "      <td>178.0</td>\n",
       "      <td>0.0</td>\n",
       "      <td>855.0</td>\n",
       "      <td>Joel David Moore</td>\n",
       "      <td>1000.0</td>\n",
       "      <td>760505847.0</td>\n",
       "      <td>Action|Adventure|Fantasy|Sci-Fi</td>\n",
       "      <td>CCH Pounder</td>\n",
       "      <td>Avatar</td>\n",
       "      <td>886204</td>\n",
       "      <td>4834</td>\n",
       "      <td>Wes Studi</td>\n",
       "      <td>0.0</td>\n",
       "      <td>avatar|future|marine|native|paraplegic</td>\n",
       "      <td>http://www.imdb.com/title/tt0499549/?ref_=fn_t...</td>\n",
       "      <td>3054.0</td>\n",
       "      <td>English</td>\n",
       "      <td>USA</td>\n",
       "      <td>PG-13</td>\n",
       "      <td>237000000.0</td>\n",
       "      <td>2009.0</td>\n",
       "      <td>936.0</td>\n",
       "      <td>7.9</td>\n",
       "      <td>1.78</td>\n",
       "      <td>33000</td>\n",
       "    </tr>\n",
       "    <tr>\n",
       "      <th>1</th>\n",
       "      <td>Color</td>\n",
       "      <td>Gore Verbinski</td>\n",
       "      <td>302.0</td>\n",
       "      <td>169.0</td>\n",
       "      <td>563.0</td>\n",
       "      <td>1000.0</td>\n",
       "      <td>Orlando Bloom</td>\n",
       "      <td>40000.0</td>\n",
       "      <td>309404152.0</td>\n",
       "      <td>Action|Adventure|Fantasy</td>\n",
       "      <td>Johnny Depp</td>\n",
       "      <td>Pirates of the Caribbean: At World's End</td>\n",
       "      <td>471220</td>\n",
       "      <td>48350</td>\n",
       "      <td>Jack Davenport</td>\n",
       "      <td>0.0</td>\n",
       "      <td>goddess|marriage ceremony|marriage proposal|pi...</td>\n",
       "      <td>http://www.imdb.com/title/tt0449088/?ref_=fn_t...</td>\n",
       "      <td>1238.0</td>\n",
       "      <td>English</td>\n",
       "      <td>USA</td>\n",
       "      <td>PG-13</td>\n",
       "      <td>300000000.0</td>\n",
       "      <td>2007.0</td>\n",
       "      <td>5000.0</td>\n",
       "      <td>7.1</td>\n",
       "      <td>2.35</td>\n",
       "      <td>0</td>\n",
       "    </tr>\n",
       "    <tr>\n",
       "      <th>2</th>\n",
       "      <td>Color</td>\n",
       "      <td>Sam Mendes</td>\n",
       "      <td>602.0</td>\n",
       "      <td>148.0</td>\n",
       "      <td>0.0</td>\n",
       "      <td>161.0</td>\n",
       "      <td>Rory Kinnear</td>\n",
       "      <td>11000.0</td>\n",
       "      <td>200074175.0</td>\n",
       "      <td>Action|Adventure|Thriller</td>\n",
       "      <td>Christoph Waltz</td>\n",
       "      <td>Spectre</td>\n",
       "      <td>275868</td>\n",
       "      <td>11700</td>\n",
       "      <td>Stephanie Sigman</td>\n",
       "      <td>1.0</td>\n",
       "      <td>bomb|espionage|sequel|spy|terrorist</td>\n",
       "      <td>http://www.imdb.com/title/tt2379713/?ref_=fn_t...</td>\n",
       "      <td>994.0</td>\n",
       "      <td>English</td>\n",
       "      <td>UK</td>\n",
       "      <td>PG-13</td>\n",
       "      <td>245000000.0</td>\n",
       "      <td>2015.0</td>\n",
       "      <td>393.0</td>\n",
       "      <td>6.8</td>\n",
       "      <td>2.35</td>\n",
       "      <td>85000</td>\n",
       "    </tr>\n",
       "    <tr>\n",
       "      <th>3</th>\n",
       "      <td>Color</td>\n",
       "      <td>Christopher Nolan</td>\n",
       "      <td>813.0</td>\n",
       "      <td>164.0</td>\n",
       "      <td>22000.0</td>\n",
       "      <td>23000.0</td>\n",
       "      <td>Christian Bale</td>\n",
       "      <td>27000.0</td>\n",
       "      <td>448130642.0</td>\n",
       "      <td>Action|Thriller</td>\n",
       "      <td>Tom Hardy</td>\n",
       "      <td>The Dark Knight Rises</td>\n",
       "      <td>1144337</td>\n",
       "      <td>106759</td>\n",
       "      <td>Joseph Gordon-Levitt</td>\n",
       "      <td>0.0</td>\n",
       "      <td>deception|imprisonment|lawlessness|police offi...</td>\n",
       "      <td>http://www.imdb.com/title/tt1345836/?ref_=fn_t...</td>\n",
       "      <td>2701.0</td>\n",
       "      <td>English</td>\n",
       "      <td>USA</td>\n",
       "      <td>PG-13</td>\n",
       "      <td>250000000.0</td>\n",
       "      <td>2012.0</td>\n",
       "      <td>23000.0</td>\n",
       "      <td>8.5</td>\n",
       "      <td>2.35</td>\n",
       "      <td>164000</td>\n",
       "    </tr>\n",
       "    <tr>\n",
       "      <th>4</th>\n",
       "      <td>NaN</td>\n",
       "      <td>Doug Walker</td>\n",
       "      <td>NaN</td>\n",
       "      <td>NaN</td>\n",
       "      <td>131.0</td>\n",
       "      <td>NaN</td>\n",
       "      <td>Rob Walker</td>\n",
       "      <td>131.0</td>\n",
       "      <td>NaN</td>\n",
       "      <td>Documentary</td>\n",
       "      <td>Doug Walker</td>\n",
       "      <td>Star Wars: Episode VII - The Force Awakens    ...</td>\n",
       "      <td>8</td>\n",
       "      <td>143</td>\n",
       "      <td>NaN</td>\n",
       "      <td>0.0</td>\n",
       "      <td>NaN</td>\n",
       "      <td>http://www.imdb.com/title/tt5289954/?ref_=fn_t...</td>\n",
       "      <td>NaN</td>\n",
       "      <td>NaN</td>\n",
       "      <td>NaN</td>\n",
       "      <td>NaN</td>\n",
       "      <td>NaN</td>\n",
       "      <td>NaN</td>\n",
       "      <td>12.0</td>\n",
       "      <td>7.1</td>\n",
       "      <td>NaN</td>\n",
       "      <td>0</td>\n",
       "    </tr>\n",
       "  </tbody>\n",
       "</table>\n",
       "</div>"
      ],
      "text/plain": [
       "   color      director_name  num_critic_for_reviews  duration  \\\n",
       "0  Color      James Cameron                   723.0     178.0   \n",
       "1  Color     Gore Verbinski                   302.0     169.0   \n",
       "2  Color         Sam Mendes                   602.0     148.0   \n",
       "3  Color  Christopher Nolan                   813.0     164.0   \n",
       "4    NaN        Doug Walker                     NaN       NaN   \n",
       "\n",
       "   director_facebook_likes  actor_3_facebook_likes      actor_2_name  \\\n",
       "0                      0.0                   855.0  Joel David Moore   \n",
       "1                    563.0                  1000.0     Orlando Bloom   \n",
       "2                      0.0                   161.0      Rory Kinnear   \n",
       "3                  22000.0                 23000.0    Christian Bale   \n",
       "4                    131.0                     NaN        Rob Walker   \n",
       "\n",
       "   actor_1_facebook_likes        gross                           genres  \\\n",
       "0                  1000.0  760505847.0  Action|Adventure|Fantasy|Sci-Fi   \n",
       "1                 40000.0  309404152.0         Action|Adventure|Fantasy   \n",
       "2                 11000.0  200074175.0        Action|Adventure|Thriller   \n",
       "3                 27000.0  448130642.0                  Action|Thriller   \n",
       "4                   131.0          NaN                      Documentary   \n",
       "\n",
       "      actor_1_name                                        movie_title  \\\n",
       "0      CCH Pounder                                            Avatar    \n",
       "1      Johnny Depp          Pirates of the Caribbean: At World's End    \n",
       "2  Christoph Waltz                                           Spectre    \n",
       "3        Tom Hardy                             The Dark Knight Rises    \n",
       "4      Doug Walker  Star Wars: Episode VII - The Force Awakens    ...   \n",
       "\n",
       "   num_voted_users  cast_total_facebook_likes          actor_3_name  \\\n",
       "0           886204                       4834             Wes Studi   \n",
       "1           471220                      48350        Jack Davenport   \n",
       "2           275868                      11700      Stephanie Sigman   \n",
       "3          1144337                     106759  Joseph Gordon-Levitt   \n",
       "4                8                        143                   NaN   \n",
       "\n",
       "   facenumber_in_poster                                      plot_keywords  \\\n",
       "0                   0.0             avatar|future|marine|native|paraplegic   \n",
       "1                   0.0  goddess|marriage ceremony|marriage proposal|pi...   \n",
       "2                   1.0                bomb|espionage|sequel|spy|terrorist   \n",
       "3                   0.0  deception|imprisonment|lawlessness|police offi...   \n",
       "4                   0.0                                                NaN   \n",
       "\n",
       "                                     movie_imdb_link  num_user_for_reviews  \\\n",
       "0  http://www.imdb.com/title/tt0499549/?ref_=fn_t...                3054.0   \n",
       "1  http://www.imdb.com/title/tt0449088/?ref_=fn_t...                1238.0   \n",
       "2  http://www.imdb.com/title/tt2379713/?ref_=fn_t...                 994.0   \n",
       "3  http://www.imdb.com/title/tt1345836/?ref_=fn_t...                2701.0   \n",
       "4  http://www.imdb.com/title/tt5289954/?ref_=fn_t...                   NaN   \n",
       "\n",
       "  language country content_rating       budget  title_year  \\\n",
       "0  English     USA          PG-13  237000000.0      2009.0   \n",
       "1  English     USA          PG-13  300000000.0      2007.0   \n",
       "2  English      UK          PG-13  245000000.0      2015.0   \n",
       "3  English     USA          PG-13  250000000.0      2012.0   \n",
       "4      NaN     NaN            NaN          NaN         NaN   \n",
       "\n",
       "   actor_2_facebook_likes  imdb_score  aspect_ratio  movie_facebook_likes  \n",
       "0                   936.0         7.9          1.78                 33000  \n",
       "1                  5000.0         7.1          2.35                     0  \n",
       "2                   393.0         6.8          2.35                 85000  \n",
       "3                 23000.0         8.5          2.35                164000  \n",
       "4                    12.0         7.1           NaN                     0  "
      ]
     },
     "execution_count": 3,
     "metadata": {},
     "output_type": "execute_result"
    }
   ],
   "source": [
    "df = pd.read_csv(\"movie_metadata.csv\")\n",
    "df.head()"
   ]
  },
  {
   "cell_type": "markdown",
   "metadata": {},
   "source": [
    "Now we can begin to look more closely at the data structure and types:"
   ]
  },
  {
   "cell_type": "code",
   "execution_count": 4,
   "metadata": {},
   "outputs": [
    {
     "name": "stdout",
     "output_type": "stream",
     "text": [
      "<class 'pandas.core.frame.DataFrame'>\n",
      "RangeIndex: 5043 entries, 0 to 5042\n",
      "Data columns (total 28 columns):\n",
      "color                        5024 non-null object\n",
      "director_name                4939 non-null object\n",
      "num_critic_for_reviews       4993 non-null float64\n",
      "duration                     5028 non-null float64\n",
      "director_facebook_likes      4939 non-null float64\n",
      "actor_3_facebook_likes       5020 non-null float64\n",
      "actor_2_name                 5030 non-null object\n",
      "actor_1_facebook_likes       5036 non-null float64\n",
      "gross                        4159 non-null float64\n",
      "genres                       5043 non-null object\n",
      "actor_1_name                 5036 non-null object\n",
      "movie_title                  5043 non-null object\n",
      "num_voted_users              5043 non-null int64\n",
      "cast_total_facebook_likes    5043 non-null int64\n",
      "actor_3_name                 5020 non-null object\n",
      "facenumber_in_poster         5030 non-null float64\n",
      "plot_keywords                4890 non-null object\n",
      "movie_imdb_link              5043 non-null object\n",
      "num_user_for_reviews         5022 non-null float64\n",
      "language                     5031 non-null object\n",
      "country                      5038 non-null object\n",
      "content_rating               4740 non-null object\n",
      "budget                       4551 non-null float64\n",
      "title_year                   4935 non-null float64\n",
      "actor_2_facebook_likes       5030 non-null float64\n",
      "imdb_score                   5043 non-null float64\n",
      "aspect_ratio                 4714 non-null float64\n",
      "movie_facebook_likes         5043 non-null int64\n",
      "dtypes: float64(13), int64(3), object(12)\n",
      "memory usage: 1.1+ MB\n"
     ]
    }
   ],
   "source": [
    "df.info()"
   ]
  },
  {
   "cell_type": "markdown",
   "metadata": {},
   "source": [
    "The information provided to us using the .info section of code is very englightening. We have 28 columns of data, with a mixture of text and numerical values. Some of these numerical values are integers and some are floats. It is also obvious that we have different amounts of values in each column, which means we have some missing values that we must deal with."
   ]
  },
  {
   "cell_type": "markdown",
   "metadata": {},
   "source": [
    "Before dealing with missing values, however, we need to remove duplicate data:"
   ]
  },
  {
   "cell_type": "code",
   "execution_count": 5,
   "metadata": {},
   "outputs": [
    {
     "data": {
      "text/plain": [
       "45"
      ]
     },
     "execution_count": 5,
     "metadata": {},
     "output_type": "execute_result"
    }
   ],
   "source": [
    "len(df[df.duplicated()])"
   ]
  },
  {
   "cell_type": "code",
   "execution_count": 6,
   "metadata": {},
   "outputs": [
    {
     "data": {
      "text/plain": [
       "5043"
      ]
     },
     "execution_count": 6,
     "metadata": {},
     "output_type": "execute_result"
    }
   ],
   "source": [
    "len(df)"
   ]
  },
  {
   "cell_type": "code",
   "execution_count": 7,
   "metadata": {},
   "outputs": [],
   "source": [
    "df = df.drop_duplicates(keep='last')"
   ]
  },
  {
   "cell_type": "code",
   "execution_count": 8,
   "metadata": {},
   "outputs": [
    {
     "data": {
      "text/plain": [
       "4998"
      ]
     },
     "execution_count": 8,
     "metadata": {},
     "output_type": "execute_result"
    }
   ],
   "source": [
    "len(df)"
   ]
  },
  {
   "cell_type": "code",
   "execution_count": 9,
   "metadata": {},
   "outputs": [
    {
     "data": {
      "text/plain": [
       "0"
      ]
     },
     "execution_count": 9,
     "metadata": {},
     "output_type": "execute_result"
    }
   ],
   "source": [
    "len(df[df.duplicated()])"
   ]
  },
  {
   "cell_type": "markdown",
   "metadata": {},
   "source": [
    "In the code above, we found the amount of duplicates, then dropped them, then checked the amount of duplicates and length of the dataset after dropping them to ensure they were removed."
   ]
  },
  {
   "cell_type": "markdown",
   "metadata": {},
   "source": [
    "Now we must deal with the issue of genre. Many movies have more than one genre, making this part of the code difficult to analyze."
   ]
  },
  {
   "cell_type": "code",
   "execution_count": 10,
   "metadata": {},
   "outputs": [
    {
     "data": {
      "text/html": [
       "<div>\n",
       "<style scoped>\n",
       "    .dataframe tbody tr th:only-of-type {\n",
       "        vertical-align: middle;\n",
       "    }\n",
       "\n",
       "    .dataframe tbody tr th {\n",
       "        vertical-align: top;\n",
       "    }\n",
       "\n",
       "    .dataframe thead th {\n",
       "        text-align: right;\n",
       "    }\n",
       "</style>\n",
       "<table border=\"1\" class=\"dataframe\">\n",
       "  <thead>\n",
       "    <tr style=\"text-align: right;\">\n",
       "      <th></th>\n",
       "      <th>genres</th>\n",
       "      <th>imdb_score</th>\n",
       "    </tr>\n",
       "  </thead>\n",
       "  <tbody>\n",
       "    <tr>\n",
       "      <th>0</th>\n",
       "      <td>Action|Adventure|Fantasy|Sci-Fi</td>\n",
       "      <td>7.9</td>\n",
       "    </tr>\n",
       "    <tr>\n",
       "      <th>1</th>\n",
       "      <td>Action|Adventure|Fantasy</td>\n",
       "      <td>7.1</td>\n",
       "    </tr>\n",
       "    <tr>\n",
       "      <th>2</th>\n",
       "      <td>Action|Adventure|Thriller</td>\n",
       "      <td>6.8</td>\n",
       "    </tr>\n",
       "    <tr>\n",
       "      <th>3</th>\n",
       "      <td>Action|Thriller</td>\n",
       "      <td>8.5</td>\n",
       "    </tr>\n",
       "    <tr>\n",
       "      <th>4</th>\n",
       "      <td>Documentary</td>\n",
       "      <td>7.1</td>\n",
       "    </tr>\n",
       "  </tbody>\n",
       "</table>\n",
       "</div>"
      ],
      "text/plain": [
       "                            genres  imdb_score\n",
       "0  Action|Adventure|Fantasy|Sci-Fi         7.9\n",
       "1         Action|Adventure|Fantasy         7.1\n",
       "2        Action|Adventure|Thriller         6.8\n",
       "3                  Action|Thriller         8.5\n",
       "4                      Documentary         7.1"
      ]
     },
     "execution_count": 10,
     "metadata": {},
     "output_type": "execute_result"
    }
   ],
   "source": [
    "g=df[['genres','imdb_score']]\n",
    "g.head()"
   ]
  },
  {
   "cell_type": "code",
   "execution_count": 11,
   "metadata": {},
   "outputs": [
    {
     "data": {
      "text/html": [
       "<div>\n",
       "<style scoped>\n",
       "    .dataframe tbody tr th:only-of-type {\n",
       "        vertical-align: middle;\n",
       "    }\n",
       "\n",
       "    .dataframe tbody tr th {\n",
       "        vertical-align: top;\n",
       "    }\n",
       "\n",
       "    .dataframe thead th {\n",
       "        text-align: right;\n",
       "    }\n",
       "</style>\n",
       "<table border=\"1\" class=\"dataframe\">\n",
       "  <thead>\n",
       "    <tr style=\"text-align: right;\">\n",
       "      <th></th>\n",
       "      <th>genres</th>\n",
       "      <th>imdb_score</th>\n",
       "    </tr>\n",
       "  </thead>\n",
       "  <tbody>\n",
       "    <tr>\n",
       "      <th>0</th>\n",
       "      <td>Action</td>\n",
       "      <td>7.9</td>\n",
       "    </tr>\n",
       "    <tr>\n",
       "      <th>1</th>\n",
       "      <td>Adventure</td>\n",
       "      <td>7.9</td>\n",
       "    </tr>\n",
       "    <tr>\n",
       "      <th>2</th>\n",
       "      <td>Fantasy</td>\n",
       "      <td>7.9</td>\n",
       "    </tr>\n",
       "    <tr>\n",
       "      <th>3</th>\n",
       "      <td>Sci-Fi</td>\n",
       "      <td>7.9</td>\n",
       "    </tr>\n",
       "    <tr>\n",
       "      <th>4</th>\n",
       "      <td>Action</td>\n",
       "      <td>7.1</td>\n",
       "    </tr>\n",
       "  </tbody>\n",
       "</table>\n",
       "</div>"
      ],
      "text/plain": [
       "      genres  imdb_score\n",
       "0     Action         7.9\n",
       "1  Adventure         7.9\n",
       "2    Fantasy         7.9\n",
       "3     Sci-Fi         7.9\n",
       "4     Action         7.1"
      ]
     },
     "execution_count": 11,
     "metadata": {},
     "output_type": "execute_result"
    }
   ],
   "source": [
    "b = pd.DataFrame(g.genres.str.split('|').tolist(), index=g.imdb_score).stack()\n",
    "b = b.reset_index()[[0, 'imdb_score']] # genres variable is currently labeled 0\n",
    "b.columns = ['genres', 'imdb_score'] # renaming genres\n",
    "b.head()"
   ]
  },
  {
   "cell_type": "code",
   "execution_count": 12,
   "metadata": {},
   "outputs": [
    {
     "data": {
      "text/plain": [
       "genres\n",
       "Drama          2571\n",
       "Comedy         1862\n",
       "Thriller       1396\n",
       "Action         1143\n",
       "Romance        1098\n",
       "Adventure       914\n",
       "Crime           883\n",
       "Sci-Fi          611\n",
       "Fantasy         604\n",
       "Horror          556\n",
       "Family          544\n",
       "Mystery         493\n",
       "Biography       292\n",
       "Animation       242\n",
       "Music           212\n",
       "War             211\n",
       "History         205\n",
       "Sport           181\n",
       "Musical         132\n",
       "Documentary     121\n",
       "Western          94\n",
       "Film-Noir         6\n",
       "Short             5\n",
       "News              3\n",
       "Reality-TV        2\n",
       "Game-Show         1\n",
       "dtype: int64"
      ]
     },
     "execution_count": 12,
     "metadata": {},
     "output_type": "execute_result"
    }
   ],
   "source": [
    "b.groupby('genres').size().sort_values(ascending=False)"
   ]
  },
  {
   "cell_type": "code",
   "execution_count": 13,
   "metadata": {},
   "outputs": [
    {
     "data": {
      "text/plain": [
       "<matplotlib.axes._subplots.AxesSubplot at 0x1f1143c8ba8>"
      ]
     },
     "execution_count": 13,
     "metadata": {},
     "output_type": "execute_result"
    },
    {
     "data": {
      "image/png": "[encoded data removed]",
      "text/plain": [
       "<Figure size 432x288 with 1 Axes>"
      ]
     },
     "metadata": {
      "needs_background": "light"
     },
     "output_type": "display_data"
    }
   ],
   "source": [
    "b.groupby('genres')['imdb_score'].mean().sort_values().plot(kind='bar')"
   ]
  },
  {
   "cell_type": "markdown",
   "metadata": {},
   "source": [
    "Now we have a new dataset with each genre assigned to it's associated imdb score. As seen on the graph, there doesn't appear to be a significant correlation between imdb score and genre. Most values are in the 6-7.5 range. The values that fall outside this range have occur very infrequently in the dataset, so it's hard to draw a conclusion on them. For instance, the \"Game-Show\" genre has a score around 3, but only shows up once. We will remove genres from the larger dataset.\n",
    "\n",
    "Note - this analysis of genre largely follows the logic of Yueming Zhang's project found here, section 2.4: http://rstudio-pubs-static.s3.amazonaws.com/342210_7c8d57cfdd784cf58dc077d3eb7a2ca3.html#data-cleaning"
   ]
  },
  {
   "cell_type": "markdown",
   "metadata": {},
   "source": [
    "Dropping the genres column:"
   ]
  },
  {
   "cell_type": "code",
   "execution_count": 14,
   "metadata": {},
   "outputs": [
    {
     "data": {
      "text/html": [
       "<div>\n",
       "<style scoped>\n",
       "    .dataframe tbody tr th:only-of-type {\n",
       "        vertical-align: middle;\n",
       "    }\n",
       "\n",
       "    .dataframe tbody tr th {\n",
       "        vertical-align: top;\n",
       "    }\n",
       "\n",
       "    .dataframe thead th {\n",
       "        text-align: right;\n",
       "    }\n",
       "</style>\n",
       "<table border=\"1\" class=\"dataframe\">\n",
       "  <thead>\n",
       "    <tr style=\"text-align: right;\">\n",
       "      <th></th>\n",
       "      <th>color</th>\n",
       "      <th>director_name</th>\n",
       "      <th>num_critic_for_reviews</th>\n",
       "      <th>duration</th>\n",
       "      <th>director_facebook_likes</th>\n",
       "      <th>actor_3_facebook_likes</th>\n",
       "      <th>actor_2_name</th>\n",
       "      <th>actor_1_facebook_likes</th>\n",
       "      <th>gross</th>\n",
       "      <th>actor_1_name</th>\n",
       "      <th>movie_title</th>\n",
       "      <th>num_voted_users</th>\n",
       "      <th>cast_total_facebook_likes</th>\n",
       "      <th>actor_3_name</th>\n",
       "      <th>facenumber_in_poster</th>\n",
       "      <th>plot_keywords</th>\n",
       "      <th>movie_imdb_link</th>\n",
       "      <th>num_user_for_reviews</th>\n",
       "      <th>language</th>\n",
       "      <th>country</th>\n",
       "      <th>content_rating</th>\n",
       "      <th>budget</th>\n",
       "      <th>title_year</th>\n",
       "      <th>actor_2_facebook_likes</th>\n",
       "      <th>imdb_score</th>\n",
       "      <th>aspect_ratio</th>\n",
       "      <th>movie_facebook_likes</th>\n",
       "    </tr>\n",
       "  </thead>\n",
       "  <tbody>\n",
       "    <tr>\n",
       "      <th>0</th>\n",
       "      <td>Color</td>\n",
       "      <td>James Cameron</td>\n",
       "      <td>723.0</td>\n",
       "      <td>178.0</td>\n",
       "      <td>0.0</td>\n",
       "      <td>855.0</td>\n",
       "      <td>Joel David Moore</td>\n",
       "      <td>1000.0</td>\n",
       "      <td>760505847.0</td>\n",
       "      <td>CCH Pounder</td>\n",
       "      <td>Avatar</td>\n",
       "      <td>886204</td>\n",
       "      <td>4834</td>\n",
       "      <td>Wes Studi</td>\n",
       "      <td>0.0</td>\n",
       "      <td>avatar|future|marine|native|paraplegic</td>\n",
       "      <td>http://www.imdb.com/title/tt0499549/?ref_=fn_t...</td>\n",
       "      <td>3054.0</td>\n",
       "      <td>English</td>\n",
       "      <td>USA</td>\n",
       "      <td>PG-13</td>\n",
       "      <td>237000000.0</td>\n",
       "      <td>2009.0</td>\n",
       "      <td>936.0</td>\n",
       "      <td>7.9</td>\n",
       "      <td>1.78</td>\n",
       "      <td>33000</td>\n",
       "    </tr>\n",
       "    <tr>\n",
       "      <th>1</th>\n",
       "      <td>Color</td>\n",
       "      <td>Gore Verbinski</td>\n",
       "      <td>302.0</td>\n",
       "      <td>169.0</td>\n",
       "      <td>563.0</td>\n",
       "      <td>1000.0</td>\n",
       "      <td>Orlando Bloom</td>\n",
       "      <td>40000.0</td>\n",
       "      <td>309404152.0</td>\n",
       "      <td>Johnny Depp</td>\n",
       "      <td>Pirates of the Caribbean: At World's End</td>\n",
       "      <td>471220</td>\n",
       "      <td>48350</td>\n",
       "      <td>Jack Davenport</td>\n",
       "      <td>0.0</td>\n",
       "      <td>goddess|marriage ceremony|marriage proposal|pi...</td>\n",
       "      <td>http://www.imdb.com/title/tt0449088/?ref_=fn_t...</td>\n",
       "      <td>1238.0</td>\n",
       "      <td>English</td>\n",
       "      <td>USA</td>\n",
       "      <td>PG-13</td>\n",
       "      <td>300000000.0</td>\n",
       "      <td>2007.0</td>\n",
       "      <td>5000.0</td>\n",
       "      <td>7.1</td>\n",
       "      <td>2.35</td>\n",
       "      <td>0</td>\n",
       "    </tr>\n",
       "    <tr>\n",
       "      <th>2</th>\n",
       "      <td>Color</td>\n",
       "      <td>Sam Mendes</td>\n",
       "      <td>602.0</td>\n",
       "      <td>148.0</td>\n",
       "      <td>0.0</td>\n",
       "      <td>161.0</td>\n",
       "      <td>Rory Kinnear</td>\n",
       "      <td>11000.0</td>\n",
       "      <td>200074175.0</td>\n",
       "      <td>Christoph Waltz</td>\n",
       "      <td>Spectre</td>\n",
       "      <td>275868</td>\n",
       "      <td>11700</td>\n",
       "      <td>Stephanie Sigman</td>\n",
       "      <td>1.0</td>\n",
       "      <td>bomb|espionage|sequel|spy|terrorist</td>\n",
       "      <td>http://www.imdb.com/title/tt2379713/?ref_=fn_t...</td>\n",
       "      <td>994.0</td>\n",
       "      <td>English</td>\n",
       "      <td>UK</td>\n",
       "      <td>PG-13</td>\n",
       "      <td>245000000.0</td>\n",
       "      <td>2015.0</td>\n",
       "      <td>393.0</td>\n",
       "      <td>6.8</td>\n",
       "      <td>2.35</td>\n",
       "      <td>85000</td>\n",
       "    </tr>\n",
       "    <tr>\n",
       "      <th>3</th>\n",
       "      <td>Color</td>\n",
       "      <td>Christopher Nolan</td>\n",
       "      <td>813.0</td>\n",
       "      <td>164.0</td>\n",
       "      <td>22000.0</td>\n",
       "      <td>23000.0</td>\n",
       "      <td>Christian Bale</td>\n",
       "      <td>27000.0</td>\n",
       "      <td>448130642.0</td>\n",
       "      <td>Tom Hardy</td>\n",
       "      <td>The Dark Knight Rises</td>\n",
       "      <td>1144337</td>\n",
       "      <td>106759</td>\n",
       "      <td>Joseph Gordon-Levitt</td>\n",
       "      <td>0.0</td>\n",
       "      <td>deception|imprisonment|lawlessness|police offi...</td>\n",
       "      <td>http://www.imdb.com/title/tt1345836/?ref_=fn_t...</td>\n",
       "      <td>2701.0</td>\n",
       "      <td>English</td>\n",
       "      <td>USA</td>\n",
       "      <td>PG-13</td>\n",
       "      <td>250000000.0</td>\n",
       "      <td>2012.0</td>\n",
       "      <td>23000.0</td>\n",
       "      <td>8.5</td>\n",
       "      <td>2.35</td>\n",
       "      <td>164000</td>\n",
       "    </tr>\n",
       "    <tr>\n",
       "      <th>4</th>\n",
       "      <td>NaN</td>\n",
       "      <td>Doug Walker</td>\n",
       "      <td>NaN</td>\n",
       "      <td>NaN</td>\n",
       "      <td>131.0</td>\n",
       "      <td>NaN</td>\n",
       "      <td>Rob Walker</td>\n",
       "      <td>131.0</td>\n",
       "      <td>NaN</td>\n",
       "      <td>Doug Walker</td>\n",
       "      <td>Star Wars: Episode VII - The Force Awakens    ...</td>\n",
       "      <td>8</td>\n",
       "      <td>143</td>\n",
       "      <td>NaN</td>\n",
       "      <td>0.0</td>\n",
       "      <td>NaN</td>\n",
       "      <td>http://www.imdb.com/title/tt5289954/?ref_=fn_t...</td>\n",
       "      <td>NaN</td>\n",
       "      <td>NaN</td>\n",
       "      <td>NaN</td>\n",
       "      <td>NaN</td>\n",
       "      <td>NaN</td>\n",
       "      <td>NaN</td>\n",
       "      <td>12.0</td>\n",
       "      <td>7.1</td>\n",
       "      <td>NaN</td>\n",
       "      <td>0</td>\n",
       "    </tr>\n",
       "  </tbody>\n",
       "</table>\n",
       "</div>"
      ],
      "text/plain": [
       "   color      director_name  num_critic_for_reviews  duration  \\\n",
       "0  Color      James Cameron                   723.0     178.0   \n",
       "1  Color     Gore Verbinski                   302.0     169.0   \n",
       "2  Color         Sam Mendes                   602.0     148.0   \n",
       "3  Color  Christopher Nolan                   813.0     164.0   \n",
       "4    NaN        Doug Walker                     NaN       NaN   \n",
       "\n",
       "   director_facebook_likes  actor_3_facebook_likes      actor_2_name  \\\n",
       "0                      0.0                   855.0  Joel David Moore   \n",
       "1                    563.0                  1000.0     Orlando Bloom   \n",
       "2                      0.0                   161.0      Rory Kinnear   \n",
       "3                  22000.0                 23000.0    Christian Bale   \n",
       "4                    131.0                     NaN        Rob Walker   \n",
       "\n",
       "   actor_1_facebook_likes        gross     actor_1_name  \\\n",
       "0                  1000.0  760505847.0      CCH Pounder   \n",
       "1                 40000.0  309404152.0      Johnny Depp   \n",
       "2                 11000.0  200074175.0  Christoph Waltz   \n",
       "3                 27000.0  448130642.0        Tom Hardy   \n",
       "4                   131.0          NaN      Doug Walker   \n",
       "\n",
       "                                         movie_title  num_voted_users  \\\n",
       "0                                            Avatar            886204   \n",
       "1          Pirates of the Caribbean: At World's End            471220   \n",
       "2                                           Spectre            275868   \n",
       "3                             The Dark Knight Rises           1144337   \n",
       "4  Star Wars: Episode VII - The Force Awakens    ...                8   \n",
       "\n",
       "   cast_total_facebook_likes          actor_3_name  facenumber_in_poster  \\\n",
       "0                       4834             Wes Studi                   0.0   \n",
       "1                      48350        Jack Davenport                   0.0   \n",
       "2                      11700      Stephanie Sigman                   1.0   \n",
       "3                     106759  Joseph Gordon-Levitt                   0.0   \n",
       "4                        143                   NaN                   0.0   \n",
       "\n",
       "                                       plot_keywords  \\\n",
       "0             avatar|future|marine|native|paraplegic   \n",
       "1  goddess|marriage ceremony|marriage proposal|pi...   \n",
       "2                bomb|espionage|sequel|spy|terrorist   \n",
       "3  deception|imprisonment|lawlessness|police offi...   \n",
       "4                                                NaN   \n",
       "\n",
       "                                     movie_imdb_link  num_user_for_reviews  \\\n",
       "0  http://www.imdb.com/title/tt0499549/?ref_=fn_t...                3054.0   \n",
       "1  http://www.imdb.com/title/tt0449088/?ref_=fn_t...                1238.0   \n",
       "2  http://www.imdb.com/title/tt2379713/?ref_=fn_t...                 994.0   \n",
       "3  http://www.imdb.com/title/tt1345836/?ref_=fn_t...                2701.0   \n",
       "4  http://www.imdb.com/title/tt5289954/?ref_=fn_t...                   NaN   \n",
       "\n",
       "  language country content_rating       budget  title_year  \\\n",
       "0  English     USA          PG-13  237000000.0      2009.0   \n",
       "1  English     USA          PG-13  300000000.0      2007.0   \n",
       "2  English      UK          PG-13  245000000.0      2015.0   \n",
       "3  English     USA          PG-13  250000000.0      2012.0   \n",
       "4      NaN     NaN            NaN          NaN         NaN   \n",
       "\n",
       "   actor_2_facebook_likes  imdb_score  aspect_ratio  movie_facebook_likes  \n",
       "0                   936.0         7.9          1.78                 33000  \n",
       "1                  5000.0         7.1          2.35                     0  \n",
       "2                   393.0         6.8          2.35                 85000  \n",
       "3                 23000.0         8.5          2.35                164000  \n",
       "4                    12.0         7.1           NaN                     0  "
      ]
     },
     "execution_count": 14,
     "metadata": {},
     "output_type": "execute_result"
    }
   ],
   "source": [
    "df = df.drop('genres', axis=1)\n",
    "df.head()"
   ]
  },
  {
   "cell_type": "markdown",
   "metadata": {},
   "source": [
    "Here, I will look at whether the \"color\" column should be dropped:"
   ]
  },
  {
   "cell_type": "markdown",
   "metadata": {},
   "source": [
    "We will also drop the year column in the next section of code. The year column may be useful for analzying historical trends of movies, but is not useful for predicting future movie success. Movie production companies cannot arbitrarily change the year of production to improve imdb score."
   ]
  },
  {
   "cell_type": "code",
   "execution_count": 15,
   "metadata": {},
   "outputs": [
    {
     "data": {
      "text/html": [
       "<div>\n",
       "<style scoped>\n",
       "    .dataframe tbody tr th:only-of-type {\n",
       "        vertical-align: middle;\n",
       "    }\n",
       "\n",
       "    .dataframe tbody tr th {\n",
       "        vertical-align: top;\n",
       "    }\n",
       "\n",
       "    .dataframe thead th {\n",
       "        text-align: right;\n",
       "    }\n",
       "</style>\n",
       "<table border=\"1\" class=\"dataframe\">\n",
       "  <thead>\n",
       "    <tr style=\"text-align: right;\">\n",
       "      <th></th>\n",
       "      <th>color</th>\n",
       "      <th>director_name</th>\n",
       "      <th>num_critic_for_reviews</th>\n",
       "      <th>duration</th>\n",
       "      <th>director_facebook_likes</th>\n",
       "      <th>actor_3_facebook_likes</th>\n",
       "      <th>actor_2_name</th>\n",
       "      <th>actor_1_facebook_likes</th>\n",
       "      <th>gross</th>\n",
       "      <th>actor_1_name</th>\n",
       "      <th>movie_title</th>\n",
       "      <th>num_voted_users</th>\n",
       "      <th>cast_total_facebook_likes</th>\n",
       "      <th>actor_3_name</th>\n",
       "      <th>facenumber_in_poster</th>\n",
       "      <th>plot_keywords</th>\n",
       "      <th>movie_imdb_link</th>\n",
       "      <th>num_user_for_reviews</th>\n",
       "      <th>language</th>\n",
       "      <th>country</th>\n",
       "      <th>content_rating</th>\n",
       "      <th>budget</th>\n",
       "      <th>actor_2_facebook_likes</th>\n",
       "      <th>imdb_score</th>\n",
       "      <th>aspect_ratio</th>\n",
       "      <th>movie_facebook_likes</th>\n",
       "    </tr>\n",
       "  </thead>\n",
       "  <tbody>\n",
       "    <tr>\n",
       "      <th>0</th>\n",
       "      <td>Color</td>\n",
       "      <td>James Cameron</td>\n",
       "      <td>723.0</td>\n",
       "      <td>178.0</td>\n",
       "      <td>0.0</td>\n",
       "      <td>855.0</td>\n",
       "      <td>Joel David Moore</td>\n",
       "      <td>1000.0</td>\n",
       "      <td>760505847.0</td>\n",
       "      <td>CCH Pounder</td>\n",
       "      <td>Avatar</td>\n",
       "      <td>886204</td>\n",
       "      <td>4834</td>\n",
       "      <td>Wes Studi</td>\n",
       "      <td>0.0</td>\n",
       "      <td>avatar|future|marine|native|paraplegic</td>\n",
       "      <td>http://www.imdb.com/title/tt0499549/?ref_=fn_t...</td>\n",
       "      <td>3054.0</td>\n",
       "      <td>English</td>\n",
       "      <td>USA</td>\n",
       "      <td>PG-13</td>\n",
       "      <td>237000000.0</td>\n",
       "      <td>936.0</td>\n",
       "      <td>7.9</td>\n",
       "      <td>1.78</td>\n",
       "      <td>33000</td>\n",
       "    </tr>\n",
       "    <tr>\n",
       "      <th>1</th>\n",
       "      <td>Color</td>\n",
       "      <td>Gore Verbinski</td>\n",
       "      <td>302.0</td>\n",
       "      <td>169.0</td>\n",
       "      <td>563.0</td>\n",
       "      <td>1000.0</td>\n",
       "      <td>Orlando Bloom</td>\n",
       "      <td>40000.0</td>\n",
       "      <td>309404152.0</td>\n",
       "      <td>Johnny Depp</td>\n",
       "      <td>Pirates of the Caribbean: At World's End</td>\n",
       "      <td>471220</td>\n",
       "      <td>48350</td>\n",
       "      <td>Jack Davenport</td>\n",
       "      <td>0.0</td>\n",
       "      <td>goddess|marriage ceremony|marriage proposal|pi...</td>\n",
       "      <td>http://www.imdb.com/title/tt0449088/?ref_=fn_t...</td>\n",
       "      <td>1238.0</td>\n",
       "      <td>English</td>\n",
       "      <td>USA</td>\n",
       "      <td>PG-13</td>\n",
       "      <td>300000000.0</td>\n",
       "      <td>5000.0</td>\n",
       "      <td>7.1</td>\n",
       "      <td>2.35</td>\n",
       "      <td>0</td>\n",
       "    </tr>\n",
       "    <tr>\n",
       "      <th>2</th>\n",
       "      <td>Color</td>\n",
       "      <td>Sam Mendes</td>\n",
       "      <td>602.0</td>\n",
       "      <td>148.0</td>\n",
       "      <td>0.0</td>\n",
       "      <td>161.0</td>\n",
       "      <td>Rory Kinnear</td>\n",
       "      <td>11000.0</td>\n",
       "      <td>200074175.0</td>\n",
       "      <td>Christoph Waltz</td>\n",
       "      <td>Spectre</td>\n",
       "      <td>275868</td>\n",
       "      <td>11700</td>\n",
       "      <td>Stephanie Sigman</td>\n",
       "      <td>1.0</td>\n",
       "      <td>bomb|espionage|sequel|spy|terrorist</td>\n",
       "      <td>http://www.imdb.com/title/tt2379713/?ref_=fn_t...</td>\n",
       "      <td>994.0</td>\n",
       "      <td>English</td>\n",
       "      <td>UK</td>\n",
       "      <td>PG-13</td>\n",
       "      <td>245000000.0</td>\n",
       "      <td>393.0</td>\n",
       "      <td>6.8</td>\n",
       "      <td>2.35</td>\n",
       "      <td>85000</td>\n",
       "    </tr>\n",
       "  </tbody>\n",
       "</table>\n",
       "</div>"
      ],
      "text/plain": [
       "   color   director_name  num_critic_for_reviews  duration  \\\n",
       "0  Color   James Cameron                   723.0     178.0   \n",
       "1  Color  Gore Verbinski                   302.0     169.0   \n",
       "2  Color      Sam Mendes                   602.0     148.0   \n",
       "\n",
       "   director_facebook_likes  actor_3_facebook_likes      actor_2_name  \\\n",
       "0                      0.0                   855.0  Joel David Moore   \n",
       "1                    563.0                  1000.0     Orlando Bloom   \n",
       "2                      0.0                   161.0      Rory Kinnear   \n",
       "\n",
       "   actor_1_facebook_likes        gross     actor_1_name  \\\n",
       "0                  1000.0  760505847.0      CCH Pounder   \n",
       "1                 40000.0  309404152.0      Johnny Depp   \n",
       "2                 11000.0  200074175.0  Christoph Waltz   \n",
       "\n",
       "                                 movie_title  num_voted_users  \\\n",
       "0                                    Avatar            886204   \n",
       "1  Pirates of the Caribbean: At World's End            471220   \n",
       "2                                   Spectre            275868   \n",
       "\n",
       "   cast_total_facebook_likes      actor_3_name  facenumber_in_poster  \\\n",
       "0                       4834         Wes Studi                   0.0   \n",
       "1                      48350    Jack Davenport                   0.0   \n",
       "2                      11700  Stephanie Sigman                   1.0   \n",
       "\n",
       "                                       plot_keywords  \\\n",
       "0             avatar|future|marine|native|paraplegic   \n",
       "1  goddess|marriage ceremony|marriage proposal|pi...   \n",
       "2                bomb|espionage|sequel|spy|terrorist   \n",
       "\n",
       "                                     movie_imdb_link  num_user_for_reviews  \\\n",
       "0  http://www.imdb.com/title/tt0499549/?ref_=fn_t...                3054.0   \n",
       "1  http://www.imdb.com/title/tt0449088/?ref_=fn_t...                1238.0   \n",
       "2  http://www.imdb.com/title/tt2379713/?ref_=fn_t...                 994.0   \n",
       "\n",
       "  language country content_rating       budget  actor_2_facebook_likes  \\\n",
       "0  English     USA          PG-13  237000000.0                   936.0   \n",
       "1  English     USA          PG-13  300000000.0                  5000.0   \n",
       "2  English      UK          PG-13  245000000.0                   393.0   \n",
       "\n",
       "   imdb_score  aspect_ratio  movie_facebook_likes  \n",
       "0         7.9          1.78                 33000  \n",
       "1         7.1          2.35                     0  \n",
       "2         6.8          2.35                 85000  "
      ]
     },
     "execution_count": 15,
     "metadata": {},
     "output_type": "execute_result"
    }
   ],
   "source": [
    "df = df.drop('title_year', axis=1)\n",
    "df.head(3)"
   ]
  },
  {
   "cell_type": "markdown",
   "metadata": {},
   "source": [
    "Finally, we will examine the aspect ratio column to see if it should be removed. It doesn't seem like something that would affect movie success, but we will make sure:"
   ]
  },
  {
   "cell_type": "code",
   "execution_count": 16,
   "metadata": {},
   "outputs": [
    {
     "data": {
      "text/plain": [
       "aspect_ratio\n",
       "1.18        1\n",
       "1.20        1\n",
       "1.44        1\n",
       "1.77        1\n",
       "1.89        1\n",
       "2.24        1\n",
       "2.55        2\n",
       "1.50        2\n",
       "2.76        3\n",
       "2.40        3\n",
       "1.75        3\n",
       "2.00        5\n",
       "4.00        7\n",
       "2.20       14\n",
       "2.39       15\n",
       "16.00      45\n",
       "1.66       64\n",
       "1.33       67\n",
       "1.37      100\n",
       "1.78      108\n",
       "1.85     1890\n",
       "2.35     2337\n",
       "Name: imdb_score, dtype: int64"
      ]
     },
     "execution_count": 16,
     "metadata": {},
     "output_type": "execute_result"
    }
   ],
   "source": [
    "df.groupby('aspect_ratio')['imdb_score'].size().sort_values()"
   ]
  },
  {
   "cell_type": "markdown",
   "metadata": {},
   "source": [
    "This shows that the most popular aspect ratios are 1.85 and 2.35."
   ]
  },
  {
   "cell_type": "markdown",
   "metadata": {},
   "source": [
    "Here we will group each category of aspect ratio to analyze:"
   ]
  },
  {
   "cell_type": "code",
   "execution_count": 17,
   "metadata": {},
   "outputs": [],
   "source": [
    "df_185 = df.loc[df['aspect_ratio'] == 1.85]\n",
    "df_235 = df.loc[df['aspect_ratio'] == 2.35]\n",
    "df_other = df.loc[(df['aspect_ratio'] != 1.85) & (df['aspect_ratio'] != 2.35)]"
   ]
  },
  {
   "cell_type": "code",
   "execution_count": 18,
   "metadata": {},
   "outputs": [
    {
     "data": {
      "text/html": [
       "<div>\n",
       "<style scoped>\n",
       "    .dataframe tbody tr th:only-of-type {\n",
       "        vertical-align: middle;\n",
       "    }\n",
       "\n",
       "    .dataframe tbody tr th {\n",
       "        vertical-align: top;\n",
       "    }\n",
       "\n",
       "    .dataframe thead th {\n",
       "        text-align: right;\n",
       "    }\n",
       "</style>\n",
       "<table border=\"1\" class=\"dataframe\">\n",
       "  <thead>\n",
       "    <tr style=\"text-align: right;\">\n",
       "      <th></th>\n",
       "      <th>color</th>\n",
       "      <th>director_name</th>\n",
       "      <th>num_critic_for_reviews</th>\n",
       "      <th>duration</th>\n",
       "      <th>director_facebook_likes</th>\n",
       "      <th>actor_3_facebook_likes</th>\n",
       "      <th>actor_2_name</th>\n",
       "      <th>actor_1_facebook_likes</th>\n",
       "      <th>gross</th>\n",
       "      <th>actor_1_name</th>\n",
       "      <th>movie_title</th>\n",
       "      <th>num_voted_users</th>\n",
       "      <th>cast_total_facebook_likes</th>\n",
       "      <th>actor_3_name</th>\n",
       "      <th>facenumber_in_poster</th>\n",
       "      <th>plot_keywords</th>\n",
       "      <th>movie_imdb_link</th>\n",
       "      <th>num_user_for_reviews</th>\n",
       "      <th>language</th>\n",
       "      <th>country</th>\n",
       "      <th>content_rating</th>\n",
       "      <th>budget</th>\n",
       "      <th>actor_2_facebook_likes</th>\n",
       "      <th>imdb_score</th>\n",
       "      <th>aspect_ratio</th>\n",
       "      <th>movie_facebook_likes</th>\n",
       "    </tr>\n",
       "  </thead>\n",
       "  <tbody>\n",
       "    <tr>\n",
       "      <th>7</th>\n",
       "      <td>Color</td>\n",
       "      <td>Nathan Greno</td>\n",
       "      <td>324.0</td>\n",
       "      <td>100.0</td>\n",
       "      <td>15.0</td>\n",
       "      <td>284.0</td>\n",
       "      <td>Donna Murphy</td>\n",
       "      <td>799.0</td>\n",
       "      <td>200807262.0</td>\n",
       "      <td>Brad Garrett</td>\n",
       "      <td>Tangled</td>\n",
       "      <td>294810</td>\n",
       "      <td>2036</td>\n",
       "      <td>M.C. Gainey</td>\n",
       "      <td>1.0</td>\n",
       "      <td>17th century|based on fairy tale|disney|flower...</td>\n",
       "      <td>http://www.imdb.com/title/tt0398286/?ref_=fn_t...</td>\n",
       "      <td>387.0</td>\n",
       "      <td>English</td>\n",
       "      <td>USA</td>\n",
       "      <td>PG</td>\n",
       "      <td>260000000.0</td>\n",
       "      <td>553.0</td>\n",
       "      <td>7.8</td>\n",
       "      <td>1.85</td>\n",
       "      <td>29000</td>\n",
       "    </tr>\n",
       "    <tr>\n",
       "      <th>19</th>\n",
       "      <td>Color</td>\n",
       "      <td>Barry Sonnenfeld</td>\n",
       "      <td>451.0</td>\n",
       "      <td>106.0</td>\n",
       "      <td>188.0</td>\n",
       "      <td>718.0</td>\n",
       "      <td>Michael Stuhlbarg</td>\n",
       "      <td>10000.0</td>\n",
       "      <td>179020854.0</td>\n",
       "      <td>Will Smith</td>\n",
       "      <td>Men in Black 3</td>\n",
       "      <td>268154</td>\n",
       "      <td>12572</td>\n",
       "      <td>Nicole Scherzinger</td>\n",
       "      <td>1.0</td>\n",
       "      <td>alien|criminal|m.i.b.|maximum security prison|...</td>\n",
       "      <td>http://www.imdb.com/title/tt1409024/?ref_=fn_t...</td>\n",
       "      <td>341.0</td>\n",
       "      <td>English</td>\n",
       "      <td>USA</td>\n",
       "      <td>PG-13</td>\n",
       "      <td>225000000.0</td>\n",
       "      <td>816.0</td>\n",
       "      <td>6.8</td>\n",
       "      <td>1.85</td>\n",
       "      <td>40000</td>\n",
       "    </tr>\n",
       "  </tbody>\n",
       "</table>\n",
       "</div>"
      ],
      "text/plain": [
       "    color     director_name  num_critic_for_reviews  duration  \\\n",
       "7   Color      Nathan Greno                   324.0     100.0   \n",
       "19  Color  Barry Sonnenfeld                   451.0     106.0   \n",
       "\n",
       "    director_facebook_likes  actor_3_facebook_likes       actor_2_name  \\\n",
       "7                      15.0                   284.0       Donna Murphy   \n",
       "19                    188.0                   718.0  Michael Stuhlbarg   \n",
       "\n",
       "    actor_1_facebook_likes        gross  actor_1_name      movie_title  \\\n",
       "7                    799.0  200807262.0  Brad Garrett         Tangled    \n",
       "19                 10000.0  179020854.0    Will Smith  Men in Black 3    \n",
       "\n",
       "    num_voted_users  cast_total_facebook_likes        actor_3_name  \\\n",
       "7            294810                       2036         M.C. Gainey   \n",
       "19           268154                      12572  Nicole Scherzinger   \n",
       "\n",
       "    facenumber_in_poster                                      plot_keywords  \\\n",
       "7                    1.0  17th century|based on fairy tale|disney|flower...   \n",
       "19                   1.0  alien|criminal|m.i.b.|maximum security prison|...   \n",
       "\n",
       "                                      movie_imdb_link  num_user_for_reviews  \\\n",
       "7   http://www.imdb.com/title/tt0398286/?ref_=fn_t...                 387.0   \n",
       "19  http://www.imdb.com/title/tt1409024/?ref_=fn_t...                 341.0   \n",
       "\n",
       "   language country content_rating       budget  actor_2_facebook_likes  \\\n",
       "7   English     USA             PG  260000000.0                   553.0   \n",
       "19  English     USA          PG-13  225000000.0                   816.0   \n",
       "\n",
       "    imdb_score  aspect_ratio  movie_facebook_likes  \n",
       "7          7.8          1.85                 29000  \n",
       "19         6.8          1.85                 40000  "
      ]
     },
     "execution_count": 18,
     "metadata": {},
     "output_type": "execute_result"
    }
   ],
   "source": [
    "df_185.head(2) # confirming it worked"
   ]
  },
  {
   "cell_type": "code",
   "execution_count": 19,
   "metadata": {},
   "outputs": [
    {
     "data": {
      "text/html": [
       "<div>\n",
       "<style scoped>\n",
       "    .dataframe tbody tr th:only-of-type {\n",
       "        vertical-align: middle;\n",
       "    }\n",
       "\n",
       "    .dataframe tbody tr th {\n",
       "        vertical-align: top;\n",
       "    }\n",
       "\n",
       "    .dataframe thead th {\n",
       "        text-align: right;\n",
       "    }\n",
       "</style>\n",
       "<table border=\"1\" class=\"dataframe\">\n",
       "  <thead>\n",
       "    <tr style=\"text-align: right;\">\n",
       "      <th></th>\n",
       "      <th>color</th>\n",
       "      <th>director_name</th>\n",
       "      <th>num_critic_for_reviews</th>\n",
       "      <th>duration</th>\n",
       "      <th>director_facebook_likes</th>\n",
       "      <th>actor_3_facebook_likes</th>\n",
       "      <th>actor_2_name</th>\n",
       "      <th>actor_1_facebook_likes</th>\n",
       "      <th>gross</th>\n",
       "      <th>actor_1_name</th>\n",
       "      <th>movie_title</th>\n",
       "      <th>num_voted_users</th>\n",
       "      <th>cast_total_facebook_likes</th>\n",
       "      <th>actor_3_name</th>\n",
       "      <th>facenumber_in_poster</th>\n",
       "      <th>plot_keywords</th>\n",
       "      <th>movie_imdb_link</th>\n",
       "      <th>num_user_for_reviews</th>\n",
       "      <th>language</th>\n",
       "      <th>country</th>\n",
       "      <th>content_rating</th>\n",
       "      <th>budget</th>\n",
       "      <th>actor_2_facebook_likes</th>\n",
       "      <th>imdb_score</th>\n",
       "      <th>aspect_ratio</th>\n",
       "      <th>movie_facebook_likes</th>\n",
       "    </tr>\n",
       "  </thead>\n",
       "  <tbody>\n",
       "    <tr>\n",
       "      <th>1</th>\n",
       "      <td>Color</td>\n",
       "      <td>Gore Verbinski</td>\n",
       "      <td>302.0</td>\n",
       "      <td>169.0</td>\n",
       "      <td>563.0</td>\n",
       "      <td>1000.0</td>\n",
       "      <td>Orlando Bloom</td>\n",
       "      <td>40000.0</td>\n",
       "      <td>309404152.0</td>\n",
       "      <td>Johnny Depp</td>\n",
       "      <td>Pirates of the Caribbean: At World's End</td>\n",
       "      <td>471220</td>\n",
       "      <td>48350</td>\n",
       "      <td>Jack Davenport</td>\n",
       "      <td>0.0</td>\n",
       "      <td>goddess|marriage ceremony|marriage proposal|pi...</td>\n",
       "      <td>http://www.imdb.com/title/tt0449088/?ref_=fn_t...</td>\n",
       "      <td>1238.0</td>\n",
       "      <td>English</td>\n",
       "      <td>USA</td>\n",
       "      <td>PG-13</td>\n",
       "      <td>300000000.0</td>\n",
       "      <td>5000.0</td>\n",
       "      <td>7.1</td>\n",
       "      <td>2.35</td>\n",
       "      <td>0</td>\n",
       "    </tr>\n",
       "    <tr>\n",
       "      <th>2</th>\n",
       "      <td>Color</td>\n",
       "      <td>Sam Mendes</td>\n",
       "      <td>602.0</td>\n",
       "      <td>148.0</td>\n",
       "      <td>0.0</td>\n",
       "      <td>161.0</td>\n",
       "      <td>Rory Kinnear</td>\n",
       "      <td>11000.0</td>\n",
       "      <td>200074175.0</td>\n",
       "      <td>Christoph Waltz</td>\n",
       "      <td>Spectre</td>\n",
       "      <td>275868</td>\n",
       "      <td>11700</td>\n",
       "      <td>Stephanie Sigman</td>\n",
       "      <td>1.0</td>\n",
       "      <td>bomb|espionage|sequel|spy|terrorist</td>\n",
       "      <td>http://www.imdb.com/title/tt2379713/?ref_=fn_t...</td>\n",
       "      <td>994.0</td>\n",
       "      <td>English</td>\n",
       "      <td>UK</td>\n",
       "      <td>PG-13</td>\n",
       "      <td>245000000.0</td>\n",
       "      <td>393.0</td>\n",
       "      <td>6.8</td>\n",
       "      <td>2.35</td>\n",
       "      <td>85000</td>\n",
       "    </tr>\n",
       "  </tbody>\n",
       "</table>\n",
       "</div>"
      ],
      "text/plain": [
       "   color   director_name  num_critic_for_reviews  duration  \\\n",
       "1  Color  Gore Verbinski                   302.0     169.0   \n",
       "2  Color      Sam Mendes                   602.0     148.0   \n",
       "\n",
       "   director_facebook_likes  actor_3_facebook_likes   actor_2_name  \\\n",
       "1                    563.0                  1000.0  Orlando Bloom   \n",
       "2                      0.0                   161.0   Rory Kinnear   \n",
       "\n",
       "   actor_1_facebook_likes        gross     actor_1_name  \\\n",
       "1                 40000.0  309404152.0      Johnny Depp   \n",
       "2                 11000.0  200074175.0  Christoph Waltz   \n",
       "\n",
       "                                 movie_title  num_voted_users  \\\n",
       "1  Pirates of the Caribbean: At World's End            471220   \n",
       "2                                   Spectre            275868   \n",
       "\n",
       "   cast_total_facebook_likes      actor_3_name  facenumber_in_poster  \\\n",
       "1                      48350    Jack Davenport                   0.0   \n",
       "2                      11700  Stephanie Sigman                   1.0   \n",
       "\n",
       "                                       plot_keywords  \\\n",
       "1  goddess|marriage ceremony|marriage proposal|pi...   \n",
       "2                bomb|espionage|sequel|spy|terrorist   \n",
       "\n",
       "                                     movie_imdb_link  num_user_for_reviews  \\\n",
       "1  http://www.imdb.com/title/tt0449088/?ref_=fn_t...                1238.0   \n",
       "2  http://www.imdb.com/title/tt2379713/?ref_=fn_t...                 994.0   \n",
       "\n",
       "  language country content_rating       budget  actor_2_facebook_likes  \\\n",
       "1  English     USA          PG-13  300000000.0                  5000.0   \n",
       "2  English      UK          PG-13  245000000.0                   393.0   \n",
       "\n",
       "   imdb_score  aspect_ratio  movie_facebook_likes  \n",
       "1         7.1          2.35                     0  \n",
       "2         6.8          2.35                 85000  "
      ]
     },
     "execution_count": 19,
     "metadata": {},
     "output_type": "execute_result"
    }
   ],
   "source": [
    "df_235.head(2) #confirming it worked"
   ]
  },
  {
   "cell_type": "code",
   "execution_count": 20,
   "metadata": {},
   "outputs": [
    {
     "data": {
      "text/html": [
       "<div>\n",
       "<style scoped>\n",
       "    .dataframe tbody tr th:only-of-type {\n",
       "        vertical-align: middle;\n",
       "    }\n",
       "\n",
       "    .dataframe tbody tr th {\n",
       "        vertical-align: top;\n",
       "    }\n",
       "\n",
       "    .dataframe thead th {\n",
       "        text-align: right;\n",
       "    }\n",
       "</style>\n",
       "<table border=\"1\" class=\"dataframe\">\n",
       "  <thead>\n",
       "    <tr style=\"text-align: right;\">\n",
       "      <th></th>\n",
       "      <th>color</th>\n",
       "      <th>director_name</th>\n",
       "      <th>num_critic_for_reviews</th>\n",
       "      <th>duration</th>\n",
       "      <th>director_facebook_likes</th>\n",
       "      <th>actor_3_facebook_likes</th>\n",
       "      <th>actor_2_name</th>\n",
       "      <th>actor_1_facebook_likes</th>\n",
       "      <th>gross</th>\n",
       "      <th>actor_1_name</th>\n",
       "      <th>movie_title</th>\n",
       "      <th>num_voted_users</th>\n",
       "      <th>cast_total_facebook_likes</th>\n",
       "      <th>actor_3_name</th>\n",
       "      <th>facenumber_in_poster</th>\n",
       "      <th>plot_keywords</th>\n",
       "      <th>movie_imdb_link</th>\n",
       "      <th>num_user_for_reviews</th>\n",
       "      <th>language</th>\n",
       "      <th>country</th>\n",
       "      <th>content_rating</th>\n",
       "      <th>budget</th>\n",
       "      <th>actor_2_facebook_likes</th>\n",
       "      <th>imdb_score</th>\n",
       "      <th>aspect_ratio</th>\n",
       "      <th>movie_facebook_likes</th>\n",
       "    </tr>\n",
       "  </thead>\n",
       "  <tbody>\n",
       "    <tr>\n",
       "      <th>0</th>\n",
       "      <td>Color</td>\n",
       "      <td>James Cameron</td>\n",
       "      <td>723.0</td>\n",
       "      <td>178.0</td>\n",
       "      <td>0.0</td>\n",
       "      <td>855.0</td>\n",
       "      <td>Joel David Moore</td>\n",
       "      <td>1000.0</td>\n",
       "      <td>760505847.0</td>\n",
       "      <td>CCH Pounder</td>\n",
       "      <td>Avatar</td>\n",
       "      <td>886204</td>\n",
       "      <td>4834</td>\n",
       "      <td>Wes Studi</td>\n",
       "      <td>0.0</td>\n",
       "      <td>avatar|future|marine|native|paraplegic</td>\n",
       "      <td>http://www.imdb.com/title/tt0499549/?ref_=fn_t...</td>\n",
       "      <td>3054.0</td>\n",
       "      <td>English</td>\n",
       "      <td>USA</td>\n",
       "      <td>PG-13</td>\n",
       "      <td>237000000.0</td>\n",
       "      <td>936.0</td>\n",
       "      <td>7.9</td>\n",
       "      <td>1.78</td>\n",
       "      <td>33000</td>\n",
       "    </tr>\n",
       "    <tr>\n",
       "      <th>4</th>\n",
       "      <td>NaN</td>\n",
       "      <td>Doug Walker</td>\n",
       "      <td>NaN</td>\n",
       "      <td>NaN</td>\n",
       "      <td>131.0</td>\n",
       "      <td>NaN</td>\n",
       "      <td>Rob Walker</td>\n",
       "      <td>131.0</td>\n",
       "      <td>NaN</td>\n",
       "      <td>Doug Walker</td>\n",
       "      <td>Star Wars: Episode VII - The Force Awakens    ...</td>\n",
       "      <td>8</td>\n",
       "      <td>143</td>\n",
       "      <td>NaN</td>\n",
       "      <td>0.0</td>\n",
       "      <td>NaN</td>\n",
       "      <td>http://www.imdb.com/title/tt5289954/?ref_=fn_t...</td>\n",
       "      <td>NaN</td>\n",
       "      <td>NaN</td>\n",
       "      <td>NaN</td>\n",
       "      <td>NaN</td>\n",
       "      <td>NaN</td>\n",
       "      <td>12.0</td>\n",
       "      <td>7.1</td>\n",
       "      <td>NaN</td>\n",
       "      <td>0</td>\n",
       "    </tr>\n",
       "    <tr>\n",
       "      <th>29</th>\n",
       "      <td>Color</td>\n",
       "      <td>Colin Trevorrow</td>\n",
       "      <td>644.0</td>\n",
       "      <td>124.0</td>\n",
       "      <td>365.0</td>\n",
       "      <td>1000.0</td>\n",
       "      <td>Judy Greer</td>\n",
       "      <td>3000.0</td>\n",
       "      <td>652177271.0</td>\n",
       "      <td>Bryce Dallas Howard</td>\n",
       "      <td>Jurassic World</td>\n",
       "      <td>418214</td>\n",
       "      <td>8458</td>\n",
       "      <td>Omar Sy</td>\n",
       "      <td>0.0</td>\n",
       "      <td>dinosaur|disaster film|experiment gone wrong|j...</td>\n",
       "      <td>http://www.imdb.com/title/tt0369610/?ref_=fn_t...</td>\n",
       "      <td>1290.0</td>\n",
       "      <td>English</td>\n",
       "      <td>USA</td>\n",
       "      <td>PG-13</td>\n",
       "      <td>150000000.0</td>\n",
       "      <td>2000.0</td>\n",
       "      <td>7.0</td>\n",
       "      <td>2.00</td>\n",
       "      <td>150000</td>\n",
       "    </tr>\n",
       "    <tr>\n",
       "      <th>84</th>\n",
       "      <td>Color</td>\n",
       "      <td>Roland Joffé</td>\n",
       "      <td>10.0</td>\n",
       "      <td>109.0</td>\n",
       "      <td>596.0</td>\n",
       "      <td>283.0</td>\n",
       "      <td>Alice Englert</td>\n",
       "      <td>622.0</td>\n",
       "      <td>NaN</td>\n",
       "      <td>Tamsin Egerton</td>\n",
       "      <td>The Lovers</td>\n",
       "      <td>2138</td>\n",
       "      <td>1982</td>\n",
       "      <td>Bipasha Basu</td>\n",
       "      <td>3.0</td>\n",
       "      <td>1770s|british india|great barrier reef|india|ring</td>\n",
       "      <td>http://www.imdb.com/title/tt1321869/?ref_=fn_t...</td>\n",
       "      <td>15.0</td>\n",
       "      <td>English</td>\n",
       "      <td>Belgium</td>\n",
       "      <td>R</td>\n",
       "      <td>NaN</td>\n",
       "      <td>525.0</td>\n",
       "      <td>4.5</td>\n",
       "      <td>NaN</td>\n",
       "      <td>677</td>\n",
       "    </tr>\n",
       "    <tr>\n",
       "      <th>88</th>\n",
       "      <td>Color</td>\n",
       "      <td>Brad Bird</td>\n",
       "      <td>443.0</td>\n",
       "      <td>130.0</td>\n",
       "      <td>663.0</td>\n",
       "      <td>604.0</td>\n",
       "      <td>Chris Bauer</td>\n",
       "      <td>2000.0</td>\n",
       "      <td>93417865.0</td>\n",
       "      <td>Judy Greer</td>\n",
       "      <td>Tomorrowland</td>\n",
       "      <td>128306</td>\n",
       "      <td>5046</td>\n",
       "      <td>Thomas Robinson</td>\n",
       "      <td>2.0</td>\n",
       "      <td>boy genius|futuristic city|inventor|teenage gi...</td>\n",
       "      <td>http://www.imdb.com/title/tt1964418/?ref_=fn_t...</td>\n",
       "      <td>497.0</td>\n",
       "      <td>English</td>\n",
       "      <td>USA</td>\n",
       "      <td>PG</td>\n",
       "      <td>190000000.0</td>\n",
       "      <td>638.0</td>\n",
       "      <td>6.5</td>\n",
       "      <td>2.20</td>\n",
       "      <td>37000</td>\n",
       "    </tr>\n",
       "  </tbody>\n",
       "</table>\n",
       "</div>"
      ],
      "text/plain": [
       "    color    director_name  num_critic_for_reviews  duration  \\\n",
       "0   Color    James Cameron                   723.0     178.0   \n",
       "4     NaN      Doug Walker                     NaN       NaN   \n",
       "29  Color  Colin Trevorrow                   644.0     124.0   \n",
       "84  Color     Roland Joffé                    10.0     109.0   \n",
       "88  Color        Brad Bird                   443.0     130.0   \n",
       "\n",
       "    director_facebook_likes  actor_3_facebook_likes      actor_2_name  \\\n",
       "0                       0.0                   855.0  Joel David Moore   \n",
       "4                     131.0                     NaN        Rob Walker   \n",
       "29                    365.0                  1000.0        Judy Greer   \n",
       "84                    596.0                   283.0     Alice Englert   \n",
       "88                    663.0                   604.0       Chris Bauer   \n",
       "\n",
       "    actor_1_facebook_likes        gross         actor_1_name  \\\n",
       "0                   1000.0  760505847.0          CCH Pounder   \n",
       "4                    131.0          NaN          Doug Walker   \n",
       "29                  3000.0  652177271.0  Bryce Dallas Howard   \n",
       "84                   622.0          NaN       Tamsin Egerton   \n",
       "88                  2000.0   93417865.0           Judy Greer   \n",
       "\n",
       "                                          movie_title  num_voted_users  \\\n",
       "0                                             Avatar            886204   \n",
       "4   Star Wars: Episode VII - The Force Awakens    ...                8   \n",
       "29                                    Jurassic World            418214   \n",
       "84                                        The Lovers              2138   \n",
       "88                                      Tomorrowland            128306   \n",
       "\n",
       "    cast_total_facebook_likes     actor_3_name  facenumber_in_poster  \\\n",
       "0                        4834        Wes Studi                   0.0   \n",
       "4                         143              NaN                   0.0   \n",
       "29                       8458          Omar Sy                   0.0   \n",
       "84                       1982     Bipasha Basu                   3.0   \n",
       "88                       5046  Thomas Robinson                   2.0   \n",
       "\n",
       "                                        plot_keywords  \\\n",
       "0              avatar|future|marine|native|paraplegic   \n",
       "4                                                 NaN   \n",
       "29  dinosaur|disaster film|experiment gone wrong|j...   \n",
       "84  1770s|british india|great barrier reef|india|ring   \n",
       "88  boy genius|futuristic city|inventor|teenage gi...   \n",
       "\n",
       "                                      movie_imdb_link  num_user_for_reviews  \\\n",
       "0   http://www.imdb.com/title/tt0499549/?ref_=fn_t...                3054.0   \n",
       "4   http://www.imdb.com/title/tt5289954/?ref_=fn_t...                   NaN   \n",
       "29  http://www.imdb.com/title/tt0369610/?ref_=fn_t...                1290.0   \n",
       "84  http://www.imdb.com/title/tt1321869/?ref_=fn_t...                  15.0   \n",
       "88  http://www.imdb.com/title/tt1964418/?ref_=fn_t...                 497.0   \n",
       "\n",
       "   language  country content_rating       budget  actor_2_facebook_likes  \\\n",
       "0   English      USA          PG-13  237000000.0                   936.0   \n",
       "4       NaN      NaN            NaN          NaN                    12.0   \n",
       "29  English      USA          PG-13  150000000.0                  2000.0   \n",
       "84  English  Belgium              R          NaN                   525.0   \n",
       "88  English      USA             PG  190000000.0                   638.0   \n",
       "\n",
       "    imdb_score  aspect_ratio  movie_facebook_likes  \n",
       "0          7.9          1.78                 33000  \n",
       "4          7.1           NaN                     0  \n",
       "29         7.0          2.00                150000  \n",
       "84         4.5           NaN                   677  \n",
       "88         6.5          2.20                 37000  "
      ]
     },
     "execution_count": 20,
     "metadata": {},
     "output_type": "execute_result"
    }
   ],
   "source": [
    "df_other.head() #confirming it worked"
   ]
  },
  {
   "cell_type": "code",
   "execution_count": 21,
   "metadata": {},
   "outputs": [
    {
     "data": {
      "text/plain": [
       "6.370740740740756"
      ]
     },
     "execution_count": 21,
     "metadata": {},
     "output_type": "execute_result"
    }
   ],
   "source": [
    "df_185['imdb_score'].mean()"
   ]
  },
  {
   "cell_type": "code",
   "execution_count": 22,
   "metadata": {},
   "outputs": [
    {
     "data": {
      "text/plain": [
       "6.478177150192558"
      ]
     },
     "execution_count": 22,
     "metadata": {},
     "output_type": "execute_result"
    }
   ],
   "source": [
    "df_235['imdb_score'].mean()"
   ]
  },
  {
   "cell_type": "code",
   "execution_count": 23,
   "metadata": {},
   "outputs": [
    {
     "data": {
      "text/plain": [
       "6.500907911802857"
      ]
     },
     "execution_count": 23,
     "metadata": {},
     "output_type": "execute_result"
    }
   ],
   "source": [
    "df_other['imdb_score'].mean()"
   ]
  },
  {
   "cell_type": "markdown",
   "metadata": {},
   "source": [
    "After grouping each category of aspect ratio together, it is clear there aspect ratio has no meaningful difference on imdb score. This column can safely be removed.\n",
    "\n",
    "Note - this analysis of genre largely follows the logic of Yueming Zhang's project found here, section 3.1.2: http://rstudio-pubs-static.s3.amazonaws.com/342210_7c8d57cfdd784cf58dc077d3eb7a2ca3.html#data-cleaning"
   ]
  },
  {
   "cell_type": "code",
   "execution_count": 24,
   "metadata": {
    "scrolled": true
   },
   "outputs": [
    {
     "data": {
      "text/html": [
       "<div>\n",
       "<style scoped>\n",
       "    .dataframe tbody tr th:only-of-type {\n",
       "        vertical-align: middle;\n",
       "    }\n",
       "\n",
       "    .dataframe tbody tr th {\n",
       "        vertical-align: top;\n",
       "    }\n",
       "\n",
       "    .dataframe thead th {\n",
       "        text-align: right;\n",
       "    }\n",
       "</style>\n",
       "<table border=\"1\" class=\"dataframe\">\n",
       "  <thead>\n",
       "    <tr style=\"text-align: right;\">\n",
       "      <th></th>\n",
       "      <th>color</th>\n",
       "      <th>director_name</th>\n",
       "      <th>num_critic_for_reviews</th>\n",
       "      <th>duration</th>\n",
       "      <th>director_facebook_likes</th>\n",
       "      <th>actor_3_facebook_likes</th>\n",
       "      <th>actor_2_name</th>\n",
       "      <th>actor_1_facebook_likes</th>\n",
       "      <th>gross</th>\n",
       "      <th>actor_1_name</th>\n",
       "      <th>movie_title</th>\n",
       "      <th>num_voted_users</th>\n",
       "      <th>cast_total_facebook_likes</th>\n",
       "      <th>actor_3_name</th>\n",
       "      <th>facenumber_in_poster</th>\n",
       "      <th>plot_keywords</th>\n",
       "      <th>movie_imdb_link</th>\n",
       "      <th>num_user_for_reviews</th>\n",
       "      <th>language</th>\n",
       "      <th>country</th>\n",
       "      <th>content_rating</th>\n",
       "      <th>budget</th>\n",
       "      <th>actor_2_facebook_likes</th>\n",
       "      <th>imdb_score</th>\n",
       "      <th>movie_facebook_likes</th>\n",
       "    </tr>\n",
       "  </thead>\n",
       "  <tbody>\n",
       "    <tr>\n",
       "      <th>0</th>\n",
       "      <td>Color</td>\n",
       "      <td>James Cameron</td>\n",
       "      <td>723.0</td>\n",
       "      <td>178.0</td>\n",
       "      <td>0.0</td>\n",
       "      <td>855.0</td>\n",
       "      <td>Joel David Moore</td>\n",
       "      <td>1000.0</td>\n",
       "      <td>760505847.0</td>\n",
       "      <td>CCH Pounder</td>\n",
       "      <td>Avatar</td>\n",
       "      <td>886204</td>\n",
       "      <td>4834</td>\n",
       "      <td>Wes Studi</td>\n",
       "      <td>0.0</td>\n",
       "      <td>avatar|future|marine|native|paraplegic</td>\n",
       "      <td>http://www.imdb.com/title/tt0499549/?ref_=fn_t...</td>\n",
       "      <td>3054.0</td>\n",
       "      <td>English</td>\n",
       "      <td>USA</td>\n",
       "      <td>PG-13</td>\n",
       "      <td>237000000.0</td>\n",
       "      <td>936.0</td>\n",
       "      <td>7.9</td>\n",
       "      <td>33000</td>\n",
       "    </tr>\n",
       "    <tr>\n",
       "      <th>1</th>\n",
       "      <td>Color</td>\n",
       "      <td>Gore Verbinski</td>\n",
       "      <td>302.0</td>\n",
       "      <td>169.0</td>\n",
       "      <td>563.0</td>\n",
       "      <td>1000.0</td>\n",
       "      <td>Orlando Bloom</td>\n",
       "      <td>40000.0</td>\n",
       "      <td>309404152.0</td>\n",
       "      <td>Johnny Depp</td>\n",
       "      <td>Pirates of the Caribbean: At World's End</td>\n",
       "      <td>471220</td>\n",
       "      <td>48350</td>\n",
       "      <td>Jack Davenport</td>\n",
       "      <td>0.0</td>\n",
       "      <td>goddess|marriage ceremony|marriage proposal|pi...</td>\n",
       "      <td>http://www.imdb.com/title/tt0449088/?ref_=fn_t...</td>\n",
       "      <td>1238.0</td>\n",
       "      <td>English</td>\n",
       "      <td>USA</td>\n",
       "      <td>PG-13</td>\n",
       "      <td>300000000.0</td>\n",
       "      <td>5000.0</td>\n",
       "      <td>7.1</td>\n",
       "      <td>0</td>\n",
       "    </tr>\n",
       "    <tr>\n",
       "      <th>2</th>\n",
       "      <td>Color</td>\n",
       "      <td>Sam Mendes</td>\n",
       "      <td>602.0</td>\n",
       "      <td>148.0</td>\n",
       "      <td>0.0</td>\n",
       "      <td>161.0</td>\n",
       "      <td>Rory Kinnear</td>\n",
       "      <td>11000.0</td>\n",
       "      <td>200074175.0</td>\n",
       "      <td>Christoph Waltz</td>\n",
       "      <td>Spectre</td>\n",
       "      <td>275868</td>\n",
       "      <td>11700</td>\n",
       "      <td>Stephanie Sigman</td>\n",
       "      <td>1.0</td>\n",
       "      <td>bomb|espionage|sequel|spy|terrorist</td>\n",
       "      <td>http://www.imdb.com/title/tt2379713/?ref_=fn_t...</td>\n",
       "      <td>994.0</td>\n",
       "      <td>English</td>\n",
       "      <td>UK</td>\n",
       "      <td>PG-13</td>\n",
       "      <td>245000000.0</td>\n",
       "      <td>393.0</td>\n",
       "      <td>6.8</td>\n",
       "      <td>85000</td>\n",
       "    </tr>\n",
       "  </tbody>\n",
       "</table>\n",
       "</div>"
      ],
      "text/plain": [
       "   color   director_name  num_critic_for_reviews  duration  \\\n",
       "0  Color   James Cameron                   723.0     178.0   \n",
       "1  Color  Gore Verbinski                   302.0     169.0   \n",
       "2  Color      Sam Mendes                   602.0     148.0   \n",
       "\n",
       "   director_facebook_likes  actor_3_facebook_likes      actor_2_name  \\\n",
       "0                      0.0                   855.0  Joel David Moore   \n",
       "1                    563.0                  1000.0     Orlando Bloom   \n",
       "2                      0.0                   161.0      Rory Kinnear   \n",
       "\n",
       "   actor_1_facebook_likes        gross     actor_1_name  \\\n",
       "0                  1000.0  760505847.0      CCH Pounder   \n",
       "1                 40000.0  309404152.0      Johnny Depp   \n",
       "2                 11000.0  200074175.0  Christoph Waltz   \n",
       "\n",
       "                                 movie_title  num_voted_users  \\\n",
       "0                                    Avatar            886204   \n",
       "1  Pirates of the Caribbean: At World's End            471220   \n",
       "2                                   Spectre            275868   \n",
       "\n",
       "   cast_total_facebook_likes      actor_3_name  facenumber_in_poster  \\\n",
       "0                       4834         Wes Studi                   0.0   \n",
       "1                      48350    Jack Davenport                   0.0   \n",
       "2                      11700  Stephanie Sigman                   1.0   \n",
       "\n",
       "                                       plot_keywords  \\\n",
       "0             avatar|future|marine|native|paraplegic   \n",
       "1  goddess|marriage ceremony|marriage proposal|pi...   \n",
       "2                bomb|espionage|sequel|spy|terrorist   \n",
       "\n",
       "                                     movie_imdb_link  num_user_for_reviews  \\\n",
       "0  http://www.imdb.com/title/tt0499549/?ref_=fn_t...                3054.0   \n",
       "1  http://www.imdb.com/title/tt0449088/?ref_=fn_t...                1238.0   \n",
       "2  http://www.imdb.com/title/tt2379713/?ref_=fn_t...                 994.0   \n",
       "\n",
       "  language country content_rating       budget  actor_2_facebook_likes  \\\n",
       "0  English     USA          PG-13  237000000.0                   936.0   \n",
       "1  English     USA          PG-13  300000000.0                  5000.0   \n",
       "2  English      UK          PG-13  245000000.0                   393.0   \n",
       "\n",
       "   imdb_score  movie_facebook_likes  \n",
       "0         7.9                 33000  \n",
       "1         7.1                     0  \n",
       "2         6.8                 85000  "
      ]
     },
     "execution_count": 24,
     "metadata": {},
     "output_type": "execute_result"
    }
   ],
   "source": [
    "df = df.drop('aspect_ratio', axis=1)\n",
    "df.head(3)"
   ]
  },
  {
   "cell_type": "markdown",
   "metadata": {},
   "source": [
    "<h2>Part 3 - Data Preparation </h2>"
   ]
  },
  {
   "cell_type": "markdown",
   "metadata": {},
   "source": [
    "To being part 3 of our analysis, we will deal with missing values:"
   ]
  },
  {
   "cell_type": "code",
   "execution_count": 25,
   "metadata": {},
   "outputs": [
    {
     "data": {
      "text/plain": [
       "color                         19\n",
       "director_name                103\n",
       "num_critic_for_reviews        49\n",
       "duration                      15\n",
       "director_facebook_likes      103\n",
       "actor_3_facebook_likes        23\n",
       "actor_2_name                  13\n",
       "actor_1_facebook_likes         7\n",
       "gross                        874\n",
       "actor_1_name                   7\n",
       "movie_title                    0\n",
       "num_voted_users                0\n",
       "cast_total_facebook_likes      0\n",
       "actor_3_name                  23\n",
       "facenumber_in_poster          13\n",
       "plot_keywords                152\n",
       "movie_imdb_link                0\n",
       "num_user_for_reviews          21\n",
       "language                      12\n",
       "country                        5\n",
       "content_rating               301\n",
       "budget                       487\n",
       "actor_2_facebook_likes        13\n",
       "imdb_score                     0\n",
       "movie_facebook_likes           0\n",
       "dtype: int64"
      ]
     },
     "execution_count": 25,
     "metadata": {},
     "output_type": "execute_result"
    }
   ],
   "source": [
    "df.isnull().sum()"
   ]
  },
  {
   "cell_type": "markdown",
   "metadata": {},
   "source": [
    "The code above shows that we have a lot of missing values. Now, we must decide what to do with them."
   ]
  },
  {
   "cell_type": "markdown",
   "metadata": {},
   "source": [
    "Categories such as gross and budget are too important for our analysis, so we cannot simply remove the column. Instead, we must remove the rows with a null value in this category. Here is that code:"
   ]
  },
  {
   "cell_type": "code",
   "execution_count": 26,
   "metadata": {},
   "outputs": [],
   "source": [
    "df = df.dropna(subset=['gross'])"
   ]
  },
  {
   "cell_type": "code",
   "execution_count": 27,
   "metadata": {},
   "outputs": [
    {
     "data": {
      "text/plain": [
       "color                         2\n",
       "director_name                 0\n",
       "num_critic_for_reviews        1\n",
       "duration                      1\n",
       "director_facebook_likes       0\n",
       "actor_3_facebook_likes       10\n",
       "actor_2_name                  5\n",
       "actor_1_facebook_likes        3\n",
       "gross                         0\n",
       "actor_1_name                  3\n",
       "movie_title                   0\n",
       "num_voted_users               0\n",
       "cast_total_facebook_likes     0\n",
       "actor_3_name                 10\n",
       "facenumber_in_poster          6\n",
       "plot_keywords                31\n",
       "movie_imdb_link               0\n",
       "num_user_for_reviews          0\n",
       "language                      3\n",
       "country                       0\n",
       "content_rating               51\n",
       "budget                        0\n",
       "actor_2_facebook_likes        5\n",
       "imdb_score                    0\n",
       "movie_facebook_likes          0\n",
       "dtype: int64"
      ]
     },
     "execution_count": 27,
     "metadata": {},
     "output_type": "execute_result"
    }
   ],
   "source": [
    "df = df.dropna(subset=['budget'])\n",
    "df.isnull().sum()"
   ]
  },
  {
   "cell_type": "markdown",
   "metadata": {},
   "source": [
    "After removing budget and gross, we still have 51 values in the content_rating category with no value. I would like to analyze rating later on, so I will remove these values too."
   ]
  },
  {
   "cell_type": "code",
   "execution_count": 28,
   "metadata": {},
   "outputs": [
    {
     "data": {
      "text/plain": [
       "color                         2\n",
       "director_name                 0\n",
       "num_critic_for_reviews        1\n",
       "duration                      0\n",
       "director_facebook_likes       0\n",
       "actor_3_facebook_likes        6\n",
       "actor_2_name                  2\n",
       "actor_1_facebook_likes        1\n",
       "gross                         0\n",
       "actor_1_name                  1\n",
       "movie_title                   0\n",
       "num_voted_users               0\n",
       "cast_total_facebook_likes     0\n",
       "actor_3_name                  6\n",
       "facenumber_in_poster          6\n",
       "plot_keywords                21\n",
       "movie_imdb_link               0\n",
       "num_user_for_reviews          0\n",
       "language                      2\n",
       "country                       0\n",
       "content_rating                0\n",
       "budget                        0\n",
       "actor_2_facebook_likes        2\n",
       "imdb_score                    0\n",
       "movie_facebook_likes          0\n",
       "dtype: int64"
      ]
     },
     "execution_count": 28,
     "metadata": {},
     "output_type": "execute_result"
    }
   ],
   "source": [
    "df = df.dropna(subset=['content_rating'])\n",
    "df.isnull().sum()"
   ]
  },
  {
   "cell_type": "markdown",
   "metadata": {},
   "source": [
    "Now we will create some useful new variables. First up is profit:"
   ]
  },
  {
   "cell_type": "code",
   "execution_count": 29,
   "metadata": {},
   "outputs": [
    {
     "data": {
      "text/html": [
       "<div>\n",
       "<style scoped>\n",
       "    .dataframe tbody tr th:only-of-type {\n",
       "        vertical-align: middle;\n",
       "    }\n",
       "\n",
       "    .dataframe tbody tr th {\n",
       "        vertical-align: top;\n",
       "    }\n",
       "\n",
       "    .dataframe thead th {\n",
       "        text-align: right;\n",
       "    }\n",
       "</style>\n",
       "<table border=\"1\" class=\"dataframe\">\n",
       "  <thead>\n",
       "    <tr style=\"text-align: right;\">\n",
       "      <th></th>\n",
       "      <th>color</th>\n",
       "      <th>director_name</th>\n",
       "      <th>num_critic_for_reviews</th>\n",
       "      <th>duration</th>\n",
       "      <th>director_facebook_likes</th>\n",
       "      <th>actor_3_facebook_likes</th>\n",
       "      <th>actor_2_name</th>\n",
       "      <th>actor_1_facebook_likes</th>\n",
       "      <th>gross</th>\n",
       "      <th>actor_1_name</th>\n",
       "      <th>movie_title</th>\n",
       "      <th>num_voted_users</th>\n",
       "      <th>cast_total_facebook_likes</th>\n",
       "      <th>actor_3_name</th>\n",
       "      <th>facenumber_in_poster</th>\n",
       "      <th>plot_keywords</th>\n",
       "      <th>movie_imdb_link</th>\n",
       "      <th>num_user_for_reviews</th>\n",
       "      <th>language</th>\n",
       "      <th>country</th>\n",
       "      <th>content_rating</th>\n",
       "      <th>budget</th>\n",
       "      <th>actor_2_facebook_likes</th>\n",
       "      <th>imdb_score</th>\n",
       "      <th>movie_facebook_likes</th>\n",
       "      <th>Profit</th>\n",
       "    </tr>\n",
       "  </thead>\n",
       "  <tbody>\n",
       "    <tr>\n",
       "      <th>0</th>\n",
       "      <td>Color</td>\n",
       "      <td>James Cameron</td>\n",
       "      <td>723.0</td>\n",
       "      <td>178.0</td>\n",
       "      <td>0.0</td>\n",
       "      <td>855.0</td>\n",
       "      <td>Joel David Moore</td>\n",
       "      <td>1000.0</td>\n",
       "      <td>760505847.0</td>\n",
       "      <td>CCH Pounder</td>\n",
       "      <td>Avatar</td>\n",
       "      <td>886204</td>\n",
       "      <td>4834</td>\n",
       "      <td>Wes Studi</td>\n",
       "      <td>0.0</td>\n",
       "      <td>avatar|future|marine|native|paraplegic</td>\n",
       "      <td>http://www.imdb.com/title/tt0499549/?ref_=fn_t...</td>\n",
       "      <td>3054.0</td>\n",
       "      <td>English</td>\n",
       "      <td>USA</td>\n",
       "      <td>PG-13</td>\n",
       "      <td>237000000.0</td>\n",
       "      <td>936.0</td>\n",
       "      <td>7.9</td>\n",
       "      <td>33000</td>\n",
       "      <td>523505847.0</td>\n",
       "    </tr>\n",
       "  </tbody>\n",
       "</table>\n",
       "</div>"
      ],
      "text/plain": [
       "   color  director_name  num_critic_for_reviews  duration  \\\n",
       "0  Color  James Cameron                   723.0     178.0   \n",
       "\n",
       "   director_facebook_likes  actor_3_facebook_likes      actor_2_name  \\\n",
       "0                      0.0                   855.0  Joel David Moore   \n",
       "\n",
       "   actor_1_facebook_likes        gross actor_1_name movie_title  \\\n",
       "0                  1000.0  760505847.0  CCH Pounder     Avatar    \n",
       "\n",
       "   num_voted_users  cast_total_facebook_likes actor_3_name  \\\n",
       "0           886204                       4834    Wes Studi   \n",
       "\n",
       "   facenumber_in_poster                           plot_keywords  \\\n",
       "0                   0.0  avatar|future|marine|native|paraplegic   \n",
       "\n",
       "                                     movie_imdb_link  num_user_for_reviews  \\\n",
       "0  http://www.imdb.com/title/tt0499549/?ref_=fn_t...                3054.0   \n",
       "\n",
       "  language country content_rating       budget  actor_2_facebook_likes  \\\n",
       "0  English     USA          PG-13  237000000.0                   936.0   \n",
       "\n",
       "   imdb_score  movie_facebook_likes       Profit  \n",
       "0         7.9                 33000  523505847.0  "
      ]
     },
     "execution_count": 29,
     "metadata": {},
     "output_type": "execute_result"
    }
   ],
   "source": [
    "df['Profit'] = df['gross'] - df['budget']\n",
    "df.head(1)"
   ]
  },
  {
   "cell_type": "markdown",
   "metadata": {},
   "source": [
    "Next is return on investment, or ROI."
   ]
  },
  {
   "cell_type": "code",
   "execution_count": 30,
   "metadata": {},
   "outputs": [
    {
     "data": {
      "text/html": [
       "<div>\n",
       "<style scoped>\n",
       "    .dataframe tbody tr th:only-of-type {\n",
       "        vertical-align: middle;\n",
       "    }\n",
       "\n",
       "    .dataframe tbody tr th {\n",
       "        vertical-align: top;\n",
       "    }\n",
       "\n",
       "    .dataframe thead th {\n",
       "        text-align: right;\n",
       "    }\n",
       "</style>\n",
       "<table border=\"1\" class=\"dataframe\">\n",
       "  <thead>\n",
       "    <tr style=\"text-align: right;\">\n",
       "      <th></th>\n",
       "      <th>color</th>\n",
       "      <th>director_name</th>\n",
       "      <th>num_critic_for_reviews</th>\n",
       "      <th>duration</th>\n",
       "      <th>director_facebook_likes</th>\n",
       "      <th>actor_3_facebook_likes</th>\n",
       "      <th>actor_2_name</th>\n",
       "      <th>actor_1_facebook_likes</th>\n",
       "      <th>gross</th>\n",
       "      <th>actor_1_name</th>\n",
       "      <th>movie_title</th>\n",
       "      <th>num_voted_users</th>\n",
       "      <th>cast_total_facebook_likes</th>\n",
       "      <th>actor_3_name</th>\n",
       "      <th>facenumber_in_poster</th>\n",
       "      <th>plot_keywords</th>\n",
       "      <th>movie_imdb_link</th>\n",
       "      <th>num_user_for_reviews</th>\n",
       "      <th>language</th>\n",
       "      <th>country</th>\n",
       "      <th>content_rating</th>\n",
       "      <th>budget</th>\n",
       "      <th>actor_2_facebook_likes</th>\n",
       "      <th>imdb_score</th>\n",
       "      <th>movie_facebook_likes</th>\n",
       "      <th>Profit</th>\n",
       "      <th>ROI</th>\n",
       "    </tr>\n",
       "  </thead>\n",
       "  <tbody>\n",
       "    <tr>\n",
       "      <th>0</th>\n",
       "      <td>Color</td>\n",
       "      <td>James Cameron</td>\n",
       "      <td>723.0</td>\n",
       "      <td>178.0</td>\n",
       "      <td>0.0</td>\n",
       "      <td>855.0</td>\n",
       "      <td>Joel David Moore</td>\n",
       "      <td>1000.0</td>\n",
       "      <td>760505847.0</td>\n",
       "      <td>CCH Pounder</td>\n",
       "      <td>Avatar</td>\n",
       "      <td>886204</td>\n",
       "      <td>4834</td>\n",
       "      <td>Wes Studi</td>\n",
       "      <td>0.0</td>\n",
       "      <td>avatar|future|marine|native|paraplegic</td>\n",
       "      <td>http://www.imdb.com/title/tt0499549/?ref_=fn_t...</td>\n",
       "      <td>3054.0</td>\n",
       "      <td>English</td>\n",
       "      <td>USA</td>\n",
       "      <td>PG-13</td>\n",
       "      <td>237000000.0</td>\n",
       "      <td>936.0</td>\n",
       "      <td>7.9</td>\n",
       "      <td>33000</td>\n",
       "      <td>523505847.0</td>\n",
       "      <td>2.208885</td>\n",
       "    </tr>\n",
       "  </tbody>\n",
       "</table>\n",
       "</div>"
      ],
      "text/plain": [
       "   color  director_name  num_critic_for_reviews  duration  \\\n",
       "0  Color  James Cameron                   723.0     178.0   \n",
       "\n",
       "   director_facebook_likes  actor_3_facebook_likes      actor_2_name  \\\n",
       "0                      0.0                   855.0  Joel David Moore   \n",
       "\n",
       "   actor_1_facebook_likes        gross actor_1_name movie_title  \\\n",
       "0                  1000.0  760505847.0  CCH Pounder     Avatar    \n",
       "\n",
       "   num_voted_users  cast_total_facebook_likes actor_3_name  \\\n",
       "0           886204                       4834    Wes Studi   \n",
       "\n",
       "   facenumber_in_poster                           plot_keywords  \\\n",
       "0                   0.0  avatar|future|marine|native|paraplegic   \n",
       "\n",
       "                                     movie_imdb_link  num_user_for_reviews  \\\n",
       "0  http://www.imdb.com/title/tt0499549/?ref_=fn_t...                3054.0   \n",
       "\n",
       "  language country content_rating       budget  actor_2_facebook_likes  \\\n",
       "0  English     USA          PG-13  237000000.0                   936.0   \n",
       "\n",
       "   imdb_score  movie_facebook_likes       Profit       ROI  \n",
       "0         7.9                 33000  523505847.0  2.208885  "
      ]
     },
     "execution_count": 30,
     "metadata": {},
     "output_type": "execute_result"
    }
   ],
   "source": [
    "df['ROI'] = df['Profit']/df['budget']\n",
    "df.head(1)"
   ]
  },
  {
   "cell_type": "markdown",
   "metadata": {},
   "source": [
    "We also need to transform a the content-rating variable. We need to convert this to a number format. The code is below:"
   ]
  },
  {
   "cell_type": "code",
   "execution_count": 31,
   "metadata": {},
   "outputs": [
    {
     "data": {
      "text/html": [
       "<div>\n",
       "<style scoped>\n",
       "    .dataframe tbody tr th:only-of-type {\n",
       "        vertical-align: middle;\n",
       "    }\n",
       "\n",
       "    .dataframe tbody tr th {\n",
       "        vertical-align: top;\n",
       "    }\n",
       "\n",
       "    .dataframe thead th {\n",
       "        text-align: right;\n",
       "    }\n",
       "</style>\n",
       "<table border=\"1\" class=\"dataframe\">\n",
       "  <thead>\n",
       "    <tr style=\"text-align: right;\">\n",
       "      <th></th>\n",
       "      <th>color</th>\n",
       "      <th>director_name</th>\n",
       "      <th>num_critic_for_reviews</th>\n",
       "      <th>duration</th>\n",
       "      <th>director_facebook_likes</th>\n",
       "      <th>actor_3_facebook_likes</th>\n",
       "      <th>actor_2_name</th>\n",
       "      <th>actor_1_facebook_likes</th>\n",
       "      <th>gross</th>\n",
       "      <th>actor_1_name</th>\n",
       "      <th>movie_title</th>\n",
       "      <th>num_voted_users</th>\n",
       "      <th>cast_total_facebook_likes</th>\n",
       "      <th>actor_3_name</th>\n",
       "      <th>facenumber_in_poster</th>\n",
       "      <th>plot_keywords</th>\n",
       "      <th>movie_imdb_link</th>\n",
       "      <th>num_user_for_reviews</th>\n",
       "      <th>language</th>\n",
       "      <th>country</th>\n",
       "      <th>content_rating</th>\n",
       "      <th>budget</th>\n",
       "      <th>actor_2_facebook_likes</th>\n",
       "      <th>imdb_score</th>\n",
       "      <th>movie_facebook_likes</th>\n",
       "      <th>Profit</th>\n",
       "      <th>ROI</th>\n",
       "    </tr>\n",
       "  </thead>\n",
       "  <tbody>\n",
       "    <tr>\n",
       "      <th>0</th>\n",
       "      <td>Color</td>\n",
       "      <td>James Cameron</td>\n",
       "      <td>723.0</td>\n",
       "      <td>178.0</td>\n",
       "      <td>0.0</td>\n",
       "      <td>855.0</td>\n",
       "      <td>Joel David Moore</td>\n",
       "      <td>1000.0</td>\n",
       "      <td>760505847.0</td>\n",
       "      <td>CCH Pounder</td>\n",
       "      <td>Avatar</td>\n",
       "      <td>886204</td>\n",
       "      <td>4834</td>\n",
       "      <td>Wes Studi</td>\n",
       "      <td>0.0</td>\n",
       "      <td>avatar|future|marine|native|paraplegic</td>\n",
       "      <td>http://www.imdb.com/title/tt0499549/?ref_=fn_t...</td>\n",
       "      <td>3054.0</td>\n",
       "      <td>English</td>\n",
       "      <td>USA</td>\n",
       "      <td>3.0</td>\n",
       "      <td>237000000.0</td>\n",
       "      <td>936.0</td>\n",
       "      <td>7.9</td>\n",
       "      <td>33000</td>\n",
       "      <td>523505847.0</td>\n",
       "      <td>2.208885</td>\n",
       "    </tr>\n",
       "  </tbody>\n",
       "</table>\n",
       "</div>"
      ],
      "text/plain": [
       "   color  director_name  num_critic_for_reviews  duration  \\\n",
       "0  Color  James Cameron                   723.0     178.0   \n",
       "\n",
       "   director_facebook_likes  actor_3_facebook_likes      actor_2_name  \\\n",
       "0                      0.0                   855.0  Joel David Moore   \n",
       "\n",
       "   actor_1_facebook_likes        gross actor_1_name movie_title  \\\n",
       "0                  1000.0  760505847.0  CCH Pounder     Avatar    \n",
       "\n",
       "   num_voted_users  cast_total_facebook_likes actor_3_name  \\\n",
       "0           886204                       4834    Wes Studi   \n",
       "\n",
       "   facenumber_in_poster                           plot_keywords  \\\n",
       "0                   0.0  avatar|future|marine|native|paraplegic   \n",
       "\n",
       "                                     movie_imdb_link  num_user_for_reviews  \\\n",
       "0  http://www.imdb.com/title/tt0499549/?ref_=fn_t...                3054.0   \n",
       "\n",
       "  language country  content_rating       budget  actor_2_facebook_likes  \\\n",
       "0  English     USA             3.0  237000000.0                   936.0   \n",
       "\n",
       "   imdb_score  movie_facebook_likes       Profit       ROI  \n",
       "0         7.9                 33000  523505847.0  2.208885  "
      ]
     },
     "execution_count": 31,
     "metadata": {},
     "output_type": "execute_result"
    }
   ],
   "source": [
    "df['content_rating'] = df['content_rating'].map({'G': 1, 'PG': 2, 'PG-13':3, 'R':4})\n",
    "df.head(1)"
   ]
  },
  {
   "cell_type": "markdown",
   "metadata": {},
   "source": [
    "Now we are ready to move on the Business Intelligence and Correlation Analysis portions of the project."
   ]
  },
  {
   "cell_type": "markdown",
   "metadata": {},
   "source": [
    "<h2>Part 4 - Business Intelligence </h2>"
   ]
  },
  {
   "cell_type": "markdown",
   "metadata": {},
   "source": [
    "Now it's time to do some analysis. I'll begin by visualizing part of the data to get a better sense of what's going on."
   ]
  },
  {
   "cell_type": "code",
   "execution_count": 32,
   "metadata": {},
   "outputs": [
    {
     "data": {
      "text/plain": [
       "array([[<matplotlib.axes._subplots.AxesSubplot object at 0x000001F114417710>]],\n",
       "      dtype=object)"
      ]
     },
     "execution_count": 32,
     "metadata": {},
     "output_type": "execute_result"
    },
    {
     "data": {
      "image/png": "[encoded data removed]",
      "text/plain": [
       "<Figure size 432x288 with 1 Axes>"
      ]
     },
     "metadata": {
      "needs_background": "light"
     },
     "output_type": "display_data"
    }
   ],
   "source": [
    "df.hist('imdb_score')"
   ]
  },
  {
   "cell_type": "markdown",
   "metadata": {},
   "source": [
    "The imdb scores seem to have a bell-curve sort of shape. It seems like an \"average\" score for a movie is around 6 to 7."
   ]
  },
  {
   "cell_type": "code",
   "execution_count": 33,
   "metadata": {},
   "outputs": [
    {
     "data": {
      "image/png": "[encoded data removed]",
      "text/plain": [
       "<Figure size 432x288 with 1 Axes>"
      ]
     },
     "metadata": {
      "needs_background": "light"
     },
     "output_type": "display_data"
    }
   ],
   "source": [
    "plt.hist(df['gross'], label= 'Gross')\n",
    "plt.xlabel('Gross')\n",
    "plt.title('Gross')\n",
    "plt.legend();"
   ]
  },
  {
   "cell_type": "markdown",
   "metadata": {},
   "source": [
    "Most movies are in the same general ballpark for gross revenue, but there are a few that made an order of magnitude more money."
   ]
  },
  {
   "cell_type": "code",
   "execution_count": 34,
   "metadata": {},
   "outputs": [
    {
     "data": {
      "image/png": "[encoded data removed]",
      "text/plain": [
       "<Figure size 432x288 with 1 Axes>"
      ]
     },
     "metadata": {},
     "output_type": "display_data"
    }
   ],
   "source": [
    "content_rating = df.groupby('content_rating').size().reset_index()\n",
    "plt.pie(content_rating[0], labels=content_rating['content_rating']);"
   ]
  },
  {
   "cell_type": "markdown",
   "metadata": {},
   "source": [
    "Here's a pie plot breaking down content rating. Remember that G is 1, PG is 2, PG-13 is 3, and R is 4. I'm pretty surprised to see rated R movies so prevalent in the dataset."
   ]
  },
  {
   "cell_type": "code",
   "execution_count": 35,
   "metadata": {},
   "outputs": [
    {
     "data": {
      "image/png": "[encoded data removed]",
      "text/plain": [
       "<Figure size 432x288 with 1 Axes>"
      ]
     },
     "metadata": {
      "needs_background": "light"
     },
     "output_type": "display_data"
    }
   ],
   "source": [
    "sns.kdeplot(df.duration);"
   ]
  },
  {
   "cell_type": "markdown",
   "metadata": {},
   "source": [
    "Most movies seem to be around the 100 minute mark. That's not as smooth of a distribution as I was expecting. If most movies are around the same range, duration may not have a huge impact on imdb score."
   ]
  },
  {
   "cell_type": "code",
   "execution_count": 36,
   "metadata": {},
   "outputs": [
    {
     "data": {
      "image/png": "[encoded data removed]",
      "text/plain": [
       "<Figure size 432x288 with 1 Axes>"
      ]
     },
     "metadata": {
      "needs_background": "light"
     },
     "output_type": "display_data"
    }
   ],
   "source": [
    "plt.scatter(df['movie_facebook_likes'], df['imdb_score']);"
   ]
  },
  {
   "cell_type": "markdown",
   "metadata": {},
   "source": [
    "There does seem to be a generally positive relationship between facebook likes and imdb score."
   ]
  },
  {
   "cell_type": "code",
   "execution_count": 37,
   "metadata": {},
   "outputs": [
    {
     "data": {
      "image/png": "[encoded data removed]",
      "text/plain": [
       "<Figure size 432x288 with 1 Axes>"
      ]
     },
     "metadata": {
      "needs_background": "light"
     },
     "output_type": "display_data"
    }
   ],
   "source": [
    "plt.scatter(df['cast_total_facebook_likes'], df['imdb_score']);"
   ]
  },
  {
   "cell_type": "markdown",
   "metadata": {},
   "source": [
    "There may be a slight positive correlation between cast facebook likes and movie imdb score, but not much."
   ]
  },
  {
   "cell_type": "markdown",
   "metadata": {},
   "source": [
    "-------------------------------------------------------------------------------------------------------------"
   ]
  },
  {
   "cell_type": "markdown",
   "metadata": {},
   "source": [
    "Now I'll begin some groupby analysis to try and see why certain movies have higher imdb scores than others. I'm going to avoid doing this with the numerical variables because I can do a correlation analysis later on. That should be much easier and more enlightening. I'll focus here on values I can't convert to a number value, like director and actor.\n",
    "\n",
    "I'll start by making 2 groups: one with great movies, and one with terrible movies (according to imdb score)."
   ]
  },
  {
   "cell_type": "code",
   "execution_count": 38,
   "metadata": {},
   "outputs": [],
   "source": [
    "df_high = df.loc[df['imdb_score'] > 8]\n",
    "df_low = df.loc[df['imdb_score'] < 4.5]"
   ]
  },
  {
   "cell_type": "code",
   "execution_count": 39,
   "metadata": {},
   "outputs": [
    {
     "data": {
      "text/plain": [
       "3806"
      ]
     },
     "execution_count": 39,
     "metadata": {},
     "output_type": "execute_result"
    }
   ],
   "source": [
    "len(df)"
   ]
  },
  {
   "cell_type": "code",
   "execution_count": 40,
   "metadata": {},
   "outputs": [
    {
     "data": {
      "text/plain": [
       "158"
      ]
     },
     "execution_count": 40,
     "metadata": {},
     "output_type": "execute_result"
    }
   ],
   "source": [
    "len(df_high)"
   ]
  },
  {
   "cell_type": "code",
   "execution_count": 41,
   "metadata": {},
   "outputs": [
    {
     "data": {
      "text/plain": [
       "164"
      ]
     },
     "execution_count": 41,
     "metadata": {},
     "output_type": "execute_result"
    }
   ],
   "source": [
    "len(df_low)"
   ]
  },
  {
   "cell_type": "markdown",
   "metadata": {},
   "source": [
    "Now we will group by director name to see if there are some directors with lots of great or bad movies."
   ]
  },
  {
   "cell_type": "code",
   "execution_count": 42,
   "metadata": {},
   "outputs": [
    {
     "data": {
      "text/plain": [
       "director_name\n",
       "Christopher Nolan    7\n",
       "Martin Scorsese      6\n",
       "Quentin Tarantino    5\n",
       "Steven Spielberg     5\n",
       "Ridley Scott         4\n",
       "Name: imdb_score, dtype: int64"
      ]
     },
     "execution_count": 42,
     "metadata": {},
     "output_type": "execute_result"
    }
   ],
   "source": [
    "df_high.groupby('director_name')['imdb_score'].size().sort_values(ascending=False).head()"
   ]
  },
  {
   "cell_type": "code",
   "execution_count": 43,
   "metadata": {},
   "outputs": [
    {
     "data": {
      "text/plain": [
       "director_name\n",
       "Jason Friedberg          4\n",
       "Uwe Boll                 3\n",
       "Robert Rodriguez         3\n",
       "Peter Chelsom            2\n",
       "Brian Trenchard-Smith    2\n",
       "Name: imdb_score, dtype: int64"
      ]
     },
     "execution_count": 43,
     "metadata": {},
     "output_type": "execute_result"
    }
   ],
   "source": [
    "df_low.groupby('director_name')['imdb_score'].size().sort_values(ascending=False).head()"
   ]
  },
  {
   "cell_type": "markdown",
   "metadata": {},
   "source": [
    "So, if you want a good movie made, it's a good idea to pick someone from the first list, and definitely not the second. But this isn't completely foolproof, what if one of those directors has made 100 movies, and only created a few with a high score? - That would be a low success rate. Or the same for the second group, with only a few of those movies with a low score - that could mean a high success rate. We need to make sure this isn't the case. "
   ]
  },
  {
   "cell_type": "code",
   "execution_count": 44,
   "metadata": {},
   "outputs": [],
   "source": [
    "df_direc_count = df.groupby('director_name').size().sort_values(ascending=False)\n",
    "df_direc_count = df_direc_count.reset_index()"
   ]
  },
  {
   "cell_type": "code",
   "execution_count": 45,
   "metadata": {},
   "outputs": [
    {
     "data": {
      "text/html": [
       "<div>\n",
       "<style scoped>\n",
       "    .dataframe tbody tr th:only-of-type {\n",
       "        vertical-align: middle;\n",
       "    }\n",
       "\n",
       "    .dataframe tbody tr th {\n",
       "        vertical-align: top;\n",
       "    }\n",
       "\n",
       "    .dataframe thead th {\n",
       "        text-align: right;\n",
       "    }\n",
       "</style>\n",
       "<table border=\"1\" class=\"dataframe\">\n",
       "  <thead>\n",
       "    <tr style=\"text-align: right;\">\n",
       "      <th></th>\n",
       "      <th>director_name</th>\n",
       "      <th>0</th>\n",
       "    </tr>\n",
       "  </thead>\n",
       "  <tbody>\n",
       "    <tr>\n",
       "      <th>0</th>\n",
       "      <td>Steven Spielberg</td>\n",
       "      <td>25</td>\n",
       "    </tr>\n",
       "    <tr>\n",
       "      <th>1</th>\n",
       "      <td>Woody Allen</td>\n",
       "      <td>19</td>\n",
       "    </tr>\n",
       "    <tr>\n",
       "      <th>2</th>\n",
       "      <td>Clint Eastwood</td>\n",
       "      <td>19</td>\n",
       "    </tr>\n",
       "    <tr>\n",
       "      <th>3</th>\n",
       "      <td>Ridley Scott</td>\n",
       "      <td>17</td>\n",
       "    </tr>\n",
       "    <tr>\n",
       "      <th>4</th>\n",
       "      <td>Martin Scorsese</td>\n",
       "      <td>16</td>\n",
       "    </tr>\n",
       "  </tbody>\n",
       "</table>\n",
       "</div>"
      ],
      "text/plain": [
       "      director_name   0\n",
       "0  Steven Spielberg  25\n",
       "1       Woody Allen  19\n",
       "2    Clint Eastwood  19\n",
       "3      Ridley Scott  17\n",
       "4   Martin Scorsese  16"
      ]
     },
     "execution_count": 45,
     "metadata": {},
     "output_type": "execute_result"
    }
   ],
   "source": [
    "df_direc_count.head()"
   ]
  },
  {
   "cell_type": "code",
   "execution_count": 46,
   "metadata": {},
   "outputs": [],
   "source": [
    " df_direc_count = df_direc_count.rename(columns={0: \"Count\"})"
   ]
  },
  {
   "cell_type": "code",
   "execution_count": 47,
   "metadata": {},
   "outputs": [
    {
     "data": {
      "text/html": [
       "<div>\n",
       "<style scoped>\n",
       "    .dataframe tbody tr th:only-of-type {\n",
       "        vertical-align: middle;\n",
       "    }\n",
       "\n",
       "    .dataframe tbody tr th {\n",
       "        vertical-align: top;\n",
       "    }\n",
       "\n",
       "    .dataframe thead th {\n",
       "        text-align: right;\n",
       "    }\n",
       "</style>\n",
       "<table border=\"1\" class=\"dataframe\">\n",
       "  <thead>\n",
       "    <tr style=\"text-align: right;\">\n",
       "      <th></th>\n",
       "      <th>director_name</th>\n",
       "      <th>Count</th>\n",
       "    </tr>\n",
       "  </thead>\n",
       "  <tbody>\n",
       "    <tr>\n",
       "      <th>0</th>\n",
       "      <td>Steven Spielberg</td>\n",
       "      <td>25</td>\n",
       "    </tr>\n",
       "    <tr>\n",
       "      <th>1</th>\n",
       "      <td>Woody Allen</td>\n",
       "      <td>19</td>\n",
       "    </tr>\n",
       "    <tr>\n",
       "      <th>2</th>\n",
       "      <td>Clint Eastwood</td>\n",
       "      <td>19</td>\n",
       "    </tr>\n",
       "    <tr>\n",
       "      <th>3</th>\n",
       "      <td>Ridley Scott</td>\n",
       "      <td>17</td>\n",
       "    </tr>\n",
       "    <tr>\n",
       "      <th>4</th>\n",
       "      <td>Martin Scorsese</td>\n",
       "      <td>16</td>\n",
       "    </tr>\n",
       "  </tbody>\n",
       "</table>\n",
       "</div>"
      ],
      "text/plain": [
       "      director_name  Count\n",
       "0  Steven Spielberg     25\n",
       "1       Woody Allen     19\n",
       "2    Clint Eastwood     19\n",
       "3      Ridley Scott     17\n",
       "4   Martin Scorsese     16"
      ]
     },
     "execution_count": 47,
     "metadata": {},
     "output_type": "execute_result"
    }
   ],
   "source": [
    "df_direc_count.head()"
   ]
  },
  {
   "cell_type": "markdown",
   "metadata": {},
   "source": [
    "The above code has given us each director and their number of movies directed in 1 dataframe. The code below will sort out everyone with fewer than 5 movies made."
   ]
  },
  {
   "cell_type": "code",
   "execution_count": 48,
   "metadata": {},
   "outputs": [],
   "source": [
    "df_direc_count5= df_direc_count[df_direc_count.Count >= 5]"
   ]
  },
  {
   "cell_type": "markdown",
   "metadata": {},
   "source": [
    "The join below will merge the directors with more than 5 movies made with our main dataset. This will eliminate those with under 5 movies made. Then we can sort by average imdb score."
   ]
  },
  {
   "cell_type": "code",
   "execution_count": 49,
   "metadata": {},
   "outputs": [
    {
     "data": {
      "text/html": [
       "<div>\n",
       "<style scoped>\n",
       "    .dataframe tbody tr th:only-of-type {\n",
       "        vertical-align: middle;\n",
       "    }\n",
       "\n",
       "    .dataframe tbody tr th {\n",
       "        vertical-align: top;\n",
       "    }\n",
       "\n",
       "    .dataframe thead th {\n",
       "        text-align: right;\n",
       "    }\n",
       "</style>\n",
       "<table border=\"1\" class=\"dataframe\">\n",
       "  <thead>\n",
       "    <tr style=\"text-align: right;\">\n",
       "      <th></th>\n",
       "      <th>color</th>\n",
       "      <th>director_name</th>\n",
       "      <th>num_critic_for_reviews</th>\n",
       "      <th>duration</th>\n",
       "      <th>director_facebook_likes</th>\n",
       "      <th>actor_3_facebook_likes</th>\n",
       "      <th>actor_2_name</th>\n",
       "      <th>actor_1_facebook_likes</th>\n",
       "      <th>gross</th>\n",
       "      <th>actor_1_name</th>\n",
       "      <th>movie_title</th>\n",
       "      <th>num_voted_users</th>\n",
       "      <th>cast_total_facebook_likes</th>\n",
       "      <th>actor_3_name</th>\n",
       "      <th>facenumber_in_poster</th>\n",
       "      <th>plot_keywords</th>\n",
       "      <th>movie_imdb_link</th>\n",
       "      <th>num_user_for_reviews</th>\n",
       "      <th>language</th>\n",
       "      <th>country</th>\n",
       "      <th>content_rating</th>\n",
       "      <th>budget</th>\n",
       "      <th>actor_2_facebook_likes</th>\n",
       "      <th>imdb_score</th>\n",
       "      <th>movie_facebook_likes</th>\n",
       "      <th>Profit</th>\n",
       "      <th>ROI</th>\n",
       "      <th>Count</th>\n",
       "    </tr>\n",
       "  </thead>\n",
       "  <tbody>\n",
       "    <tr>\n",
       "      <th>0</th>\n",
       "      <td>Color</td>\n",
       "      <td>James Cameron</td>\n",
       "      <td>723.0</td>\n",
       "      <td>178.0</td>\n",
       "      <td>0.0</td>\n",
       "      <td>855.0</td>\n",
       "      <td>Joel David Moore</td>\n",
       "      <td>1000.0</td>\n",
       "      <td>760505847.0</td>\n",
       "      <td>CCH Pounder</td>\n",
       "      <td>Avatar</td>\n",
       "      <td>886204</td>\n",
       "      <td>4834</td>\n",
       "      <td>Wes Studi</td>\n",
       "      <td>0.0</td>\n",
       "      <td>avatar|future|marine|native|paraplegic</td>\n",
       "      <td>http://www.imdb.com/title/tt0499549/?ref_=fn_t...</td>\n",
       "      <td>3054.0</td>\n",
       "      <td>English</td>\n",
       "      <td>USA</td>\n",
       "      <td>3.0</td>\n",
       "      <td>237000000.0</td>\n",
       "      <td>936.0</td>\n",
       "      <td>7.9</td>\n",
       "      <td>33000</td>\n",
       "      <td>523505847.0</td>\n",
       "      <td>2.208885</td>\n",
       "      <td>7</td>\n",
       "    </tr>\n",
       "    <tr>\n",
       "      <th>1</th>\n",
       "      <td>Color</td>\n",
       "      <td>James Cameron</td>\n",
       "      <td>315.0</td>\n",
       "      <td>194.0</td>\n",
       "      <td>0.0</td>\n",
       "      <td>794.0</td>\n",
       "      <td>Kate Winslet</td>\n",
       "      <td>29000.0</td>\n",
       "      <td>658672302.0</td>\n",
       "      <td>Leonardo DiCaprio</td>\n",
       "      <td>Titanic</td>\n",
       "      <td>793059</td>\n",
       "      <td>45223</td>\n",
       "      <td>Gloria Stuart</td>\n",
       "      <td>0.0</td>\n",
       "      <td>artist|love|ship|titanic|wet</td>\n",
       "      <td>http://www.imdb.com/title/tt0120338/?ref_=fn_t...</td>\n",
       "      <td>2528.0</td>\n",
       "      <td>English</td>\n",
       "      <td>USA</td>\n",
       "      <td>3.0</td>\n",
       "      <td>200000000.0</td>\n",
       "      <td>14000.0</td>\n",
       "      <td>7.7</td>\n",
       "      <td>26000</td>\n",
       "      <td>458672302.0</td>\n",
       "      <td>2.293362</td>\n",
       "      <td>7</td>\n",
       "    </tr>\n",
       "    <tr>\n",
       "      <th>2</th>\n",
       "      <td>Color</td>\n",
       "      <td>James Cameron</td>\n",
       "      <td>210.0</td>\n",
       "      <td>153.0</td>\n",
       "      <td>0.0</td>\n",
       "      <td>539.0</td>\n",
       "      <td>Jenette Goldstein</td>\n",
       "      <td>780.0</td>\n",
       "      <td>204843350.0</td>\n",
       "      <td>Joe Morton</td>\n",
       "      <td>Terminator 2: Judgment Day</td>\n",
       "      <td>744891</td>\n",
       "      <td>2829</td>\n",
       "      <td>S. Epatha Merkerson</td>\n",
       "      <td>0.0</td>\n",
       "      <td>future|liquid metal|multiple cameos|sexy woman...</td>\n",
       "      <td>http://www.imdb.com/title/tt0103064/?ref_=fn_t...</td>\n",
       "      <td>983.0</td>\n",
       "      <td>English</td>\n",
       "      <td>USA</td>\n",
       "      <td>4.0</td>\n",
       "      <td>102000000.0</td>\n",
       "      <td>604.0</td>\n",
       "      <td>8.5</td>\n",
       "      <td>13000</td>\n",
       "      <td>102843350.0</td>\n",
       "      <td>1.008268</td>\n",
       "      <td>7</td>\n",
       "    </tr>\n",
       "    <tr>\n",
       "      <th>3</th>\n",
       "      <td>Color</td>\n",
       "      <td>James Cameron</td>\n",
       "      <td>94.0</td>\n",
       "      <td>141.0</td>\n",
       "      <td>0.0</td>\n",
       "      <td>618.0</td>\n",
       "      <td>Tia Carrere</td>\n",
       "      <td>2000.0</td>\n",
       "      <td>146282411.0</td>\n",
       "      <td>Jamie Lee Curtis</td>\n",
       "      <td>True Lies</td>\n",
       "      <td>190439</td>\n",
       "      <td>4528</td>\n",
       "      <td>Tom Arnold</td>\n",
       "      <td>0.0</td>\n",
       "      <td>espionage|secret agent|secret mission|spy|spy ...</td>\n",
       "      <td>http://www.imdb.com/title/tt0111503/?ref_=fn_t...</td>\n",
       "      <td>351.0</td>\n",
       "      <td>English</td>\n",
       "      <td>USA</td>\n",
       "      <td>4.0</td>\n",
       "      <td>115000000.0</td>\n",
       "      <td>1000.0</td>\n",
       "      <td>7.2</td>\n",
       "      <td>0</td>\n",
       "      <td>31282411.0</td>\n",
       "      <td>0.272021</td>\n",
       "      <td>7</td>\n",
       "    </tr>\n",
       "    <tr>\n",
       "      <th>4</th>\n",
       "      <td>Color</td>\n",
       "      <td>James Cameron</td>\n",
       "      <td>82.0</td>\n",
       "      <td>171.0</td>\n",
       "      <td>0.0</td>\n",
       "      <td>638.0</td>\n",
       "      <td>Todd Graff</td>\n",
       "      <td>2000.0</td>\n",
       "      <td>54222000.0</td>\n",
       "      <td>Michael Biehn</td>\n",
       "      <td>The Abyss</td>\n",
       "      <td>131217</td>\n",
       "      <td>4074</td>\n",
       "      <td>Mary Elizabeth Mastrantonio</td>\n",
       "      <td>0.0</td>\n",
       "      <td>alien|estranged couple|ocean|submarine|underwater</td>\n",
       "      <td>http://www.imdb.com/title/tt0096754/?ref_=fn_t...</td>\n",
       "      <td>380.0</td>\n",
       "      <td>English</td>\n",
       "      <td>USA</td>\n",
       "      <td>3.0</td>\n",
       "      <td>69500000.0</td>\n",
       "      <td>650.0</td>\n",
       "      <td>7.6</td>\n",
       "      <td>0</td>\n",
       "      <td>-15278000.0</td>\n",
       "      <td>-0.219827</td>\n",
       "      <td>7</td>\n",
       "    </tr>\n",
       "  </tbody>\n",
       "</table>\n",
       "</div>"
      ],
      "text/plain": [
       "   color  director_name  num_critic_for_reviews  duration  \\\n",
       "0  Color  James Cameron                   723.0     178.0   \n",
       "1  Color  James Cameron                   315.0     194.0   \n",
       "2  Color  James Cameron                   210.0     153.0   \n",
       "3  Color  James Cameron                    94.0     141.0   \n",
       "4  Color  James Cameron                    82.0     171.0   \n",
       "\n",
       "   director_facebook_likes  actor_3_facebook_likes       actor_2_name  \\\n",
       "0                      0.0                   855.0   Joel David Moore   \n",
       "1                      0.0                   794.0       Kate Winslet   \n",
       "2                      0.0                   539.0  Jenette Goldstein   \n",
       "3                      0.0                   618.0        Tia Carrere   \n",
       "4                      0.0                   638.0         Todd Graff   \n",
       "\n",
       "   actor_1_facebook_likes        gross       actor_1_name  \\\n",
       "0                  1000.0  760505847.0        CCH Pounder   \n",
       "1                 29000.0  658672302.0  Leonardo DiCaprio   \n",
       "2                   780.0  204843350.0         Joe Morton   \n",
       "3                  2000.0  146282411.0   Jamie Lee Curtis   \n",
       "4                  2000.0   54222000.0      Michael Biehn   \n",
       "\n",
       "                   movie_title  num_voted_users  cast_total_facebook_likes  \\\n",
       "0                      Avatar            886204                       4834   \n",
       "1                     Titanic            793059                      45223   \n",
       "2  Terminator 2: Judgment Day            744891                       2829   \n",
       "3                   True Lies            190439                       4528   \n",
       "4                   The Abyss            131217                       4074   \n",
       "\n",
       "                  actor_3_name  facenumber_in_poster  \\\n",
       "0                    Wes Studi                   0.0   \n",
       "1                Gloria Stuart                   0.0   \n",
       "2          S. Epatha Merkerson                   0.0   \n",
       "3                   Tom Arnold                   0.0   \n",
       "4  Mary Elizabeth Mastrantonio                   0.0   \n",
       "\n",
       "                                       plot_keywords  \\\n",
       "0             avatar|future|marine|native|paraplegic   \n",
       "1                       artist|love|ship|titanic|wet   \n",
       "2  future|liquid metal|multiple cameos|sexy woman...   \n",
       "3  espionage|secret agent|secret mission|spy|spy ...   \n",
       "4  alien|estranged couple|ocean|submarine|underwater   \n",
       "\n",
       "                                     movie_imdb_link  num_user_for_reviews  \\\n",
       "0  http://www.imdb.com/title/tt0499549/?ref_=fn_t...                3054.0   \n",
       "1  http://www.imdb.com/title/tt0120338/?ref_=fn_t...                2528.0   \n",
       "2  http://www.imdb.com/title/tt0103064/?ref_=fn_t...                 983.0   \n",
       "3  http://www.imdb.com/title/tt0111503/?ref_=fn_t...                 351.0   \n",
       "4  http://www.imdb.com/title/tt0096754/?ref_=fn_t...                 380.0   \n",
       "\n",
       "  language country  content_rating       budget  actor_2_facebook_likes  \\\n",
       "0  English     USA             3.0  237000000.0                   936.0   \n",
       "1  English     USA             3.0  200000000.0                 14000.0   \n",
       "2  English     USA             4.0  102000000.0                   604.0   \n",
       "3  English     USA             4.0  115000000.0                  1000.0   \n",
       "4  English     USA             3.0   69500000.0                   650.0   \n",
       "\n",
       "   imdb_score  movie_facebook_likes       Profit       ROI  Count  \n",
       "0         7.9                 33000  523505847.0  2.208885      7  \n",
       "1         7.7                 26000  458672302.0  2.293362      7  \n",
       "2         8.5                 13000  102843350.0  1.008268      7  \n",
       "3         7.2                     0   31282411.0  0.272021      7  \n",
       "4         7.6                     0  -15278000.0 -0.219827      7  "
      ]
     },
     "execution_count": 49,
     "metadata": {},
     "output_type": "execute_result"
    }
   ],
   "source": [
    "df_success_director = df.merge(df_direc_count5, on='director_name', how='inner')\n",
    "df_success_director.head()"
   ]
  },
  {
   "cell_type": "code",
   "execution_count": 50,
   "metadata": {},
   "outputs": [
    {
     "data": {
      "image/png": "[encoded data removed]",
      "text/plain": [
       "<Figure size 432x288 with 1 Axes>"
      ]
     },
     "metadata": {
      "needs_background": "light"
     },
     "output_type": "display_data"
    }
   ],
   "source": [
    "df_success_director.groupby('director_name')['imdb_score'].mean().sort_values(ascending=False).head(10).plot(kind='bar');"
   ]
  },
  {
   "cell_type": "markdown",
   "metadata": {},
   "source": [
    "There we have it, these 10 directors above have the highest average imdb score of those with more than 5 movies made. If you were a production company, you'd want to hire one of these people to direct your movie. We can also run this again and sort differently, showing us the worst directors. You would not want to hire them. The code is below:"
   ]
  },
  {
   "cell_type": "code",
   "execution_count": 51,
   "metadata": {},
   "outputs": [
    {
     "data": {
      "image/png": "[encoded data removed]",
      "text/plain": [
       "<Figure size 432x288 with 1 Axes>"
      ]
     },
     "metadata": {
      "needs_background": "light"
     },
     "output_type": "display_data"
    }
   ],
   "source": [
    "df_success_director.groupby('director_name')['imdb_score'].mean().sort_values().head(10).plot(kind='bar');"
   ]
  },
  {
   "cell_type": "markdown",
   "metadata": {},
   "source": [
    "Next, I'll be looking at actors, using mostly the same method. We'll start with main actors."
   ]
  },
  {
   "cell_type": "code",
   "execution_count": 52,
   "metadata": {},
   "outputs": [],
   "source": [
    "df_actor1_count = df.groupby('actor_1_name').size().sort_values(ascending=False)\n",
    "df_actor1_count = df_actor1_count.reset_index()"
   ]
  },
  {
   "cell_type": "code",
   "execution_count": 53,
   "metadata": {},
   "outputs": [
    {
     "data": {
      "text/html": [
       "<div>\n",
       "<style scoped>\n",
       "    .dataframe tbody tr th:only-of-type {\n",
       "        vertical-align: middle;\n",
       "    }\n",
       "\n",
       "    .dataframe tbody tr th {\n",
       "        vertical-align: top;\n",
       "    }\n",
       "\n",
       "    .dataframe thead th {\n",
       "        text-align: right;\n",
       "    }\n",
       "</style>\n",
       "<table border=\"1\" class=\"dataframe\">\n",
       "  <thead>\n",
       "    <tr style=\"text-align: right;\">\n",
       "      <th></th>\n",
       "      <th>actor_1_name</th>\n",
       "      <th>0</th>\n",
       "    </tr>\n",
       "  </thead>\n",
       "  <tbody>\n",
       "    <tr>\n",
       "      <th>0</th>\n",
       "      <td>Robert De Niro</td>\n",
       "      <td>42</td>\n",
       "    </tr>\n",
       "    <tr>\n",
       "      <th>1</th>\n",
       "      <td>Johnny Depp</td>\n",
       "      <td>38</td>\n",
       "    </tr>\n",
       "    <tr>\n",
       "      <th>2</th>\n",
       "      <td>J.K. Simmons</td>\n",
       "      <td>31</td>\n",
       "    </tr>\n",
       "    <tr>\n",
       "      <th>3</th>\n",
       "      <td>Nicolas Cage</td>\n",
       "      <td>30</td>\n",
       "    </tr>\n",
       "    <tr>\n",
       "      <th>4</th>\n",
       "      <td>Denzel Washington</td>\n",
       "      <td>30</td>\n",
       "    </tr>\n",
       "  </tbody>\n",
       "</table>\n",
       "</div>"
      ],
      "text/plain": [
       "        actor_1_name   0\n",
       "0     Robert De Niro  42\n",
       "1        Johnny Depp  38\n",
       "2       J.K. Simmons  31\n",
       "3       Nicolas Cage  30\n",
       "4  Denzel Washington  30"
      ]
     },
     "execution_count": 53,
     "metadata": {},
     "output_type": "execute_result"
    }
   ],
   "source": [
    "df_actor1_count.head()"
   ]
  },
  {
   "cell_type": "code",
   "execution_count": 54,
   "metadata": {},
   "outputs": [],
   "source": [
    " df_actor1_count = df_actor1_count.rename(columns={0: \"Count\"})"
   ]
  },
  {
   "cell_type": "code",
   "execution_count": 55,
   "metadata": {},
   "outputs": [
    {
     "data": {
      "text/html": [
       "<div>\n",
       "<style scoped>\n",
       "    .dataframe tbody tr th:only-of-type {\n",
       "        vertical-align: middle;\n",
       "    }\n",
       "\n",
       "    .dataframe tbody tr th {\n",
       "        vertical-align: top;\n",
       "    }\n",
       "\n",
       "    .dataframe thead th {\n",
       "        text-align: right;\n",
       "    }\n",
       "</style>\n",
       "<table border=\"1\" class=\"dataframe\">\n",
       "  <thead>\n",
       "    <tr style=\"text-align: right;\">\n",
       "      <th></th>\n",
       "      <th>actor_1_name</th>\n",
       "      <th>Count</th>\n",
       "    </tr>\n",
       "  </thead>\n",
       "  <tbody>\n",
       "    <tr>\n",
       "      <th>0</th>\n",
       "      <td>Robert De Niro</td>\n",
       "      <td>42</td>\n",
       "    </tr>\n",
       "    <tr>\n",
       "      <th>1</th>\n",
       "      <td>Johnny Depp</td>\n",
       "      <td>38</td>\n",
       "    </tr>\n",
       "    <tr>\n",
       "      <th>2</th>\n",
       "      <td>J.K. Simmons</td>\n",
       "      <td>31</td>\n",
       "    </tr>\n",
       "    <tr>\n",
       "      <th>3</th>\n",
       "      <td>Nicolas Cage</td>\n",
       "      <td>30</td>\n",
       "    </tr>\n",
       "    <tr>\n",
       "      <th>4</th>\n",
       "      <td>Denzel Washington</td>\n",
       "      <td>30</td>\n",
       "    </tr>\n",
       "  </tbody>\n",
       "</table>\n",
       "</div>"
      ],
      "text/plain": [
       "        actor_1_name  Count\n",
       "0     Robert De Niro     42\n",
       "1        Johnny Depp     38\n",
       "2       J.K. Simmons     31\n",
       "3       Nicolas Cage     30\n",
       "4  Denzel Washington     30"
      ]
     },
     "execution_count": 55,
     "metadata": {},
     "output_type": "execute_result"
    }
   ],
   "source": [
    "df_actor1_count.head()"
   ]
  },
  {
   "cell_type": "markdown",
   "metadata": {},
   "source": [
    "The above code has given us each main actor and their number of movies in 1 dataframe. The code below will sort out everyone with fewer than 5 movies made."
   ]
  },
  {
   "cell_type": "code",
   "execution_count": 56,
   "metadata": {},
   "outputs": [],
   "source": [
    "df_actor1_count5= df_actor1_count[df_actor1_count.Count >= 5]"
   ]
  },
  {
   "cell_type": "markdown",
   "metadata": {},
   "source": [
    "The join below will merge the main actors with more than 5 movies made with our main dataset. This will eliminate those with under 5 movies made. Then we can sort by average imdb score."
   ]
  },
  {
   "cell_type": "code",
   "execution_count": 57,
   "metadata": {},
   "outputs": [
    {
     "data": {
      "text/html": [
       "<div>\n",
       "<style scoped>\n",
       "    .dataframe tbody tr th:only-of-type {\n",
       "        vertical-align: middle;\n",
       "    }\n",
       "\n",
       "    .dataframe tbody tr th {\n",
       "        vertical-align: top;\n",
       "    }\n",
       "\n",
       "    .dataframe thead th {\n",
       "        text-align: right;\n",
       "    }\n",
       "</style>\n",
       "<table border=\"1\" class=\"dataframe\">\n",
       "  <thead>\n",
       "    <tr style=\"text-align: right;\">\n",
       "      <th></th>\n",
       "      <th>color</th>\n",
       "      <th>director_name</th>\n",
       "      <th>num_critic_for_reviews</th>\n",
       "      <th>duration</th>\n",
       "      <th>director_facebook_likes</th>\n",
       "      <th>actor_3_facebook_likes</th>\n",
       "      <th>actor_2_name</th>\n",
       "      <th>actor_1_facebook_likes</th>\n",
       "      <th>gross</th>\n",
       "      <th>actor_1_name</th>\n",
       "      <th>movie_title</th>\n",
       "      <th>num_voted_users</th>\n",
       "      <th>cast_total_facebook_likes</th>\n",
       "      <th>actor_3_name</th>\n",
       "      <th>facenumber_in_poster</th>\n",
       "      <th>plot_keywords</th>\n",
       "      <th>movie_imdb_link</th>\n",
       "      <th>num_user_for_reviews</th>\n",
       "      <th>language</th>\n",
       "      <th>country</th>\n",
       "      <th>content_rating</th>\n",
       "      <th>budget</th>\n",
       "      <th>actor_2_facebook_likes</th>\n",
       "      <th>imdb_score</th>\n",
       "      <th>movie_facebook_likes</th>\n",
       "      <th>Profit</th>\n",
       "      <th>ROI</th>\n",
       "      <th>Count</th>\n",
       "    </tr>\n",
       "  </thead>\n",
       "  <tbody>\n",
       "    <tr>\n",
       "      <th>0</th>\n",
       "      <td>Color</td>\n",
       "      <td>Gore Verbinski</td>\n",
       "      <td>302.0</td>\n",
       "      <td>169.0</td>\n",
       "      <td>563.0</td>\n",
       "      <td>1000.0</td>\n",
       "      <td>Orlando Bloom</td>\n",
       "      <td>40000.0</td>\n",
       "      <td>309404152.0</td>\n",
       "      <td>Johnny Depp</td>\n",
       "      <td>Pirates of the Caribbean: At World's End</td>\n",
       "      <td>471220</td>\n",
       "      <td>48350</td>\n",
       "      <td>Jack Davenport</td>\n",
       "      <td>0.0</td>\n",
       "      <td>goddess|marriage ceremony|marriage proposal|pi...</td>\n",
       "      <td>http://www.imdb.com/title/tt0449088/?ref_=fn_t...</td>\n",
       "      <td>1238.0</td>\n",
       "      <td>English</td>\n",
       "      <td>USA</td>\n",
       "      <td>3.0</td>\n",
       "      <td>300000000.0</td>\n",
       "      <td>5000.0</td>\n",
       "      <td>7.1</td>\n",
       "      <td>0</td>\n",
       "      <td>9404152.0</td>\n",
       "      <td>0.031347</td>\n",
       "      <td>38</td>\n",
       "    </tr>\n",
       "    <tr>\n",
       "      <th>1</th>\n",
       "      <td>Color</td>\n",
       "      <td>Gore Verbinski</td>\n",
       "      <td>313.0</td>\n",
       "      <td>151.0</td>\n",
       "      <td>563.0</td>\n",
       "      <td>1000.0</td>\n",
       "      <td>Orlando Bloom</td>\n",
       "      <td>40000.0</td>\n",
       "      <td>423032628.0</td>\n",
       "      <td>Johnny Depp</td>\n",
       "      <td>Pirates of the Caribbean: Dead Man's Chest</td>\n",
       "      <td>522040</td>\n",
       "      <td>48486</td>\n",
       "      <td>Jack Davenport</td>\n",
       "      <td>2.0</td>\n",
       "      <td>box office hit|giant squid|heart|liar's dice|m...</td>\n",
       "      <td>http://www.imdb.com/title/tt0383574/?ref_=fn_t...</td>\n",
       "      <td>1832.0</td>\n",
       "      <td>English</td>\n",
       "      <td>USA</td>\n",
       "      <td>3.0</td>\n",
       "      <td>225000000.0</td>\n",
       "      <td>5000.0</td>\n",
       "      <td>7.3</td>\n",
       "      <td>5000</td>\n",
       "      <td>198032628.0</td>\n",
       "      <td>0.880145</td>\n",
       "      <td>38</td>\n",
       "    </tr>\n",
       "  </tbody>\n",
       "</table>\n",
       "</div>"
      ],
      "text/plain": [
       "   color   director_name  num_critic_for_reviews  duration  \\\n",
       "0  Color  Gore Verbinski                   302.0     169.0   \n",
       "1  Color  Gore Verbinski                   313.0     151.0   \n",
       "\n",
       "   director_facebook_likes  actor_3_facebook_likes   actor_2_name  \\\n",
       "0                    563.0                  1000.0  Orlando Bloom   \n",
       "1                    563.0                  1000.0  Orlando Bloom   \n",
       "\n",
       "   actor_1_facebook_likes        gross actor_1_name  \\\n",
       "0                 40000.0  309404152.0  Johnny Depp   \n",
       "1                 40000.0  423032628.0  Johnny Depp   \n",
       "\n",
       "                                   movie_title  num_voted_users  \\\n",
       "0    Pirates of the Caribbean: At World's End            471220   \n",
       "1  Pirates of the Caribbean: Dead Man's Chest            522040   \n",
       "\n",
       "   cast_total_facebook_likes    actor_3_name  facenumber_in_poster  \\\n",
       "0                      48350  Jack Davenport                   0.0   \n",
       "1                      48486  Jack Davenport                   2.0   \n",
       "\n",
       "                                       plot_keywords  \\\n",
       "0  goddess|marriage ceremony|marriage proposal|pi...   \n",
       "1  box office hit|giant squid|heart|liar's dice|m...   \n",
       "\n",
       "                                     movie_imdb_link  num_user_for_reviews  \\\n",
       "0  http://www.imdb.com/title/tt0449088/?ref_=fn_t...                1238.0   \n",
       "1  http://www.imdb.com/title/tt0383574/?ref_=fn_t...                1832.0   \n",
       "\n",
       "  language country  content_rating       budget  actor_2_facebook_likes  \\\n",
       "0  English     USA             3.0  300000000.0                  5000.0   \n",
       "1  English     USA             3.0  225000000.0                  5000.0   \n",
       "\n",
       "   imdb_score  movie_facebook_likes       Profit       ROI  Count  \n",
       "0         7.1                     0    9404152.0  0.031347     38  \n",
       "1         7.3                  5000  198032628.0  0.880145     38  "
      ]
     },
     "execution_count": 57,
     "metadata": {},
     "output_type": "execute_result"
    }
   ],
   "source": [
    "df_success_actor1 = df.merge(df_actor1_count5, on='actor_1_name', how='inner')\n",
    "df_success_actor1.head(2)"
   ]
  },
  {
   "cell_type": "code",
   "execution_count": 58,
   "metadata": {},
   "outputs": [
    {
     "data": {
      "image/png": "[encoded data removed]",
      "text/plain": [
       "<Figure size 432x288 with 1 Axes>"
      ]
     },
     "metadata": {
      "needs_background": "light"
     },
     "output_type": "display_data"
    }
   ],
   "source": [
    "df_success_actor1.groupby('actor_1_name')['imdb_score'].mean().sort_values(ascending=False).head(10).plot(kind='bar');"
   ]
  },
  {
   "cell_type": "code",
   "execution_count": 59,
   "metadata": {},
   "outputs": [
    {
     "data": {
      "image/png": "[encoded data removed]",
      "text/plain": [
       "<Figure size 432x288 with 1 Axes>"
      ]
     },
     "metadata": {
      "needs_background": "light"
     },
     "output_type": "display_data"
    }
   ],
   "source": [
    "df_success_actor1.groupby('actor_1_name')['imdb_score'].mean().sort_values().head(10).plot(kind='bar');"
   ]
  },
  {
   "cell_type": "markdown",
   "metadata": {},
   "source": [
    "Now on to the secondary actors."
   ]
  },
  {
   "cell_type": "code",
   "execution_count": 60,
   "metadata": {},
   "outputs": [],
   "source": [
    "df_actor2_count = df.groupby('actor_2_name').size().sort_values(ascending=False)\n",
    "df_actor2_count = df_actor2_count.reset_index()"
   ]
  },
  {
   "cell_type": "code",
   "execution_count": 61,
   "metadata": {},
   "outputs": [
    {
     "data": {
      "text/html": [
       "<div>\n",
       "<style scoped>\n",
       "    .dataframe tbody tr th:only-of-type {\n",
       "        vertical-align: middle;\n",
       "    }\n",
       "\n",
       "    .dataframe tbody tr th {\n",
       "        vertical-align: top;\n",
       "    }\n",
       "\n",
       "    .dataframe thead th {\n",
       "        text-align: right;\n",
       "    }\n",
       "</style>\n",
       "<table border=\"1\" class=\"dataframe\">\n",
       "  <thead>\n",
       "    <tr style=\"text-align: right;\">\n",
       "      <th></th>\n",
       "      <th>actor_2_name</th>\n",
       "      <th>0</th>\n",
       "    </tr>\n",
       "  </thead>\n",
       "  <tbody>\n",
       "    <tr>\n",
       "      <th>0</th>\n",
       "      <td>Morgan Freeman</td>\n",
       "      <td>20</td>\n",
       "    </tr>\n",
       "    <tr>\n",
       "      <th>1</th>\n",
       "      <td>Charlize Theron</td>\n",
       "      <td>14</td>\n",
       "    </tr>\n",
       "  </tbody>\n",
       "</table>\n",
       "</div>"
      ],
      "text/plain": [
       "      actor_2_name   0\n",
       "0   Morgan Freeman  20\n",
       "1  Charlize Theron  14"
      ]
     },
     "execution_count": 61,
     "metadata": {},
     "output_type": "execute_result"
    }
   ],
   "source": [
    "df_actor2_count.head(2)"
   ]
  },
  {
   "cell_type": "code",
   "execution_count": 62,
   "metadata": {},
   "outputs": [],
   "source": [
    " df_actor2_count = df_actor2_count.rename(columns={0: \"Count\"})"
   ]
  },
  {
   "cell_type": "code",
   "execution_count": 63,
   "metadata": {},
   "outputs": [
    {
     "data": {
      "text/html": [
       "<div>\n",
       "<style scoped>\n",
       "    .dataframe tbody tr th:only-of-type {\n",
       "        vertical-align: middle;\n",
       "    }\n",
       "\n",
       "    .dataframe tbody tr th {\n",
       "        vertical-align: top;\n",
       "    }\n",
       "\n",
       "    .dataframe thead th {\n",
       "        text-align: right;\n",
       "    }\n",
       "</style>\n",
       "<table border=\"1\" class=\"dataframe\">\n",
       "  <thead>\n",
       "    <tr style=\"text-align: right;\">\n",
       "      <th></th>\n",
       "      <th>actor_2_name</th>\n",
       "      <th>Count</th>\n",
       "    </tr>\n",
       "  </thead>\n",
       "  <tbody>\n",
       "    <tr>\n",
       "      <th>0</th>\n",
       "      <td>Morgan Freeman</td>\n",
       "      <td>20</td>\n",
       "    </tr>\n",
       "    <tr>\n",
       "      <th>1</th>\n",
       "      <td>Charlize Theron</td>\n",
       "      <td>14</td>\n",
       "    </tr>\n",
       "  </tbody>\n",
       "</table>\n",
       "</div>"
      ],
      "text/plain": [
       "      actor_2_name  Count\n",
       "0   Morgan Freeman     20\n",
       "1  Charlize Theron     14"
      ]
     },
     "execution_count": 63,
     "metadata": {},
     "output_type": "execute_result"
    }
   ],
   "source": [
    "df_actor2_count.head(2)"
   ]
  },
  {
   "cell_type": "markdown",
   "metadata": {},
   "source": [
    "The above code has given us each second actor and their number of movies in 1 dataframe. The code below will sort out everyone with fewer than 5 movies made."
   ]
  },
  {
   "cell_type": "code",
   "execution_count": 64,
   "metadata": {},
   "outputs": [],
   "source": [
    "df_actor2_count5= df_actor2_count[df_actor2_count.Count >= 5]"
   ]
  },
  {
   "cell_type": "markdown",
   "metadata": {},
   "source": [
    "The join below will merge the second actors with more than 5 movies made with our main dataset. This will eliminate those with under 5 movies made. Then we can sort by average imdb score."
   ]
  },
  {
   "cell_type": "code",
   "execution_count": 65,
   "metadata": {},
   "outputs": [
    {
     "data": {
      "text/html": [
       "<div>\n",
       "<style scoped>\n",
       "    .dataframe tbody tr th:only-of-type {\n",
       "        vertical-align: middle;\n",
       "    }\n",
       "\n",
       "    .dataframe tbody tr th {\n",
       "        vertical-align: top;\n",
       "    }\n",
       "\n",
       "    .dataframe thead th {\n",
       "        text-align: right;\n",
       "    }\n",
       "</style>\n",
       "<table border=\"1\" class=\"dataframe\">\n",
       "  <thead>\n",
       "    <tr style=\"text-align: right;\">\n",
       "      <th></th>\n",
       "      <th>color</th>\n",
       "      <th>director_name</th>\n",
       "      <th>num_critic_for_reviews</th>\n",
       "      <th>duration</th>\n",
       "      <th>director_facebook_likes</th>\n",
       "      <th>actor_3_facebook_likes</th>\n",
       "      <th>actor_2_name</th>\n",
       "      <th>actor_1_facebook_likes</th>\n",
       "      <th>gross</th>\n",
       "      <th>actor_1_name</th>\n",
       "      <th>movie_title</th>\n",
       "      <th>num_voted_users</th>\n",
       "      <th>cast_total_facebook_likes</th>\n",
       "      <th>actor_3_name</th>\n",
       "      <th>facenumber_in_poster</th>\n",
       "      <th>plot_keywords</th>\n",
       "      <th>movie_imdb_link</th>\n",
       "      <th>num_user_for_reviews</th>\n",
       "      <th>language</th>\n",
       "      <th>country</th>\n",
       "      <th>content_rating</th>\n",
       "      <th>budget</th>\n",
       "      <th>actor_2_facebook_likes</th>\n",
       "      <th>imdb_score</th>\n",
       "      <th>movie_facebook_likes</th>\n",
       "      <th>Profit</th>\n",
       "      <th>ROI</th>\n",
       "      <th>Count</th>\n",
       "    </tr>\n",
       "  </thead>\n",
       "  <tbody>\n",
       "    <tr>\n",
       "      <th>0</th>\n",
       "      <td>Color</td>\n",
       "      <td>Gore Verbinski</td>\n",
       "      <td>302.0</td>\n",
       "      <td>169.0</td>\n",
       "      <td>563.0</td>\n",
       "      <td>1000.0</td>\n",
       "      <td>Orlando Bloom</td>\n",
       "      <td>40000.0</td>\n",
       "      <td>309404152.0</td>\n",
       "      <td>Johnny Depp</td>\n",
       "      <td>Pirates of the Caribbean: At World's End</td>\n",
       "      <td>471220</td>\n",
       "      <td>48350</td>\n",
       "      <td>Jack Davenport</td>\n",
       "      <td>0.0</td>\n",
       "      <td>goddess|marriage ceremony|marriage proposal|pi...</td>\n",
       "      <td>http://www.imdb.com/title/tt0449088/?ref_=fn_t...</td>\n",
       "      <td>1238.0</td>\n",
       "      <td>English</td>\n",
       "      <td>USA</td>\n",
       "      <td>3.0</td>\n",
       "      <td>300000000.0</td>\n",
       "      <td>5000.0</td>\n",
       "      <td>7.1</td>\n",
       "      <td>0</td>\n",
       "      <td>9404152.0</td>\n",
       "      <td>0.031347</td>\n",
       "      <td>7</td>\n",
       "    </tr>\n",
       "    <tr>\n",
       "      <th>1</th>\n",
       "      <td>Color</td>\n",
       "      <td>Gore Verbinski</td>\n",
       "      <td>313.0</td>\n",
       "      <td>151.0</td>\n",
       "      <td>563.0</td>\n",
       "      <td>1000.0</td>\n",
       "      <td>Orlando Bloom</td>\n",
       "      <td>40000.0</td>\n",
       "      <td>423032628.0</td>\n",
       "      <td>Johnny Depp</td>\n",
       "      <td>Pirates of the Caribbean: Dead Man's Chest</td>\n",
       "      <td>522040</td>\n",
       "      <td>48486</td>\n",
       "      <td>Jack Davenport</td>\n",
       "      <td>2.0</td>\n",
       "      <td>box office hit|giant squid|heart|liar's dice|m...</td>\n",
       "      <td>http://www.imdb.com/title/tt0383574/?ref_=fn_t...</td>\n",
       "      <td>1832.0</td>\n",
       "      <td>English</td>\n",
       "      <td>USA</td>\n",
       "      <td>3.0</td>\n",
       "      <td>225000000.0</td>\n",
       "      <td>5000.0</td>\n",
       "      <td>7.3</td>\n",
       "      <td>5000</td>\n",
       "      <td>198032628.0</td>\n",
       "      <td>0.880145</td>\n",
       "      <td>7</td>\n",
       "    </tr>\n",
       "  </tbody>\n",
       "</table>\n",
       "</div>"
      ],
      "text/plain": [
       "   color   director_name  num_critic_for_reviews  duration  \\\n",
       "0  Color  Gore Verbinski                   302.0     169.0   \n",
       "1  Color  Gore Verbinski                   313.0     151.0   \n",
       "\n",
       "   director_facebook_likes  actor_3_facebook_likes   actor_2_name  \\\n",
       "0                    563.0                  1000.0  Orlando Bloom   \n",
       "1                    563.0                  1000.0  Orlando Bloom   \n",
       "\n",
       "   actor_1_facebook_likes        gross actor_1_name  \\\n",
       "0                 40000.0  309404152.0  Johnny Depp   \n",
       "1                 40000.0  423032628.0  Johnny Depp   \n",
       "\n",
       "                                   movie_title  num_voted_users  \\\n",
       "0    Pirates of the Caribbean: At World's End            471220   \n",
       "1  Pirates of the Caribbean: Dead Man's Chest            522040   \n",
       "\n",
       "   cast_total_facebook_likes    actor_3_name  facenumber_in_poster  \\\n",
       "0                      48350  Jack Davenport                   0.0   \n",
       "1                      48486  Jack Davenport                   2.0   \n",
       "\n",
       "                                       plot_keywords  \\\n",
       "0  goddess|marriage ceremony|marriage proposal|pi...   \n",
       "1  box office hit|giant squid|heart|liar's dice|m...   \n",
       "\n",
       "                                     movie_imdb_link  num_user_for_reviews  \\\n",
       "0  http://www.imdb.com/title/tt0449088/?ref_=fn_t...                1238.0   \n",
       "1  http://www.imdb.com/title/tt0383574/?ref_=fn_t...                1832.0   \n",
       "\n",
       "  language country  content_rating       budget  actor_2_facebook_likes  \\\n",
       "0  English     USA             3.0  300000000.0                  5000.0   \n",
       "1  English     USA             3.0  225000000.0                  5000.0   \n",
       "\n",
       "   imdb_score  movie_facebook_likes       Profit       ROI  Count  \n",
       "0         7.1                     0    9404152.0  0.031347      7  \n",
       "1         7.3                  5000  198032628.0  0.880145      7  "
      ]
     },
     "execution_count": 65,
     "metadata": {},
     "output_type": "execute_result"
    }
   ],
   "source": [
    "df_success_actor2 = df.merge(df_actor2_count5, on='actor_2_name', how='inner')\n",
    "df_success_actor2.head(2)"
   ]
  },
  {
   "cell_type": "code",
   "execution_count": 66,
   "metadata": {},
   "outputs": [
    {
     "data": {
      "image/png": "[encoded data removed]",
      "text/plain": [
       "<Figure size 432x288 with 1 Axes>"
      ]
     },
     "metadata": {
      "needs_background": "light"
     },
     "output_type": "display_data"
    }
   ],
   "source": [
    "df_success_actor2.groupby('actor_2_name')['imdb_score'].mean().sort_values(ascending=False).head(10).plot(kind='bar');"
   ]
  },
  {
   "cell_type": "markdown",
   "metadata": {},
   "source": [
    "Above are the best 2nd actors, and below are the worst."
   ]
  },
  {
   "cell_type": "code",
   "execution_count": 67,
   "metadata": {},
   "outputs": [
    {
     "data": {
      "image/png": "[encoded data removed]",
      "text/plain": [
       "<Figure size 432x288 with 1 Axes>"
      ]
     },
     "metadata": {
      "needs_background": "light"
     },
     "output_type": "display_data"
    }
   ],
   "source": [
    "df_success_actor2.groupby('actor_2_name')['imdb_score'].mean().sort_values().head(10).plot(kind='bar');"
   ]
  },
  {
   "cell_type": "markdown",
   "metadata": {},
   "source": [
    "Now on to the 3rd actors."
   ]
  },
  {
   "cell_type": "code",
   "execution_count": 68,
   "metadata": {},
   "outputs": [],
   "source": [
    "df_actor3_count = df.groupby('actor_3_name').size().sort_values(ascending=False)\n",
    "df_actor3_count = df_actor3_count.reset_index()"
   ]
  },
  {
   "cell_type": "code",
   "execution_count": 69,
   "metadata": {},
   "outputs": [
    {
     "data": {
      "text/html": [
       "<div>\n",
       "<style scoped>\n",
       "    .dataframe tbody tr th:only-of-type {\n",
       "        vertical-align: middle;\n",
       "    }\n",
       "\n",
       "    .dataframe tbody tr th {\n",
       "        vertical-align: top;\n",
       "    }\n",
       "\n",
       "    .dataframe thead th {\n",
       "        text-align: right;\n",
       "    }\n",
       "</style>\n",
       "<table border=\"1\" class=\"dataframe\">\n",
       "  <thead>\n",
       "    <tr style=\"text-align: right;\">\n",
       "      <th></th>\n",
       "      <th>actor_3_name</th>\n",
       "      <th>0</th>\n",
       "    </tr>\n",
       "  </thead>\n",
       "  <tbody>\n",
       "    <tr>\n",
       "      <th>0</th>\n",
       "      <td>Steve Coogan</td>\n",
       "      <td>8</td>\n",
       "    </tr>\n",
       "    <tr>\n",
       "      <th>1</th>\n",
       "      <td>Kirsten Dunst</td>\n",
       "      <td>7</td>\n",
       "    </tr>\n",
       "  </tbody>\n",
       "</table>\n",
       "</div>"
      ],
      "text/plain": [
       "    actor_3_name  0\n",
       "0   Steve Coogan  8\n",
       "1  Kirsten Dunst  7"
      ]
     },
     "execution_count": 69,
     "metadata": {},
     "output_type": "execute_result"
    }
   ],
   "source": [
    "df_actor3_count.head(2)"
   ]
  },
  {
   "cell_type": "code",
   "execution_count": 70,
   "metadata": {},
   "outputs": [],
   "source": [
    " df_actor3_count = df_actor3_count.rename(columns={0: \"Count\"})"
   ]
  },
  {
   "cell_type": "code",
   "execution_count": 71,
   "metadata": {},
   "outputs": [
    {
     "data": {
      "text/html": [
       "<div>\n",
       "<style scoped>\n",
       "    .dataframe tbody tr th:only-of-type {\n",
       "        vertical-align: middle;\n",
       "    }\n",
       "\n",
       "    .dataframe tbody tr th {\n",
       "        vertical-align: top;\n",
       "    }\n",
       "\n",
       "    .dataframe thead th {\n",
       "        text-align: right;\n",
       "    }\n",
       "</style>\n",
       "<table border=\"1\" class=\"dataframe\">\n",
       "  <thead>\n",
       "    <tr style=\"text-align: right;\">\n",
       "      <th></th>\n",
       "      <th>actor_3_name</th>\n",
       "      <th>Count</th>\n",
       "    </tr>\n",
       "  </thead>\n",
       "  <tbody>\n",
       "    <tr>\n",
       "      <th>0</th>\n",
       "      <td>Steve Coogan</td>\n",
       "      <td>8</td>\n",
       "    </tr>\n",
       "    <tr>\n",
       "      <th>1</th>\n",
       "      <td>Kirsten Dunst</td>\n",
       "      <td>7</td>\n",
       "    </tr>\n",
       "  </tbody>\n",
       "</table>\n",
       "</div>"
      ],
      "text/plain": [
       "    actor_3_name  Count\n",
       "0   Steve Coogan      8\n",
       "1  Kirsten Dunst      7"
      ]
     },
     "execution_count": 71,
     "metadata": {},
     "output_type": "execute_result"
    }
   ],
   "source": [
    "df_actor3_count.head(2)"
   ]
  },
  {
   "cell_type": "markdown",
   "metadata": {},
   "source": [
    "The above code has given us each third actor and their number of movies in 1 dataframe. The code below will sort out everyone with fewer than 5 movies made."
   ]
  },
  {
   "cell_type": "code",
   "execution_count": 72,
   "metadata": {},
   "outputs": [],
   "source": [
    "df_actor3_count5= df_actor3_count[df_actor3_count.Count >= 5]"
   ]
  },
  {
   "cell_type": "markdown",
   "metadata": {},
   "source": [
    "The join below will merge the third actors with more than 5 movies made with our main dataset. This will eliminate those with under 5 movies made. Then we can sort by average imdb score."
   ]
  },
  {
   "cell_type": "code",
   "execution_count": 73,
   "metadata": {},
   "outputs": [
    {
     "data": {
      "text/html": [
       "<div>\n",
       "<style scoped>\n",
       "    .dataframe tbody tr th:only-of-type {\n",
       "        vertical-align: middle;\n",
       "    }\n",
       "\n",
       "    .dataframe tbody tr th {\n",
       "        vertical-align: top;\n",
       "    }\n",
       "\n",
       "    .dataframe thead th {\n",
       "        text-align: right;\n",
       "    }\n",
       "</style>\n",
       "<table border=\"1\" class=\"dataframe\">\n",
       "  <thead>\n",
       "    <tr style=\"text-align: right;\">\n",
       "      <th></th>\n",
       "      <th>color</th>\n",
       "      <th>director_name</th>\n",
       "      <th>num_critic_for_reviews</th>\n",
       "      <th>duration</th>\n",
       "      <th>director_facebook_likes</th>\n",
       "      <th>actor_3_facebook_likes</th>\n",
       "      <th>actor_2_name</th>\n",
       "      <th>actor_1_facebook_likes</th>\n",
       "      <th>gross</th>\n",
       "      <th>actor_1_name</th>\n",
       "      <th>movie_title</th>\n",
       "      <th>num_voted_users</th>\n",
       "      <th>cast_total_facebook_likes</th>\n",
       "      <th>actor_3_name</th>\n",
       "      <th>facenumber_in_poster</th>\n",
       "      <th>plot_keywords</th>\n",
       "      <th>movie_imdb_link</th>\n",
       "      <th>num_user_for_reviews</th>\n",
       "      <th>language</th>\n",
       "      <th>country</th>\n",
       "      <th>content_rating</th>\n",
       "      <th>budget</th>\n",
       "      <th>actor_2_facebook_likes</th>\n",
       "      <th>imdb_score</th>\n",
       "      <th>movie_facebook_likes</th>\n",
       "      <th>Profit</th>\n",
       "      <th>ROI</th>\n",
       "      <th>Count</th>\n",
       "    </tr>\n",
       "  </thead>\n",
       "  <tbody>\n",
       "    <tr>\n",
       "      <th>0</th>\n",
       "      <td>Color</td>\n",
       "      <td>Sam Raimi</td>\n",
       "      <td>392.0</td>\n",
       "      <td>156.0</td>\n",
       "      <td>0.0</td>\n",
       "      <td>4000.0</td>\n",
       "      <td>James Franco</td>\n",
       "      <td>24000.0</td>\n",
       "      <td>336530303.0</td>\n",
       "      <td>J.K. Simmons</td>\n",
       "      <td>Spider-Man 3</td>\n",
       "      <td>383056</td>\n",
       "      <td>46055</td>\n",
       "      <td>Kirsten Dunst</td>\n",
       "      <td>0.0</td>\n",
       "      <td>sandman|spider man|symbiote|venom|villain</td>\n",
       "      <td>http://www.imdb.com/title/tt0413300/?ref_=fn_t...</td>\n",
       "      <td>1902.0</td>\n",
       "      <td>English</td>\n",
       "      <td>USA</td>\n",
       "      <td>3.0</td>\n",
       "      <td>258000000.0</td>\n",
       "      <td>11000.0</td>\n",
       "      <td>6.2</td>\n",
       "      <td>0</td>\n",
       "      <td>78530303.0</td>\n",
       "      <td>0.304381</td>\n",
       "      <td>7</td>\n",
       "    </tr>\n",
       "    <tr>\n",
       "      <th>1</th>\n",
       "      <td>Color</td>\n",
       "      <td>Sam Raimi</td>\n",
       "      <td>300.0</td>\n",
       "      <td>135.0</td>\n",
       "      <td>0.0</td>\n",
       "      <td>4000.0</td>\n",
       "      <td>James Franco</td>\n",
       "      <td>24000.0</td>\n",
       "      <td>373377893.0</td>\n",
       "      <td>J.K. Simmons</td>\n",
       "      <td>Spider-Man 2</td>\n",
       "      <td>411164</td>\n",
       "      <td>43388</td>\n",
       "      <td>Kirsten Dunst</td>\n",
       "      <td>1.0</td>\n",
       "      <td>death|doctor|scientist|super villain|tentacle</td>\n",
       "      <td>http://www.imdb.com/title/tt0316654/?ref_=fn_t...</td>\n",
       "      <td>1303.0</td>\n",
       "      <td>English</td>\n",
       "      <td>USA</td>\n",
       "      <td>3.0</td>\n",
       "      <td>200000000.0</td>\n",
       "      <td>11000.0</td>\n",
       "      <td>7.3</td>\n",
       "      <td>0</td>\n",
       "      <td>173377893.0</td>\n",
       "      <td>0.866889</td>\n",
       "      <td>7</td>\n",
       "    </tr>\n",
       "  </tbody>\n",
       "</table>\n",
       "</div>"
      ],
      "text/plain": [
       "   color director_name  num_critic_for_reviews  duration  \\\n",
       "0  Color     Sam Raimi                   392.0     156.0   \n",
       "1  Color     Sam Raimi                   300.0     135.0   \n",
       "\n",
       "   director_facebook_likes  actor_3_facebook_likes  actor_2_name  \\\n",
       "0                      0.0                  4000.0  James Franco   \n",
       "1                      0.0                  4000.0  James Franco   \n",
       "\n",
       "   actor_1_facebook_likes        gross  actor_1_name    movie_title  \\\n",
       "0                 24000.0  336530303.0  J.K. Simmons  Spider-Man 3    \n",
       "1                 24000.0  373377893.0  J.K. Simmons  Spider-Man 2    \n",
       "\n",
       "   num_voted_users  cast_total_facebook_likes   actor_3_name  \\\n",
       "0           383056                      46055  Kirsten Dunst   \n",
       "1           411164                      43388  Kirsten Dunst   \n",
       "\n",
       "   facenumber_in_poster                                  plot_keywords  \\\n",
       "0                   0.0      sandman|spider man|symbiote|venom|villain   \n",
       "1                   1.0  death|doctor|scientist|super villain|tentacle   \n",
       "\n",
       "                                     movie_imdb_link  num_user_for_reviews  \\\n",
       "0  http://www.imdb.com/title/tt0413300/?ref_=fn_t...                1902.0   \n",
       "1  http://www.imdb.com/title/tt0316654/?ref_=fn_t...                1303.0   \n",
       "\n",
       "  language country  content_rating       budget  actor_2_facebook_likes  \\\n",
       "0  English     USA             3.0  258000000.0                 11000.0   \n",
       "1  English     USA             3.0  200000000.0                 11000.0   \n",
       "\n",
       "   imdb_score  movie_facebook_likes       Profit       ROI  Count  \n",
       "0         6.2                     0   78530303.0  0.304381      7  \n",
       "1         7.3                     0  173377893.0  0.866889      7  "
      ]
     },
     "execution_count": 73,
     "metadata": {},
     "output_type": "execute_result"
    }
   ],
   "source": [
    "df_success_actor3 = df.merge(df_actor3_count5, on='actor_3_name', how='inner')\n",
    "df_success_actor3.head(2)"
   ]
  },
  {
   "cell_type": "code",
   "execution_count": 74,
   "metadata": {},
   "outputs": [
    {
     "data": {
      "image/png": "[encoded data removed]",
      "text/plain": [
       "<Figure size 432x288 with 1 Axes>"
      ]
     },
     "metadata": {
      "needs_background": "light"
     },
     "output_type": "display_data"
    }
   ],
   "source": [
    "df_success_actor3.groupby('actor_3_name')['imdb_score'].mean().sort_values(ascending=False).head(10).plot(kind='bar');"
   ]
  },
  {
   "cell_type": "code",
   "execution_count": 75,
   "metadata": {},
   "outputs": [
    {
     "data": {
      "image/png": "[encoded data removed]",
      "text/plain": [
       "<Figure size 432x288 with 1 Axes>"
      ]
     },
     "metadata": {
      "needs_background": "light"
     },
     "output_type": "display_data"
    }
   ],
   "source": [
    "df_success_actor3.groupby('actor_3_name')['imdb_score'].mean().sort_values().head(10).plot(kind='bar');"
   ]
  },
  {
   "cell_type": "markdown",
   "metadata": {},
   "source": [
    "This is a lot of data to look through, but what is important to note is that actor choice does matter. There is a clear and significant difference between the top and bottom actors in each role (main, 2nd, 3rd). Movie production companies would be wise to seek out actors in the top 10 of each of these lists. I also noticed many of the names on each list and some conclusions can be drawn from those as well. Many of the names in the bottom 10 lists for each categories have careers outside of acting, such as music or comedy. The names in the top 10 lists generally focus more on acting. Movie production companies would be better served targeting full-time actors to act in their movies."
   ]
  },
  {
   "cell_type": "markdown",
   "metadata": {},
   "source": [
    "<h2>Part 5 - Correlation Analysis </h2>"
   ]
  },
  {
   "cell_type": "markdown",
   "metadata": {},
   "source": [
    "First we will run a basic correlation analysis looking at all numerical variables:"
   ]
  },
  {
   "cell_type": "code",
   "execution_count": 76,
   "metadata": {},
   "outputs": [
    {
     "data": {
      "text/html": [
       "<div>\n",
       "<style scoped>\n",
       "    .dataframe tbody tr th:only-of-type {\n",
       "        vertical-align: middle;\n",
       "    }\n",
       "\n",
       "    .dataframe tbody tr th {\n",
       "        vertical-align: top;\n",
       "    }\n",
       "\n",
       "    .dataframe thead th {\n",
       "        text-align: right;\n",
       "    }\n",
       "</style>\n",
       "<table border=\"1\" class=\"dataframe\">\n",
       "  <thead>\n",
       "    <tr style=\"text-align: right;\">\n",
       "      <th></th>\n",
       "      <th>num_critic_for_reviews</th>\n",
       "      <th>duration</th>\n",
       "      <th>director_facebook_likes</th>\n",
       "      <th>actor_3_facebook_likes</th>\n",
       "      <th>actor_1_facebook_likes</th>\n",
       "      <th>gross</th>\n",
       "      <th>num_voted_users</th>\n",
       "      <th>cast_total_facebook_likes</th>\n",
       "      <th>facenumber_in_poster</th>\n",
       "      <th>num_user_for_reviews</th>\n",
       "      <th>content_rating</th>\n",
       "      <th>budget</th>\n",
       "      <th>actor_2_facebook_likes</th>\n",
       "      <th>imdb_score</th>\n",
       "      <th>movie_facebook_likes</th>\n",
       "      <th>Profit</th>\n",
       "      <th>ROI</th>\n",
       "    </tr>\n",
       "  </thead>\n",
       "  <tbody>\n",
       "    <tr>\n",
       "      <th>num_critic_for_reviews</th>\n",
       "      <td>1.000000</td>\n",
       "      <td>0.237988</td>\n",
       "      <td>0.177836</td>\n",
       "      <td>0.247274</td>\n",
       "      <td>0.168785</td>\n",
       "      <td>0.469091</td>\n",
       "      <td>0.596866</td>\n",
       "      <td>0.237375</td>\n",
       "      <td>-0.034445</td>\n",
       "      <td>0.568970</td>\n",
       "      <td>0.076517</td>\n",
       "      <td>0.106570</td>\n",
       "      <td>0.254052</td>\n",
       "      <td>0.349083</td>\n",
       "      <td>0.702661</td>\n",
       "      <td>0.038012</td>\n",
       "      <td>0.032769</td>\n",
       "    </tr>\n",
       "    <tr>\n",
       "      <th>duration</th>\n",
       "      <td>0.237988</td>\n",
       "      <td>1.000000</td>\n",
       "      <td>0.181681</td>\n",
       "      <td>0.123003</td>\n",
       "      <td>0.085880</td>\n",
       "      <td>0.250522</td>\n",
       "      <td>0.345177</td>\n",
       "      <td>0.121234</td>\n",
       "      <td>0.027864</td>\n",
       "      <td>0.357779</td>\n",
       "      <td>0.099372</td>\n",
       "      <td>0.069353</td>\n",
       "      <td>0.128916</td>\n",
       "      <td>0.366329</td>\n",
       "      <td>0.219947</td>\n",
       "      <td>0.008071</td>\n",
       "      <td>-0.032988</td>\n",
       "    </tr>\n",
       "    <tr>\n",
       "      <th>director_facebook_likes</th>\n",
       "      <td>0.177836</td>\n",
       "      <td>0.181681</td>\n",
       "      <td>1.000000</td>\n",
       "      <td>0.121721</td>\n",
       "      <td>0.091623</td>\n",
       "      <td>0.141807</td>\n",
       "      <td>0.303852</td>\n",
       "      <td>0.121525</td>\n",
       "      <td>-0.046995</td>\n",
       "      <td>0.220850</td>\n",
       "      <td>0.018990</td>\n",
       "      <td>0.018904</td>\n",
       "      <td>0.119247</td>\n",
       "      <td>0.191921</td>\n",
       "      <td>0.162228</td>\n",
       "      <td>0.024589</td>\n",
       "      <td>-0.006370</td>\n",
       "    </tr>\n",
       "    <tr>\n",
       "      <th>actor_3_facebook_likes</th>\n",
       "      <td>0.247274</td>\n",
       "      <td>0.123003</td>\n",
       "      <td>0.121721</td>\n",
       "      <td>1.000000</td>\n",
       "      <td>0.252765</td>\n",
       "      <td>0.282772</td>\n",
       "      <td>0.259370</td>\n",
       "      <td>0.485410</td>\n",
       "      <td>0.104370</td>\n",
       "      <td>0.202895</td>\n",
       "      <td>-0.038628</td>\n",
       "      <td>0.039158</td>\n",
       "      <td>0.550690</td>\n",
       "      <td>0.064969</td>\n",
       "      <td>0.259299</td>\n",
       "      <td>0.047570</td>\n",
       "      <td>-0.012468</td>\n",
       "    </tr>\n",
       "    <tr>\n",
       "      <th>actor_1_facebook_likes</th>\n",
       "      <td>0.168785</td>\n",
       "      <td>0.085880</td>\n",
       "      <td>0.091623</td>\n",
       "      <td>0.252765</td>\n",
       "      <td>1.000000</td>\n",
       "      <td>0.145106</td>\n",
       "      <td>0.180137</td>\n",
       "      <td>0.946303</td>\n",
       "      <td>0.059678</td>\n",
       "      <td>0.124409</td>\n",
       "      <td>0.007599</td>\n",
       "      <td>0.016995</td>\n",
       "      <td>0.390381</td>\n",
       "      <td>0.092846</td>\n",
       "      <td>0.128764</td>\n",
       "      <td>0.027468</td>\n",
       "      <td>-0.015725</td>\n",
       "    </tr>\n",
       "    <tr>\n",
       "      <th>gross</th>\n",
       "      <td>0.469091</td>\n",
       "      <td>0.250522</td>\n",
       "      <td>0.141807</td>\n",
       "      <td>0.282772</td>\n",
       "      <td>0.145106</td>\n",
       "      <td>1.000000</td>\n",
       "      <td>0.627127</td>\n",
       "      <td>0.230689</td>\n",
       "      <td>-0.032652</td>\n",
       "      <td>0.550847</td>\n",
       "      <td>-0.266239</td>\n",
       "      <td>0.100624</td>\n",
       "      <td>0.245839</td>\n",
       "      <td>0.216599</td>\n",
       "      <td>0.365262</td>\n",
       "      <td>0.205543</td>\n",
       "      <td>0.018460</td>\n",
       "    </tr>\n",
       "    <tr>\n",
       "      <th>num_voted_users</th>\n",
       "      <td>0.596866</td>\n",
       "      <td>0.345177</td>\n",
       "      <td>0.303852</td>\n",
       "      <td>0.259370</td>\n",
       "      <td>0.180137</td>\n",
       "      <td>0.627127</td>\n",
       "      <td>1.000000</td>\n",
       "      <td>0.246441</td>\n",
       "      <td>-0.034980</td>\n",
       "      <td>0.781628</td>\n",
       "      <td>0.016665</td>\n",
       "      <td>0.067801</td>\n",
       "      <td>0.241337</td>\n",
       "      <td>0.479026</td>\n",
       "      <td>0.518519</td>\n",
       "      <td>0.124282</td>\n",
       "      <td>0.010230</td>\n",
       "    </tr>\n",
       "    <tr>\n",
       "      <th>cast_total_facebook_likes</th>\n",
       "      <td>0.237375</td>\n",
       "      <td>0.121234</td>\n",
       "      <td>0.121525</td>\n",
       "      <td>0.485410</td>\n",
       "      <td>0.946303</td>\n",
       "      <td>0.230689</td>\n",
       "      <td>0.246441</td>\n",
       "      <td>1.000000</td>\n",
       "      <td>0.081518</td>\n",
       "      <td>0.179870</td>\n",
       "      <td>0.000097</td>\n",
       "      <td>0.028893</td>\n",
       "      <td>0.639919</td>\n",
       "      <td>0.105296</td>\n",
       "      <td>0.199730</td>\n",
       "      <td>0.041830</td>\n",
       "      <td>-0.018807</td>\n",
       "    </tr>\n",
       "    <tr>\n",
       "      <th>facenumber_in_poster</th>\n",
       "      <td>-0.034445</td>\n",
       "      <td>0.027864</td>\n",
       "      <td>-0.046995</td>\n",
       "      <td>0.104370</td>\n",
       "      <td>0.059678</td>\n",
       "      <td>-0.032652</td>\n",
       "      <td>-0.034980</td>\n",
       "      <td>0.081518</td>\n",
       "      <td>1.000000</td>\n",
       "      <td>-0.081270</td>\n",
       "      <td>0.021803</td>\n",
       "      <td>-0.021879</td>\n",
       "      <td>0.069776</td>\n",
       "      <td>-0.069641</td>\n",
       "      <td>0.014088</td>\n",
       "      <td>0.011595</td>\n",
       "      <td>-0.013430</td>\n",
       "    </tr>\n",
       "    <tr>\n",
       "      <th>num_user_for_reviews</th>\n",
       "      <td>0.568970</td>\n",
       "      <td>0.357779</td>\n",
       "      <td>0.220850</td>\n",
       "      <td>0.202895</td>\n",
       "      <td>0.124409</td>\n",
       "      <td>0.550847</td>\n",
       "      <td>0.781628</td>\n",
       "      <td>0.179870</td>\n",
       "      <td>-0.081270</td>\n",
       "      <td>1.000000</td>\n",
       "      <td>0.052702</td>\n",
       "      <td>0.072687</td>\n",
       "      <td>0.187694</td>\n",
       "      <td>0.324276</td>\n",
       "      <td>0.373072</td>\n",
       "      <td>0.096247</td>\n",
       "      <td>0.068256</td>\n",
       "    </tr>\n",
       "    <tr>\n",
       "      <th>content_rating</th>\n",
       "      <td>0.076517</td>\n",
       "      <td>0.099372</td>\n",
       "      <td>0.018990</td>\n",
       "      <td>-0.038628</td>\n",
       "      <td>0.007599</td>\n",
       "      <td>-0.266239</td>\n",
       "      <td>0.016665</td>\n",
       "      <td>0.000097</td>\n",
       "      <td>0.021803</td>\n",
       "      <td>0.052702</td>\n",
       "      <td>1.000000</td>\n",
       "      <td>-0.030963</td>\n",
       "      <td>0.011846</td>\n",
       "      <td>0.118674</td>\n",
       "      <td>0.019214</td>\n",
       "      <td>-0.050126</td>\n",
       "      <td>0.020068</td>\n",
       "    </tr>\n",
       "    <tr>\n",
       "      <th>budget</th>\n",
       "      <td>0.106570</td>\n",
       "      <td>0.069353</td>\n",
       "      <td>0.018904</td>\n",
       "      <td>0.039158</td>\n",
       "      <td>0.016995</td>\n",
       "      <td>0.100624</td>\n",
       "      <td>0.067801</td>\n",
       "      <td>0.028893</td>\n",
       "      <td>-0.021879</td>\n",
       "      <td>0.072687</td>\n",
       "      <td>-0.030963</td>\n",
       "      <td>1.000000</td>\n",
       "      <td>0.035667</td>\n",
       "      <td>0.030483</td>\n",
       "      <td>0.052952</td>\n",
       "      <td>-0.952998</td>\n",
       "      <td>-0.008009</td>\n",
       "    </tr>\n",
       "    <tr>\n",
       "      <th>actor_2_facebook_likes</th>\n",
       "      <td>0.254052</td>\n",
       "      <td>0.128916</td>\n",
       "      <td>0.119247</td>\n",
       "      <td>0.550690</td>\n",
       "      <td>0.390381</td>\n",
       "      <td>0.245839</td>\n",
       "      <td>0.241337</td>\n",
       "      <td>0.639919</td>\n",
       "      <td>0.069776</td>\n",
       "      <td>0.187694</td>\n",
       "      <td>0.011846</td>\n",
       "      <td>0.035667</td>\n",
       "      <td>1.000000</td>\n",
       "      <td>0.100833</td>\n",
       "      <td>0.226131</td>\n",
       "      <td>0.039770</td>\n",
       "      <td>-0.013939</td>\n",
       "    </tr>\n",
       "    <tr>\n",
       "      <th>imdb_score</th>\n",
       "      <td>0.349083</td>\n",
       "      <td>0.366329</td>\n",
       "      <td>0.191921</td>\n",
       "      <td>0.064969</td>\n",
       "      <td>0.092846</td>\n",
       "      <td>0.216599</td>\n",
       "      <td>0.479026</td>\n",
       "      <td>0.105296</td>\n",
       "      <td>-0.069641</td>\n",
       "      <td>0.324276</td>\n",
       "      <td>0.118674</td>\n",
       "      <td>0.030483</td>\n",
       "      <td>0.100833</td>\n",
       "      <td>1.000000</td>\n",
       "      <td>0.282927</td>\n",
       "      <td>0.035974</td>\n",
       "      <td>0.010183</td>\n",
       "    </tr>\n",
       "    <tr>\n",
       "      <th>movie_facebook_likes</th>\n",
       "      <td>0.702661</td>\n",
       "      <td>0.219947</td>\n",
       "      <td>0.162228</td>\n",
       "      <td>0.259299</td>\n",
       "      <td>0.128764</td>\n",
       "      <td>0.365262</td>\n",
       "      <td>0.518519</td>\n",
       "      <td>0.199730</td>\n",
       "      <td>0.014088</td>\n",
       "      <td>0.373072</td>\n",
       "      <td>0.019214</td>\n",
       "      <td>0.052952</td>\n",
       "      <td>0.226131</td>\n",
       "      <td>0.282927</td>\n",
       "      <td>1.000000</td>\n",
       "      <td>0.059144</td>\n",
       "      <td>-0.003015</td>\n",
       "    </tr>\n",
       "    <tr>\n",
       "      <th>Profit</th>\n",
       "      <td>0.038012</td>\n",
       "      <td>0.008071</td>\n",
       "      <td>0.024589</td>\n",
       "      <td>0.047570</td>\n",
       "      <td>0.027468</td>\n",
       "      <td>0.205543</td>\n",
       "      <td>0.124282</td>\n",
       "      <td>0.041830</td>\n",
       "      <td>0.011595</td>\n",
       "      <td>0.096247</td>\n",
       "      <td>-0.050126</td>\n",
       "      <td>-0.952998</td>\n",
       "      <td>0.039770</td>\n",
       "      <td>0.035974</td>\n",
       "      <td>0.059144</td>\n",
       "      <td>1.000000</td>\n",
       "      <td>0.013499</td>\n",
       "    </tr>\n",
       "    <tr>\n",
       "      <th>ROI</th>\n",
       "      <td>0.032769</td>\n",
       "      <td>-0.032988</td>\n",
       "      <td>-0.006370</td>\n",
       "      <td>-0.012468</td>\n",
       "      <td>-0.015725</td>\n",
       "      <td>0.018460</td>\n",
       "      <td>0.010230</td>\n",
       "      <td>-0.018807</td>\n",
       "      <td>-0.013430</td>\n",
       "      <td>0.068256</td>\n",
       "      <td>0.020068</td>\n",
       "      <td>-0.008009</td>\n",
       "      <td>-0.013939</td>\n",
       "      <td>0.010183</td>\n",
       "      <td>-0.003015</td>\n",
       "      <td>0.013499</td>\n",
       "      <td>1.000000</td>\n",
       "    </tr>\n",
       "  </tbody>\n",
       "</table>\n",
       "</div>"
      ],
      "text/plain": [
       "                           num_critic_for_reviews  duration  \\\n",
       "num_critic_for_reviews                   1.000000  0.237988   \n",
       "duration                                 0.237988  1.000000   \n",
       "director_facebook_likes                  0.177836  0.181681   \n",
       "actor_3_facebook_likes                   0.247274  0.123003   \n",
       "actor_1_facebook_likes                   0.168785  0.085880   \n",
       "gross                                    0.469091  0.250522   \n",
       "num_voted_users                          0.596866  0.345177   \n",
       "cast_total_facebook_likes                0.237375  0.121234   \n",
       "facenumber_in_poster                    -0.034445  0.027864   \n",
       "num_user_for_reviews                     0.568970  0.357779   \n",
       "content_rating                           0.076517  0.099372   \n",
       "budget                                   0.106570  0.069353   \n",
       "actor_2_facebook_likes                   0.254052  0.128916   \n",
       "imdb_score                               0.349083  0.366329   \n",
       "movie_facebook_likes                     0.702661  0.219947   \n",
       "Profit                                   0.038012  0.008071   \n",
       "ROI                                      0.032769 -0.032988   \n",
       "\n",
       "                           director_facebook_likes  actor_3_facebook_likes  \\\n",
       "num_critic_for_reviews                    0.177836                0.247274   \n",
       "duration                                  0.181681                0.123003   \n",
       "director_facebook_likes                   1.000000                0.121721   \n",
       "actor_3_facebook_likes                    0.121721                1.000000   \n",
       "actor_1_facebook_likes                    0.091623                0.252765   \n",
       "gross                                     0.141807                0.282772   \n",
       "num_voted_users                           0.303852                0.259370   \n",
       "cast_total_facebook_likes                 0.121525                0.485410   \n",
       "facenumber_in_poster                     -0.046995                0.104370   \n",
       "num_user_for_reviews                      0.220850                0.202895   \n",
       "content_rating                            0.018990               -0.038628   \n",
       "budget                                    0.018904                0.039158   \n",
       "actor_2_facebook_likes                    0.119247                0.550690   \n",
       "imdb_score                                0.191921                0.064969   \n",
       "movie_facebook_likes                      0.162228                0.259299   \n",
       "Profit                                    0.024589                0.047570   \n",
       "ROI                                      -0.006370               -0.012468   \n",
       "\n",
       "                           actor_1_facebook_likes     gross  num_voted_users  \\\n",
       "num_critic_for_reviews                   0.168785  0.469091         0.596866   \n",
       "duration                                 0.085880  0.250522         0.345177   \n",
       "director_facebook_likes                  0.091623  0.141807         0.303852   \n",
       "actor_3_facebook_likes                   0.252765  0.282772         0.259370   \n",
       "actor_1_facebook_likes                   1.000000  0.145106         0.180137   \n",
       "gross                                    0.145106  1.000000         0.627127   \n",
       "num_voted_users                          0.180137  0.627127         1.000000   \n",
       "cast_total_facebook_likes                0.946303  0.230689         0.246441   \n",
       "facenumber_in_poster                     0.059678 -0.032652        -0.034980   \n",
       "num_user_for_reviews                     0.124409  0.550847         0.781628   \n",
       "content_rating                           0.007599 -0.266239         0.016665   \n",
       "budget                                   0.016995  0.100624         0.067801   \n",
       "actor_2_facebook_likes                   0.390381  0.245839         0.241337   \n",
       "imdb_score                               0.092846  0.216599         0.479026   \n",
       "movie_facebook_likes                     0.128764  0.365262         0.518519   \n",
       "Profit                                   0.027468  0.205543         0.124282   \n",
       "ROI                                     -0.015725  0.018460         0.010230   \n",
       "\n",
       "                           cast_total_facebook_likes  facenumber_in_poster  \\\n",
       "num_critic_for_reviews                      0.237375             -0.034445   \n",
       "duration                                    0.121234              0.027864   \n",
       "director_facebook_likes                     0.121525             -0.046995   \n",
       "actor_3_facebook_likes                      0.485410              0.104370   \n",
       "actor_1_facebook_likes                      0.946303              0.059678   \n",
       "gross                                       0.230689             -0.032652   \n",
       "num_voted_users                             0.246441             -0.034980   \n",
       "cast_total_facebook_likes                   1.000000              0.081518   \n",
       "facenumber_in_poster                        0.081518              1.000000   \n",
       "num_user_for_reviews                        0.179870             -0.081270   \n",
       "content_rating                              0.000097              0.021803   \n",
       "budget                                      0.028893             -0.021879   \n",
       "actor_2_facebook_likes                      0.639919              0.069776   \n",
       "imdb_score                                  0.105296             -0.069641   \n",
       "movie_facebook_likes                        0.199730              0.014088   \n",
       "Profit                                      0.041830              0.011595   \n",
       "ROI                                        -0.018807             -0.013430   \n",
       "\n",
       "                           num_user_for_reviews  content_rating    budget  \\\n",
       "num_critic_for_reviews                 0.568970        0.076517  0.106570   \n",
       "duration                               0.357779        0.099372  0.069353   \n",
       "director_facebook_likes                0.220850        0.018990  0.018904   \n",
       "actor_3_facebook_likes                 0.202895       -0.038628  0.039158   \n",
       "actor_1_facebook_likes                 0.124409        0.007599  0.016995   \n",
       "gross                                  0.550847       -0.266239  0.100624   \n",
       "num_voted_users                        0.781628        0.016665  0.067801   \n",
       "cast_total_facebook_likes              0.179870        0.000097  0.028893   \n",
       "facenumber_in_poster                  -0.081270        0.021803 -0.021879   \n",
       "num_user_for_reviews                   1.000000        0.052702  0.072687   \n",
       "content_rating                         0.052702        1.000000 -0.030963   \n",
       "budget                                 0.072687       -0.030963  1.000000   \n",
       "actor_2_facebook_likes                 0.187694        0.011846  0.035667   \n",
       "imdb_score                             0.324276        0.118674  0.030483   \n",
       "movie_facebook_likes                   0.373072        0.019214  0.052952   \n",
       "Profit                                 0.096247       -0.050126 -0.952998   \n",
       "ROI                                    0.068256        0.020068 -0.008009   \n",
       "\n",
       "                           actor_2_facebook_likes  imdb_score  \\\n",
       "num_critic_for_reviews                   0.254052    0.349083   \n",
       "duration                                 0.128916    0.366329   \n",
       "director_facebook_likes                  0.119247    0.191921   \n",
       "actor_3_facebook_likes                   0.550690    0.064969   \n",
       "actor_1_facebook_likes                   0.390381    0.092846   \n",
       "gross                                    0.245839    0.216599   \n",
       "num_voted_users                          0.241337    0.479026   \n",
       "cast_total_facebook_likes                0.639919    0.105296   \n",
       "facenumber_in_poster                     0.069776   -0.069641   \n",
       "num_user_for_reviews                     0.187694    0.324276   \n",
       "content_rating                           0.011846    0.118674   \n",
       "budget                                   0.035667    0.030483   \n",
       "actor_2_facebook_likes                   1.000000    0.100833   \n",
       "imdb_score                               0.100833    1.000000   \n",
       "movie_facebook_likes                     0.226131    0.282927   \n",
       "Profit                                   0.039770    0.035974   \n",
       "ROI                                     -0.013939    0.010183   \n",
       "\n",
       "                           movie_facebook_likes    Profit       ROI  \n",
       "num_critic_for_reviews                 0.702661  0.038012  0.032769  \n",
       "duration                               0.219947  0.008071 -0.032988  \n",
       "director_facebook_likes                0.162228  0.024589 -0.006370  \n",
       "actor_3_facebook_likes                 0.259299  0.047570 -0.012468  \n",
       "actor_1_facebook_likes                 0.128764  0.027468 -0.015725  \n",
       "gross                                  0.365262  0.205543  0.018460  \n",
       "num_voted_users                        0.518519  0.124282  0.010230  \n",
       "cast_total_facebook_likes              0.199730  0.041830 -0.018807  \n",
       "facenumber_in_poster                   0.014088  0.011595 -0.013430  \n",
       "num_user_for_reviews                   0.373072  0.096247  0.068256  \n",
       "content_rating                         0.019214 -0.050126  0.020068  \n",
       "budget                                 0.052952 -0.952998 -0.008009  \n",
       "actor_2_facebook_likes                 0.226131  0.039770 -0.013939  \n",
       "imdb_score                             0.282927  0.035974  0.010183  \n",
       "movie_facebook_likes                   1.000000  0.059144 -0.003015  \n",
       "Profit                                 0.059144  1.000000  0.013499  \n",
       "ROI                                   -0.003015  0.013499  1.000000  "
      ]
     },
     "execution_count": 76,
     "metadata": {},
     "output_type": "execute_result"
    }
   ],
   "source": [
    "df.corr()"
   ]
  },
  {
   "cell_type": "markdown",
   "metadata": {},
   "source": [
    "Not a ton of numbers stand out, and this is hard to read, so let's make it easier to see. I'll use a heatmap for this:"
   ]
  },
  {
   "cell_type": "code",
   "execution_count": 77,
   "metadata": {
    "scrolled": true
   },
   "outputs": [
    {
     "data": {
      "image/png": "[encoded data removed]",
      "text/plain": [
       "<Figure size 1080x1080 with 2 Axes>"
      ]
     },
     "metadata": {
      "needs_background": "light"
     },
     "output_type": "display_data"
    }
   ],
   "source": [
    "plt.figure(figsize=(15,15))\n",
    "ax = sns.heatmap(df.corr(), annot=True, linewidth=0.5)\n",
    "#code below is needed to fix borders of heatmap\n",
    "#ax.get_ylim()\n",
    "ax.set_ylim(17.0, 0.0);"
   ]
  },
  {
   "cell_type": "markdown",
   "metadata": {},
   "source": [
    "This is now much easier to read. The lighter the color, the higher the correlation. What's interesting about this data is that there are not many values that indicate a high correlation with imdb scores. At the same time, there's only one variable that has a negative correlation (number of faces in the movie poster). This tells us that generally, the higher you can make each variable (except for number of faces in the movie poster), the better your movie will do on imdb, but none of these variables are a silver bullet. If you had to choose, the variables with the highest correlations are number of critical reviews on imdb, facebook likes, number of user votes, number of user reviews, gross, and duration. \n",
    "\n",
    "However, each of these variables minus duration are not very helpful for movie production companies. Many of these correlation values are likely the result of the movie's success, not the cause for it. Duration is interesting to look at because it is intrinsic to the movie itself, which production companies have control over. Facebook likes is also interesting to note because it could be a result of better marketing, but it's also possible it's the result of the movie's intrinsic success, not a cause of it.\n",
    "\n",
    "The largest takeaway from these variables is that they are not very useful for creating successful movies (with regards to imdb score). Facebook popularity of actors, budget, and profit don't matter very much. Popular and financially successful movies are not necessarily more liked than any other movie.\n",
    "\n",
    "Aside from looking at causes of imdb score, there are some other variable relationships that are useful to note. Budget and profit, for example, have an extremely negative correlation. This indicates that the lower budget movies have the highest chance for a high profit production. Another noticeable finding is the relationship between actor facebook likes and total facebook likes. The main actor has a .95 correlation with facebook likes, with actors 2 and 3 falling behind. This shows that movies often do have 1 main star, rather than 2 or 3 equally big names."
   ]
  },
  {
   "cell_type": "markdown",
   "metadata": {},
   "source": [
    "<h2>Part 6 - Storytelling </h2>"
   ]
  },
  {
   "cell_type": "markdown",
   "metadata": {},
   "source": [
    "After performing this analysis, I have a pretty good feeling for what factors have the largest impact on a movie's imdb score \"success\". The factors most important to producing movies with a high imdb score are:\n",
    "* Director\n",
    "* Main Actor\n",
    "* Second Actor\n",
    "* Third Actor\n",
    "* Duration\n",
    "\n",
    "Nothing else in the data comes close. Obviously it's more complicated than just throwing actors and directors together, but if you can secure a director with a long track record of success, your odds of a highly rated movie on imdb are very high. If a company hires a director with a history of failure, it likely won't end well in terms of a rating. The same is true of actors. Production companies should seek out full-time actors with a history of success if they want a successful movie. Movies with a longer duration also have a correlation with higher ratings, which would be interesting to investigate with more data and information.\n",
    "\n",
    "Other factors, such as budget or facebook popularity of actors, don't have as large of an impact as one would think. Genre may have an impact, but if so, it's small. Regarding money, if movie production companies want to make a movie with a high amount of raw profit, having a high budget isn't a great idea, while return on investment ratio isn't really correlated with budget at all.\n",
    "\n",
    "In some ways, this project was more telling with regards to what happens when movies are highly rated. Movies that are highly rated have more user reviews, user ratings, critical reviews, and facebook likes. Ideally, this would be useful information, but these values are not intrinsic to movie quality - they're intrinsic to movie popularity - which makes sense. Movies of higher quality will be more likely to be watched, reviewed, and voted on. \n",
    "\n",
    "To conclude, the biggest predictor of movie success, according to this data, are the people involved, primarily directors and actors. External factors such as budget or facebook popularity don't move the needle much. Finding ways to make your movie more popular with reviewers and imdb users may help, but it's difficult to tell just how that affects movie success."
   ]
  },
  {
   "cell_type": "markdown",
   "metadata": {
    "slideshow": {
     "slide_type": "slide"
    }
   },
   "source": [
    "<h2> Final Project - Additional Analysis </h2>"
   ]
  },
  {
   "cell_type": "markdown",
   "metadata": {
    "slideshow": {
     "slide_type": "fragment"
    }
   },
   "source": [
    "Everything above this section is from the mid-term project. Below is the additional analysis required for the final project. The objective of this additional analysis is to create different regression and classification models, along with performing a clustering analysis. The models can be used to predict if movies are good and bad, while clustering analysis can allow for various movie \"profiles\" to be discovered. "
   ]
  },
  {
   "cell_type": "markdown",
   "metadata": {
    "slideshow": {
     "slide_type": "slide"
    }
   },
   "source": [
    "<h2> Part 7 - Regression </h2>"
   ]
  },
  {
   "cell_type": "code",
   "execution_count": 85,
   "metadata": {
    "slideshow": {
     "slide_type": "skip"
    }
   },
   "outputs": [
    {
     "data": {
      "text/plain": [
       "color                         1\n",
       "director_name                 0\n",
       "num_critic_for_reviews        0\n",
       "duration                      0\n",
       "director_facebook_likes       0\n",
       "actor_3_facebook_likes        0\n",
       "actor_2_name                  0\n",
       "actor_1_facebook_likes        0\n",
       "gross                         0\n",
       "actor_1_name                  0\n",
       "movie_title                   0\n",
       "num_voted_users               0\n",
       "cast_total_facebook_likes     0\n",
       "actor_3_name                  0\n",
       "facenumber_in_poster          0\n",
       "plot_keywords                18\n",
       "movie_imdb_link               0\n",
       "num_user_for_reviews          0\n",
       "language                      2\n",
       "country                       0\n",
       "content_rating                0\n",
       "budget                        0\n",
       "actor_2_facebook_likes        0\n",
       "imdb_score                    0\n",
       "movie_facebook_likes          0\n",
       "Profit                        0\n",
       "ROI                           0\n",
       "dtype: int64"
      ]
     },
     "execution_count": 85,
     "metadata": {},
     "output_type": "execute_result"
    }
   ],
   "source": [
    "df.isnull().sum()"
   ]
  },
  {
   "cell_type": "markdown",
   "metadata": {
    "slideshow": {
     "slide_type": "skip"
    }
   },
   "source": [
    "We have some values with nulls in them. They need to be removed to begin regression analysis."
   ]
  },
  {
   "cell_type": "code",
   "execution_count": 86,
   "metadata": {
    "slideshow": {
     "slide_type": "skip"
    }
   },
   "outputs": [
    {
     "data": {
      "text/plain": [
       "color                         1\n",
       "director_name                 0\n",
       "num_critic_for_reviews        0\n",
       "duration                      0\n",
       "director_facebook_likes       0\n",
       "actor_3_facebook_likes        0\n",
       "actor_2_name                  0\n",
       "actor_1_facebook_likes        0\n",
       "gross                         0\n",
       "actor_1_name                  0\n",
       "movie_title                   0\n",
       "num_voted_users               0\n",
       "cast_total_facebook_likes     0\n",
       "actor_3_name                  0\n",
       "facenumber_in_poster          0\n",
       "plot_keywords                18\n",
       "movie_imdb_link               0\n",
       "num_user_for_reviews          0\n",
       "language                      2\n",
       "country                       0\n",
       "content_rating                0\n",
       "budget                        0\n",
       "actor_2_facebook_likes        0\n",
       "imdb_score                    0\n",
       "movie_facebook_likes          0\n",
       "Profit                        0\n",
       "ROI                           0\n",
       "dtype: int64"
      ]
     },
     "execution_count": 86,
     "metadata": {},
     "output_type": "execute_result"
    }
   ],
   "source": [
    "df = df.dropna(subset=['content_rating'])\n",
    "df = df.dropna(subset=['facenumber_in_poster'])\n",
    "df = df.dropna(subset=['actor_2_facebook_likes'])\n",
    "df = df.dropna(subset=['actor_3_facebook_likes'])\n",
    "df = df.dropna(subset=['num_critic_for_reviews'])\n",
    "df.isnull().sum()"
   ]
  },
  {
   "cell_type": "code",
   "execution_count": 87,
   "metadata": {
    "slideshow": {
     "slide_type": "fragment"
    }
   },
   "outputs": [],
   "source": [
    "X = df[['num_critic_for_reviews','duration','director_facebook_likes','actor_3_facebook_likes','actor_1_facebook_likes','gross','num_voted_users','cast_total_facebook_likes','facenumber_in_poster','num_user_for_reviews','content_rating','actor_2_facebook_likes','budget','movie_facebook_likes','Profit','ROI']]\n",
    "y = df['imdb_score']"
   ]
  },
  {
   "cell_type": "code",
   "execution_count": 88,
   "metadata": {
    "slideshow": {
     "slide_type": "skip"
    }
   },
   "outputs": [],
   "source": [
    "model1 = lm.LinearRegression()\n",
    "model1.fit(X, y)   \n",
    "model1_y = model1.predict(X)"
   ]
  },
  {
   "cell_type": "code",
   "execution_count": 89,
   "metadata": {
    "slideshow": {
     "slide_type": "skip"
    }
   },
   "outputs": [
    {
     "data": {
      "text/plain": [
       "[('num_critic_for_reviews', '0.001'),\n",
       " ('duration', '0.012'),\n",
       " ('director_facebook_likes', '0.000'),\n",
       " ('actor_3_facebook_likes', '0.000'),\n",
       " ('actor_1_facebook_likes', '0.000'),\n",
       " ('gross', '-23090.293'),\n",
       " ('num_voted_users', '0.000'),\n",
       " ('cast_total_facebook_likes', '-0.000'),\n",
       " ('facenumber_in_poster', '-0.032'),\n",
       " ('num_user_for_reviews', '-0.001'),\n",
       " ('content_rating', '0.075'),\n",
       " ('actor_2_facebook_likes', '0.000'),\n",
       " ('budget', '23090.293'),\n",
       " ('movie_facebook_likes', '-0.000'),\n",
       " ('Profit', '23090.293'),\n",
       " ('ROI', '0.000')]"
      ]
     },
     "execution_count": 89,
     "metadata": {},
     "output_type": "execute_result"
    }
   ],
   "source": [
    "coef = [\"%.3f\" % i for i in model1.coef_]\n",
    "xcolumns = [ i for i in X.columns ]\n",
    "list(zip(xcolumns, coef))"
   ]
  },
  {
   "cell_type": "code",
   "execution_count": 90,
   "metadata": {
    "slideshow": {
     "slide_type": "skip"
    }
   },
   "outputs": [
    {
     "name": "stdout",
     "output_type": "stream",
     "text": [
      "Coefficients:  [ 1.46693726e-03  1.20031880e-02  7.54914874e-06  7.27787090e-05\n",
      "  7.35819637e-05 -2.30902934e+04  3.91939294e-06 -7.27196454e-05\n",
      " -3.18897712e-02 -5.91202928e-04  7.45688821e-02  7.47213428e-05\n",
      "  2.30902934e+04 -2.37881694e-06  2.30902934e+04  1.24517587e-04]\n",
      "y-intercept  4.610764292481791\n"
     ]
    }
   ],
   "source": [
    "# The coefficients\n",
    "print('Coefficients: ', model1.coef_)\n",
    "# y-intercept\n",
    "print(\"y-intercept \", model1.intercept_)"
   ]
  },
  {
   "cell_type": "markdown",
   "metadata": {
    "slideshow": {
     "slide_type": "slide"
    }
   },
   "source": [
    "Here I've built a basic regression model using every single input variable we have. It is not practical but is an interesting starting point."
   ]
  },
  {
   "cell_type": "code",
   "execution_count": 91,
   "metadata": {
    "slideshow": {
     "slide_type": "slide"
    }
   },
   "outputs": [
    {
     "data": {
      "image/png": "[encoded data removed]",
      "text/plain": [
       "<Figure size 432x288 with 1 Axes>"
      ]
     },
     "metadata": {
      "needs_background": "light"
     },
     "output_type": "display_data"
    }
   ],
   "source": [
    "plt.subplots()\n",
    "plt.scatter(y, model1_y)\n",
    "plt.plot([y.min(), y.max()], [y.min(), y.max()], 'k--', lw=4)   #dotted line represents perfect prediction (actual = predicted)\n",
    "plt.xlabel('Actual')\n",
    "plt.ylabel('Predicted')\n",
    "plt.show()"
   ]
  },
  {
   "cell_type": "code",
   "execution_count": 92,
   "metadata": {
    "slideshow": {
     "slide_type": "slide"
    }
   },
   "outputs": [
    {
     "name": "stdout",
     "output_type": "stream",
     "text": [
      "mean square error:  0.7364989608186568\n",
      "variance or r-squared:  0.3397801904822666\n"
     ]
    }
   ],
   "source": [
    "print(\"mean square error: \", mean_squared_error(y, model1_y))\n",
    "print(\"variance or r-squared: \", explained_variance_score(y, model1_y))"
   ]
  },
  {
   "cell_type": "markdown",
   "metadata": {
    "slideshow": {
     "slide_type": "fragment"
    }
   },
   "source": [
    "The model clearly isn't very good, and isn't efficient either as it uses every variable in the dataset. I will use some advanced regression techniques below to hopefully make some improved models."
   ]
  },
  {
   "cell_type": "markdown",
   "metadata": {
    "slideshow": {
     "slide_type": "slide"
    }
   },
   "source": [
    "<b>First up is regularization with lasso.</b>"
   ]
  },
  {
   "cell_type": "code",
   "execution_count": 93,
   "metadata": {
    "slideshow": {
     "slide_type": "skip"
    }
   },
   "outputs": [],
   "source": [
    "X2 = df[['num_critic_for_reviews','duration','director_facebook_likes','actor_3_facebook_likes','actor_1_facebook_likes','gross','num_voted_users','cast_total_facebook_likes','facenumber_in_poster','num_user_for_reviews','content_rating','actor_2_facebook_likes','budget','movie_facebook_likes','Profit','ROI']]\n",
    "y2 = df['imdb_score']"
   ]
  },
  {
   "cell_type": "code",
   "execution_count": 94,
   "metadata": {
    "slideshow": {
     "slide_type": "skip"
    }
   },
   "outputs": [
    {
     "name": "stderr",
     "output_type": "stream",
     "text": [
      "C:\\Users\\Brian\\Anaconda3\\lib\\site-packages\\sklearn\\linear_model\\coordinate_descent.py:475: ConvergenceWarning: Objective did not converge. You might want to increase the number of iterations. Duality gap: 1391.7887609300294, tolerance: 0.4116327598915989\n",
      "  positive)\n"
     ]
    },
    {
     "data": {
      "text/plain": [
       "Lasso(alpha=0.4, copy_X=True, fit_intercept=True, max_iter=1000,\n",
       "      normalize=False, positive=False, precompute=False, random_state=None,\n",
       "      selection='cyclic', tol=0.0001, warm_start=False)"
      ]
     },
     "execution_count": 94,
     "metadata": {},
     "output_type": "execute_result"
    }
   ],
   "source": [
    "modelclf = lm.Lasso(alpha=.4)\n",
    "modelclf.fit(X2, y2)"
   ]
  },
  {
   "cell_type": "code",
   "execution_count": 95,
   "metadata": {
    "slideshow": {
     "slide_type": "skip"
    }
   },
   "outputs": [
    {
     "name": "stdout",
     "output_type": "stream",
     "text": [
      "Coefficients:  [ 1.50145666e-03  1.11855233e-02  8.92778608e-06  6.35346931e-05\n",
      "  7.01723576e-05 -1.66480950e-09  3.95164592e-06 -6.94713237e-05\n",
      " -0.00000000e+00 -5.29473512e-04  0.00000000e+00  7.21054330e-05\n",
      " -6.95579697e-11 -2.34343824e-06 -2.91938874e-11  1.02318897e-04]\n",
      "y-intercept:  4.893520673798172\n",
      "R-squared:  0.3331509263630107\n"
     ]
    }
   ],
   "source": [
    "\n",
    "\n",
    "print('Coefficients: ', modelclf.coef_)\n",
    "print(\"y-intercept: \", modelclf.intercept_)\n",
    "print(\"R-squared: \", modelclf.score(X2,y2))\n",
    "\n"
   ]
  },
  {
   "cell_type": "code",
   "execution_count": 96,
   "metadata": {
    "slideshow": {
     "slide_type": "skip"
    }
   },
   "outputs": [
    {
     "name": "stderr",
     "output_type": "stream",
     "text": [
      "C:\\Users\\Brian\\Anaconda3\\lib\\site-packages\\sklearn\\linear_model\\coordinate_descent.py:475: ConvergenceWarning: Objective did not converge. You might want to increase the number of iterations. Duality gap: 1454.991455396421, tolerance: 0.4116327598915989\n",
      "  positive)\n"
     ]
    },
    {
     "data": {
      "text/plain": [
       "Lasso(alpha=2, copy_X=True, fit_intercept=True, max_iter=1000, normalize=False,\n",
       "      positive=False, precompute=False, random_state=None, selection='cyclic',\n",
       "      tol=0.0001, warm_start=False)"
      ]
     },
     "execution_count": 96,
     "metadata": {},
     "output_type": "execute_result"
    }
   ],
   "source": [
    "modelclf = lm.Lasso(alpha=2)\n",
    "modelclf.fit(X2, y2)"
   ]
  },
  {
   "cell_type": "code",
   "execution_count": 97,
   "metadata": {
    "slideshow": {
     "slide_type": "slide"
    }
   },
   "outputs": [
    {
     "name": "stdout",
     "output_type": "stream",
     "text": [
      "Coefficients:  [ 1.17670014e-03  7.24551029e-03  1.13547968e-05  5.42123824e-05\n",
      "  6.46065889e-05 -1.55848279e-09  3.95061731e-06 -6.37454698e-05\n",
      " -0.00000000e+00 -4.21593669e-04  0.00000000e+00  6.73181237e-05\n",
      " -1.10160373e-10 -1.06617111e-06 -9.22126176e-11  0.00000000e+00]\n",
      "y-intercept:  5.322327246973815\n",
      "R-squared:  0.32349842027103937\n"
     ]
    }
   ],
   "source": [
    "print('Coefficients: ', modelclf.coef_)\n",
    "print(\"y-intercept: \", modelclf.intercept_)\n",
    "print(\"R-squared: \", modelclf.score(X2,y2))\n"
   ]
  },
  {
   "cell_type": "markdown",
   "metadata": {
    "slideshow": {
     "slide_type": "fragment"
    }
   },
   "source": [
    "As you can see, the r-squared values for these 2 lasso regressions are quite poor. Switching from a .4 to a 4 alpha value eliminated an additional input variable and lowered coefficient values for other variables, with only a small loss in r-squared value. "
   ]
  },
  {
   "cell_type": "markdown",
   "metadata": {
    "slideshow": {
     "slide_type": "slide"
    }
   },
   "source": [
    "<b>Now onto feature selection.</b>"
   ]
  },
  {
   "cell_type": "code",
   "execution_count": 98,
   "metadata": {
    "slideshow": {
     "slide_type": "skip"
    }
   },
   "outputs": [
    {
     "data": {
      "text/plain": [
       "array([[7.23000e+02, 1.78000e+02, 8.86204e+05, 3.05400e+03],\n",
       "       [3.02000e+02, 1.69000e+02, 4.71220e+05, 1.23800e+03],\n",
       "       [6.02000e+02, 1.48000e+02, 2.75868e+05, 9.94000e+02],\n",
       "       ...,\n",
       "       [1.43000e+02, 7.70000e+01, 7.26390e+04, 3.71000e+02],\n",
       "       [5.60000e+01, 8.10000e+01, 5.20550e+04, 1.30000e+02],\n",
       "       [4.30000e+01, 9.00000e+01, 4.28500e+03, 8.40000e+01]])"
      ]
     },
     "execution_count": 98,
     "metadata": {},
     "output_type": "execute_result"
    }
   ],
   "source": [
    "X_new = SelectKBest(f_regression, k=4).fit_transform(X, y)\n",
    "X_new"
   ]
  },
  {
   "cell_type": "code",
   "execution_count": 99,
   "metadata": {
    "slideshow": {
     "slide_type": "skip"
    }
   },
   "outputs": [
    {
     "name": "stdout",
     "output_type": "stream",
     "text": [
      "[0 1 6 9]\n"
     ]
    }
   ],
   "source": [
    "selector = SelectKBest(f_regression, k=4).fit(X, y)\n",
    "idxs_selected = selector.get_support(indices=True)\n",
    "print(idxs_selected)"
   ]
  },
  {
   "cell_type": "code",
   "execution_count": 100,
   "metadata": {
    "slideshow": {
     "slide_type": "skip"
    }
   },
   "outputs": [
    {
     "data": {
      "text/html": [
       "<div>\n",
       "<style scoped>\n",
       "    .dataframe tbody tr th:only-of-type {\n",
       "        vertical-align: middle;\n",
       "    }\n",
       "\n",
       "    .dataframe tbody tr th {\n",
       "        vertical-align: top;\n",
       "    }\n",
       "\n",
       "    .dataframe thead th {\n",
       "        text-align: right;\n",
       "    }\n",
       "</style>\n",
       "<table border=\"1\" class=\"dataframe\">\n",
       "  <thead>\n",
       "    <tr style=\"text-align: right;\">\n",
       "      <th></th>\n",
       "      <th>num_critic_for_reviews</th>\n",
       "      <th>duration</th>\n",
       "      <th>director_facebook_likes</th>\n",
       "      <th>actor_3_facebook_likes</th>\n",
       "      <th>actor_1_facebook_likes</th>\n",
       "      <th>gross</th>\n",
       "      <th>num_voted_users</th>\n",
       "      <th>cast_total_facebook_likes</th>\n",
       "      <th>facenumber_in_poster</th>\n",
       "      <th>num_user_for_reviews</th>\n",
       "      <th>content_rating</th>\n",
       "      <th>actor_2_facebook_likes</th>\n",
       "      <th>budget</th>\n",
       "      <th>movie_facebook_likes</th>\n",
       "      <th>Profit</th>\n",
       "      <th>ROI</th>\n",
       "    </tr>\n",
       "  </thead>\n",
       "  <tbody>\n",
       "    <tr>\n",
       "      <th>0</th>\n",
       "      <td>723.0</td>\n",
       "      <td>178.0</td>\n",
       "      <td>0.0</td>\n",
       "      <td>855.0</td>\n",
       "      <td>1000.0</td>\n",
       "      <td>760505847.0</td>\n",
       "      <td>886204</td>\n",
       "      <td>4834</td>\n",
       "      <td>0.0</td>\n",
       "      <td>3054.0</td>\n",
       "      <td>3.0</td>\n",
       "      <td>936.0</td>\n",
       "      <td>237000000.0</td>\n",
       "      <td>33000</td>\n",
       "      <td>523505847.0</td>\n",
       "      <td>2.208885</td>\n",
       "    </tr>\n",
       "    <tr>\n",
       "      <th>1</th>\n",
       "      <td>302.0</td>\n",
       "      <td>169.0</td>\n",
       "      <td>563.0</td>\n",
       "      <td>1000.0</td>\n",
       "      <td>40000.0</td>\n",
       "      <td>309404152.0</td>\n",
       "      <td>471220</td>\n",
       "      <td>48350</td>\n",
       "      <td>0.0</td>\n",
       "      <td>1238.0</td>\n",
       "      <td>3.0</td>\n",
       "      <td>5000.0</td>\n",
       "      <td>300000000.0</td>\n",
       "      <td>0</td>\n",
       "      <td>9404152.0</td>\n",
       "      <td>0.031347</td>\n",
       "    </tr>\n",
       "  </tbody>\n",
       "</table>\n",
       "</div>"
      ],
      "text/plain": [
       "   num_critic_for_reviews  duration  director_facebook_likes  \\\n",
       "0                   723.0     178.0                      0.0   \n",
       "1                   302.0     169.0                    563.0   \n",
       "\n",
       "   actor_3_facebook_likes  actor_1_facebook_likes        gross  \\\n",
       "0                   855.0                  1000.0  760505847.0   \n",
       "1                  1000.0                 40000.0  309404152.0   \n",
       "\n",
       "   num_voted_users  cast_total_facebook_likes  facenumber_in_poster  \\\n",
       "0           886204                       4834                   0.0   \n",
       "1           471220                      48350                   0.0   \n",
       "\n",
       "   num_user_for_reviews  content_rating  actor_2_facebook_likes       budget  \\\n",
       "0                3054.0             3.0                   936.0  237000000.0   \n",
       "1                1238.0             3.0                  5000.0  300000000.0   \n",
       "\n",
       "   movie_facebook_likes       Profit       ROI  \n",
       "0                 33000  523505847.0  2.208885  \n",
       "1                     0    9404152.0  0.031347  "
      ]
     },
     "execution_count": 100,
     "metadata": {},
     "output_type": "execute_result"
    }
   ],
   "source": [
    "X.head(2)"
   ]
  },
  {
   "cell_type": "code",
   "execution_count": 101,
   "metadata": {
    "slideshow": {
     "slide_type": "slide"
    }
   },
   "outputs": [
    {
     "name": "stdout",
     "output_type": "stream",
     "text": [
      "mean square error:  0.7710971921398639\n",
      "variance or r-squared:  0.30876525965877843\n"
     ]
    }
   ],
   "source": [
    "modelf = lm.LinearRegression()\n",
    "modelf.fit(X_new, y)\n",
    "modelf_y = modelf.predict(X_new)\n",
    "\n",
    "print(\"mean square error: \", mean_squared_error(y, modelf_y))\n",
    "print(\"variance or r-squared: \", explained_variance_score(y, modelf_y))"
   ]
  },
  {
   "cell_type": "code",
   "execution_count": 102,
   "metadata": {
    "slideshow": {
     "slide_type": "skip"
    }
   },
   "outputs": [
    {
     "name": "stdout",
     "output_type": "stream",
     "text": [
      "Coefficients:  [ 1.07583848e-03  1.18503425e-02  3.42847217e-06 -5.50738820e-04]\n",
      "y-intercept  4.785655203181\n"
     ]
    }
   ],
   "source": [
    "print('Coefficients: ', modelf.coef_)\n",
    "print(\"y-intercept \", modelf.intercept_)"
   ]
  },
  {
   "cell_type": "markdown",
   "metadata": {
    "slideshow": {
     "slide_type": "slide"
    }
   },
   "source": [
    "It does not appear that any of the models developed using regression will be very accurate for predicting movie imdb success, as this feature selection using 4 variables has an r-squared value of only .308, while the lasso model had an r-squared value of .32.\n",
    "\n",
    "The variables selected using this technique were number of critic reviews, duration, number of user votes, and number of user reviews. \n",
    "\n",
    "The equation would look like: imdb_score = 0.007critic_reviews + 0.018duration + 0.0000034num_voted_users - 0.00055num_user_for_reviews."
   ]
  },
  {
   "cell_type": "markdown",
   "metadata": {
    "slideshow": {
     "slide_type": "slide"
    }
   },
   "source": [
    "<h2> Part 8 - Classification</h2>"
   ]
  },
  {
   "cell_type": "markdown",
   "metadata": {
    "slideshow": {
     "slide_type": "slide"
    }
   },
   "source": [
    "<b> I will begin the classification section of the analysis by building a decision tree model.</b>"
   ]
  },
  {
   "cell_type": "markdown",
   "metadata": {
    "slideshow": {
     "slide_type": "fragment"
    }
   },
   "source": [
    "First I will sort movies into 4 \"bins\" by quality. This will be based on imdb score. Groupings will be imdb scores of 0-4, 4-6, 6-8, and 8-10."
   ]
  },
  {
   "cell_type": "code",
   "execution_count": 103,
   "metadata": {
    "slideshow": {
     "slide_type": "skip"
    }
   },
   "outputs": [],
   "source": [
    "df_class = df"
   ]
  },
  {
   "cell_type": "code",
   "execution_count": 104,
   "metadata": {
    "slideshow": {
     "slide_type": "fragment"
    }
   },
   "outputs": [],
   "source": [
    "bins = [0, 4, 6, 8, 10]\n",
    "labels = [1,2,3,4]\n",
    "df_class['binned'] = pd.cut(df_class['imdb_score'], bins=bins, labels=labels)"
   ]
  },
  {
   "cell_type": "code",
   "execution_count": 105,
   "metadata": {
    "slideshow": {
     "slide_type": "skip"
    }
   },
   "outputs": [
    {
     "data": {
      "text/html": [
       "<div>\n",
       "<style scoped>\n",
       "    .dataframe tbody tr th:only-of-type {\n",
       "        vertical-align: middle;\n",
       "    }\n",
       "\n",
       "    .dataframe tbody tr th {\n",
       "        vertical-align: top;\n",
       "    }\n",
       "\n",
       "    .dataframe thead th {\n",
       "        text-align: right;\n",
       "    }\n",
       "</style>\n",
       "<table border=\"1\" class=\"dataframe\">\n",
       "  <thead>\n",
       "    <tr style=\"text-align: right;\">\n",
       "      <th></th>\n",
       "      <th>color</th>\n",
       "      <th>director_name</th>\n",
       "      <th>num_critic_for_reviews</th>\n",
       "      <th>duration</th>\n",
       "      <th>director_facebook_likes</th>\n",
       "      <th>actor_3_facebook_likes</th>\n",
       "      <th>actor_2_name</th>\n",
       "      <th>actor_1_facebook_likes</th>\n",
       "      <th>gross</th>\n",
       "      <th>actor_1_name</th>\n",
       "      <th>movie_title</th>\n",
       "      <th>num_voted_users</th>\n",
       "      <th>cast_total_facebook_likes</th>\n",
       "      <th>actor_3_name</th>\n",
       "      <th>facenumber_in_poster</th>\n",
       "      <th>plot_keywords</th>\n",
       "      <th>movie_imdb_link</th>\n",
       "      <th>num_user_for_reviews</th>\n",
       "      <th>language</th>\n",
       "      <th>country</th>\n",
       "      <th>content_rating</th>\n",
       "      <th>budget</th>\n",
       "      <th>actor_2_facebook_likes</th>\n",
       "      <th>imdb_score</th>\n",
       "      <th>movie_facebook_likes</th>\n",
       "      <th>Profit</th>\n",
       "      <th>ROI</th>\n",
       "      <th>binned</th>\n",
       "    </tr>\n",
       "  </thead>\n",
       "  <tbody>\n",
       "    <tr>\n",
       "      <th>0</th>\n",
       "      <td>Color</td>\n",
       "      <td>James Cameron</td>\n",
       "      <td>723.0</td>\n",
       "      <td>178.0</td>\n",
       "      <td>0.0</td>\n",
       "      <td>855.0</td>\n",
       "      <td>Joel David Moore</td>\n",
       "      <td>1000.0</td>\n",
       "      <td>760505847.0</td>\n",
       "      <td>CCH Pounder</td>\n",
       "      <td>Avatar</td>\n",
       "      <td>886204</td>\n",
       "      <td>4834</td>\n",
       "      <td>Wes Studi</td>\n",
       "      <td>0.0</td>\n",
       "      <td>avatar|future|marine|native|paraplegic</td>\n",
       "      <td>http://www.imdb.com/title/tt0499549/?ref_=fn_t...</td>\n",
       "      <td>3054.0</td>\n",
       "      <td>English</td>\n",
       "      <td>USA</td>\n",
       "      <td>3.0</td>\n",
       "      <td>237000000.0</td>\n",
       "      <td>936.0</td>\n",
       "      <td>7.9</td>\n",
       "      <td>33000</td>\n",
       "      <td>523505847.0</td>\n",
       "      <td>2.208885</td>\n",
       "      <td>3</td>\n",
       "    </tr>\n",
       "    <tr>\n",
       "      <th>1</th>\n",
       "      <td>Color</td>\n",
       "      <td>Gore Verbinski</td>\n",
       "      <td>302.0</td>\n",
       "      <td>169.0</td>\n",
       "      <td>563.0</td>\n",
       "      <td>1000.0</td>\n",
       "      <td>Orlando Bloom</td>\n",
       "      <td>40000.0</td>\n",
       "      <td>309404152.0</td>\n",
       "      <td>Johnny Depp</td>\n",
       "      <td>Pirates of the Caribbean: At World's End</td>\n",
       "      <td>471220</td>\n",
       "      <td>48350</td>\n",
       "      <td>Jack Davenport</td>\n",
       "      <td>0.0</td>\n",
       "      <td>goddess|marriage ceremony|marriage proposal|pi...</td>\n",
       "      <td>http://www.imdb.com/title/tt0449088/?ref_=fn_t...</td>\n",
       "      <td>1238.0</td>\n",
       "      <td>English</td>\n",
       "      <td>USA</td>\n",
       "      <td>3.0</td>\n",
       "      <td>300000000.0</td>\n",
       "      <td>5000.0</td>\n",
       "      <td>7.1</td>\n",
       "      <td>0</td>\n",
       "      <td>9404152.0</td>\n",
       "      <td>0.031347</td>\n",
       "      <td>3</td>\n",
       "    </tr>\n",
       "    <tr>\n",
       "      <th>2</th>\n",
       "      <td>Color</td>\n",
       "      <td>Sam Mendes</td>\n",
       "      <td>602.0</td>\n",
       "      <td>148.0</td>\n",
       "      <td>0.0</td>\n",
       "      <td>161.0</td>\n",
       "      <td>Rory Kinnear</td>\n",
       "      <td>11000.0</td>\n",
       "      <td>200074175.0</td>\n",
       "      <td>Christoph Waltz</td>\n",
       "      <td>Spectre</td>\n",
       "      <td>275868</td>\n",
       "      <td>11700</td>\n",
       "      <td>Stephanie Sigman</td>\n",
       "      <td>1.0</td>\n",
       "      <td>bomb|espionage|sequel|spy|terrorist</td>\n",
       "      <td>http://www.imdb.com/title/tt2379713/?ref_=fn_t...</td>\n",
       "      <td>994.0</td>\n",
       "      <td>English</td>\n",
       "      <td>UK</td>\n",
       "      <td>3.0</td>\n",
       "      <td>245000000.0</td>\n",
       "      <td>393.0</td>\n",
       "      <td>6.8</td>\n",
       "      <td>85000</td>\n",
       "      <td>-44925825.0</td>\n",
       "      <td>-0.183371</td>\n",
       "      <td>3</td>\n",
       "    </tr>\n",
       "    <tr>\n",
       "      <th>3</th>\n",
       "      <td>Color</td>\n",
       "      <td>Christopher Nolan</td>\n",
       "      <td>813.0</td>\n",
       "      <td>164.0</td>\n",
       "      <td>22000.0</td>\n",
       "      <td>23000.0</td>\n",
       "      <td>Christian Bale</td>\n",
       "      <td>27000.0</td>\n",
       "      <td>448130642.0</td>\n",
       "      <td>Tom Hardy</td>\n",
       "      <td>The Dark Knight Rises</td>\n",
       "      <td>1144337</td>\n",
       "      <td>106759</td>\n",
       "      <td>Joseph Gordon-Levitt</td>\n",
       "      <td>0.0</td>\n",
       "      <td>deception|imprisonment|lawlessness|police offi...</td>\n",
       "      <td>http://www.imdb.com/title/tt1345836/?ref_=fn_t...</td>\n",
       "      <td>2701.0</td>\n",
       "      <td>English</td>\n",
       "      <td>USA</td>\n",
       "      <td>3.0</td>\n",
       "      <td>250000000.0</td>\n",
       "      <td>23000.0</td>\n",
       "      <td>8.5</td>\n",
       "      <td>164000</td>\n",
       "      <td>198130642.0</td>\n",
       "      <td>0.792523</td>\n",
       "      <td>4</td>\n",
       "    </tr>\n",
       "    <tr>\n",
       "      <th>5</th>\n",
       "      <td>Color</td>\n",
       "      <td>Andrew Stanton</td>\n",
       "      <td>462.0</td>\n",
       "      <td>132.0</td>\n",
       "      <td>475.0</td>\n",
       "      <td>530.0</td>\n",
       "      <td>Samantha Morton</td>\n",
       "      <td>640.0</td>\n",
       "      <td>73058679.0</td>\n",
       "      <td>Daryl Sabara</td>\n",
       "      <td>John Carter</td>\n",
       "      <td>212204</td>\n",
       "      <td>1873</td>\n",
       "      <td>Polly Walker</td>\n",
       "      <td>1.0</td>\n",
       "      <td>alien|american civil war|male nipple|mars|prin...</td>\n",
       "      <td>http://www.imdb.com/title/tt0401729/?ref_=fn_t...</td>\n",
       "      <td>738.0</td>\n",
       "      <td>English</td>\n",
       "      <td>USA</td>\n",
       "      <td>3.0</td>\n",
       "      <td>263700000.0</td>\n",
       "      <td>632.0</td>\n",
       "      <td>6.6</td>\n",
       "      <td>24000</td>\n",
       "      <td>-190641321.0</td>\n",
       "      <td>-0.722948</td>\n",
       "      <td>3</td>\n",
       "    </tr>\n",
       "  </tbody>\n",
       "</table>\n",
       "</div>"
      ],
      "text/plain": [
       "   color      director_name  num_critic_for_reviews  duration  \\\n",
       "0  Color      James Cameron                   723.0     178.0   \n",
       "1  Color     Gore Verbinski                   302.0     169.0   \n",
       "2  Color         Sam Mendes                   602.0     148.0   \n",
       "3  Color  Christopher Nolan                   813.0     164.0   \n",
       "5  Color     Andrew Stanton                   462.0     132.0   \n",
       "\n",
       "   director_facebook_likes  actor_3_facebook_likes      actor_2_name  \\\n",
       "0                      0.0                   855.0  Joel David Moore   \n",
       "1                    563.0                  1000.0     Orlando Bloom   \n",
       "2                      0.0                   161.0      Rory Kinnear   \n",
       "3                  22000.0                 23000.0    Christian Bale   \n",
       "5                    475.0                   530.0   Samantha Morton   \n",
       "\n",
       "   actor_1_facebook_likes        gross     actor_1_name  \\\n",
       "0                  1000.0  760505847.0      CCH Pounder   \n",
       "1                 40000.0  309404152.0      Johnny Depp   \n",
       "2                 11000.0  200074175.0  Christoph Waltz   \n",
       "3                 27000.0  448130642.0        Tom Hardy   \n",
       "5                   640.0   73058679.0     Daryl Sabara   \n",
       "\n",
       "                                 movie_title  num_voted_users  \\\n",
       "0                                    Avatar            886204   \n",
       "1  Pirates of the Caribbean: At World's End            471220   \n",
       "2                                   Spectre            275868   \n",
       "3                     The Dark Knight Rises           1144337   \n",
       "5                               John Carter            212204   \n",
       "\n",
       "   cast_total_facebook_likes          actor_3_name  facenumber_in_poster  \\\n",
       "0                       4834             Wes Studi                   0.0   \n",
       "1                      48350        Jack Davenport                   0.0   \n",
       "2                      11700      Stephanie Sigman                   1.0   \n",
       "3                     106759  Joseph Gordon-Levitt                   0.0   \n",
       "5                       1873          Polly Walker                   1.0   \n",
       "\n",
       "                                       plot_keywords  \\\n",
       "0             avatar|future|marine|native|paraplegic   \n",
       "1  goddess|marriage ceremony|marriage proposal|pi...   \n",
       "2                bomb|espionage|sequel|spy|terrorist   \n",
       "3  deception|imprisonment|lawlessness|police offi...   \n",
       "5  alien|american civil war|male nipple|mars|prin...   \n",
       "\n",
       "                                     movie_imdb_link  num_user_for_reviews  \\\n",
       "0  http://www.imdb.com/title/tt0499549/?ref_=fn_t...                3054.0   \n",
       "1  http://www.imdb.com/title/tt0449088/?ref_=fn_t...                1238.0   \n",
       "2  http://www.imdb.com/title/tt2379713/?ref_=fn_t...                 994.0   \n",
       "3  http://www.imdb.com/title/tt1345836/?ref_=fn_t...                2701.0   \n",
       "5  http://www.imdb.com/title/tt0401729/?ref_=fn_t...                 738.0   \n",
       "\n",
       "  language country  content_rating       budget  actor_2_facebook_likes  \\\n",
       "0  English     USA             3.0  237000000.0                   936.0   \n",
       "1  English     USA             3.0  300000000.0                  5000.0   \n",
       "2  English      UK             3.0  245000000.0                   393.0   \n",
       "3  English     USA             3.0  250000000.0                 23000.0   \n",
       "5  English     USA             3.0  263700000.0                   632.0   \n",
       "\n",
       "   imdb_score  movie_facebook_likes       Profit       ROI binned  \n",
       "0         7.9                 33000  523505847.0  2.208885      3  \n",
       "1         7.1                     0    9404152.0  0.031347      3  \n",
       "2         6.8                 85000  -44925825.0 -0.183371      3  \n",
       "3         8.5                164000  198130642.0  0.792523      4  \n",
       "5         6.6                 24000 -190641321.0 -0.722948      3  "
      ]
     },
     "execution_count": 105,
     "metadata": {},
     "output_type": "execute_result"
    }
   ],
   "source": [
    "df_class.head()"
   ]
  },
  {
   "cell_type": "code",
   "execution_count": 106,
   "metadata": {
    "slideshow": {
     "slide_type": "skip"
    }
   },
   "outputs": [],
   "source": [
    "#dropping non numerical values\n",
    "df_class = df_class.drop(['color', 'director_name', 'actor_2_name', 'actor_1_name','movie_title','actor_3_name','plot_keywords','movie_imdb_link','language','country'], axis=1)"
   ]
  },
  {
   "cell_type": "code",
   "execution_count": 107,
   "metadata": {
    "slideshow": {
     "slide_type": "skip"
    }
   },
   "outputs": [
    {
     "name": "stdout",
     "output_type": "stream",
     "text": [
      "<class 'pandas.core.frame.DataFrame'>\n",
      "Int64Index: 3690 entries, 0 to 5042\n",
      "Data columns (total 18 columns):\n",
      "num_critic_for_reviews       3690 non-null float64\n",
      "duration                     3690 non-null float64\n",
      "director_facebook_likes      3690 non-null float64\n",
      "actor_3_facebook_likes       3690 non-null float64\n",
      "actor_1_facebook_likes       3690 non-null float64\n",
      "gross                        3690 non-null float64\n",
      "num_voted_users              3690 non-null int64\n",
      "cast_total_facebook_likes    3690 non-null int64\n",
      "facenumber_in_poster         3690 non-null float64\n",
      "num_user_for_reviews         3690 non-null float64\n",
      "content_rating               3690 non-null float64\n",
      "budget                       3690 non-null float64\n",
      "actor_2_facebook_likes       3690 non-null float64\n",
      "imdb_score                   3690 non-null float64\n",
      "movie_facebook_likes         3690 non-null int64\n",
      "Profit                       3690 non-null float64\n",
      "ROI                          3690 non-null float64\n",
      "binned                       3690 non-null category\n",
      "dtypes: category(1), float64(14), int64(3)\n",
      "memory usage: 522.7 KB\n"
     ]
    }
   ],
   "source": [
    "df_class.info()"
   ]
  },
  {
   "cell_type": "code",
   "execution_count": 108,
   "metadata": {
    "slideshow": {
     "slide_type": "skip"
    }
   },
   "outputs": [
    {
     "data": {
      "text/html": [
       "<div>\n",
       "<style scoped>\n",
       "    .dataframe tbody tr th:only-of-type {\n",
       "        vertical-align: middle;\n",
       "    }\n",
       "\n",
       "    .dataframe tbody tr th {\n",
       "        vertical-align: top;\n",
       "    }\n",
       "\n",
       "    .dataframe thead th {\n",
       "        text-align: right;\n",
       "    }\n",
       "</style>\n",
       "<table border=\"1\" class=\"dataframe\">\n",
       "  <thead>\n",
       "    <tr style=\"text-align: right;\">\n",
       "      <th></th>\n",
       "      <th>num_critic_for_reviews</th>\n",
       "      <th>duration</th>\n",
       "      <th>director_facebook_likes</th>\n",
       "      <th>actor_3_facebook_likes</th>\n",
       "      <th>actor_1_facebook_likes</th>\n",
       "      <th>gross</th>\n",
       "      <th>num_voted_users</th>\n",
       "      <th>cast_total_facebook_likes</th>\n",
       "      <th>facenumber_in_poster</th>\n",
       "      <th>num_user_for_reviews</th>\n",
       "      <th>content_rating</th>\n",
       "      <th>budget</th>\n",
       "      <th>actor_2_facebook_likes</th>\n",
       "      <th>imdb_score</th>\n",
       "      <th>movie_facebook_likes</th>\n",
       "      <th>Profit</th>\n",
       "      <th>ROI</th>\n",
       "      <th>binned</th>\n",
       "    </tr>\n",
       "  </thead>\n",
       "  <tbody>\n",
       "    <tr>\n",
       "      <th>0</th>\n",
       "      <td>723.0</td>\n",
       "      <td>178.0</td>\n",
       "      <td>0.0</td>\n",
       "      <td>855.0</td>\n",
       "      <td>1000.0</td>\n",
       "      <td>760505847.0</td>\n",
       "      <td>886204</td>\n",
       "      <td>4834</td>\n",
       "      <td>0.0</td>\n",
       "      <td>3054.0</td>\n",
       "      <td>3.0</td>\n",
       "      <td>237000000.0</td>\n",
       "      <td>936.0</td>\n",
       "      <td>7.9</td>\n",
       "      <td>33000</td>\n",
       "      <td>523505847.0</td>\n",
       "      <td>2.208885</td>\n",
       "      <td>3</td>\n",
       "    </tr>\n",
       "  </tbody>\n",
       "</table>\n",
       "</div>"
      ],
      "text/plain": [
       "   num_critic_for_reviews  duration  director_facebook_likes  \\\n",
       "0                   723.0     178.0                      0.0   \n",
       "\n",
       "   actor_3_facebook_likes  actor_1_facebook_likes        gross  \\\n",
       "0                   855.0                  1000.0  760505847.0   \n",
       "\n",
       "   num_voted_users  cast_total_facebook_likes  facenumber_in_poster  \\\n",
       "0           886204                       4834                   0.0   \n",
       "\n",
       "   num_user_for_reviews  content_rating       budget  actor_2_facebook_likes  \\\n",
       "0                3054.0             3.0  237000000.0                   936.0   \n",
       "\n",
       "   imdb_score  movie_facebook_likes       Profit       ROI binned  \n",
       "0         7.9                 33000  523505847.0  2.208885      3  "
      ]
     },
     "execution_count": 108,
     "metadata": {},
     "output_type": "execute_result"
    }
   ],
   "source": [
    "df_class.head(1)"
   ]
  },
  {
   "cell_type": "code",
   "execution_count": 110,
   "metadata": {
    "slideshow": {
     "slide_type": "skip"
    }
   },
   "outputs": [],
   "source": [
    "df_class['binned'] = df_class['binned'].astype(int)"
   ]
  },
  {
   "cell_type": "code",
   "execution_count": 111,
   "metadata": {
    "slideshow": {
     "slide_type": "skip"
    }
   },
   "outputs": [],
   "source": [
    "y3 = df_class['binned']\n",
    "X3 = df_class.drop(['imdb_score','binned'], axis=1)"
   ]
  },
  {
   "cell_type": "code",
   "execution_count": 112,
   "metadata": {
    "slideshow": {
     "slide_type": "skip"
    }
   },
   "outputs": [
    {
     "data": {
      "text/html": [
       "<div>\n",
       "<style scoped>\n",
       "    .dataframe tbody tr th:only-of-type {\n",
       "        vertical-align: middle;\n",
       "    }\n",
       "\n",
       "    .dataframe tbody tr th {\n",
       "        vertical-align: top;\n",
       "    }\n",
       "\n",
       "    .dataframe thead th {\n",
       "        text-align: right;\n",
       "    }\n",
       "</style>\n",
       "<table border=\"1\" class=\"dataframe\">\n",
       "  <thead>\n",
       "    <tr style=\"text-align: right;\">\n",
       "      <th></th>\n",
       "      <th>num_critic_for_reviews</th>\n",
       "      <th>duration</th>\n",
       "      <th>director_facebook_likes</th>\n",
       "      <th>actor_3_facebook_likes</th>\n",
       "      <th>actor_1_facebook_likes</th>\n",
       "      <th>gross</th>\n",
       "      <th>num_voted_users</th>\n",
       "      <th>cast_total_facebook_likes</th>\n",
       "      <th>facenumber_in_poster</th>\n",
       "      <th>num_user_for_reviews</th>\n",
       "      <th>content_rating</th>\n",
       "      <th>budget</th>\n",
       "      <th>actor_2_facebook_likes</th>\n",
       "      <th>movie_facebook_likes</th>\n",
       "      <th>Profit</th>\n",
       "      <th>ROI</th>\n",
       "    </tr>\n",
       "  </thead>\n",
       "  <tbody>\n",
       "    <tr>\n",
       "      <th>0</th>\n",
       "      <td>723.0</td>\n",
       "      <td>178.0</td>\n",
       "      <td>0.0</td>\n",
       "      <td>855.0</td>\n",
       "      <td>1000.0</td>\n",
       "      <td>760505847.0</td>\n",
       "      <td>886204</td>\n",
       "      <td>4834</td>\n",
       "      <td>0.0</td>\n",
       "      <td>3054.0</td>\n",
       "      <td>3.0</td>\n",
       "      <td>237000000.0</td>\n",
       "      <td>936.0</td>\n",
       "      <td>33000</td>\n",
       "      <td>523505847.0</td>\n",
       "      <td>2.208885</td>\n",
       "    </tr>\n",
       "  </tbody>\n",
       "</table>\n",
       "</div>"
      ],
      "text/plain": [
       "   num_critic_for_reviews  duration  director_facebook_likes  \\\n",
       "0                   723.0     178.0                      0.0   \n",
       "\n",
       "   actor_3_facebook_likes  actor_1_facebook_likes        gross  \\\n",
       "0                   855.0                  1000.0  760505847.0   \n",
       "\n",
       "   num_voted_users  cast_total_facebook_likes  facenumber_in_poster  \\\n",
       "0           886204                       4834                   0.0   \n",
       "\n",
       "   num_user_for_reviews  content_rating       budget  actor_2_facebook_likes  \\\n",
       "0                3054.0             3.0  237000000.0                   936.0   \n",
       "\n",
       "   movie_facebook_likes       Profit       ROI  \n",
       "0                 33000  523505847.0  2.208885  "
      ]
     },
     "execution_count": 112,
     "metadata": {},
     "output_type": "execute_result"
    }
   ],
   "source": [
    "#verifying it dropped imdb score and binned\n",
    "X3.head(1)"
   ]
  },
  {
   "cell_type": "code",
   "execution_count": 113,
   "metadata": {
    "slideshow": {
     "slide_type": "skip"
    }
   },
   "outputs": [
    {
     "data": {
      "text/plain": [
       "DecisionTreeClassifier(class_weight=None, criterion='gini', max_depth=3,\n",
       "                       max_features=None, max_leaf_nodes=None,\n",
       "                       min_impurity_decrease=0.0, min_impurity_split=None,\n",
       "                       min_samples_leaf=5, min_samples_split=2,\n",
       "                       min_weight_fraction_leaf=0.0, presort=False,\n",
       "                       random_state=None, splitter='best')"
      ]
     },
     "execution_count": 113,
     "metadata": {},
     "output_type": "execute_result"
    }
   ],
   "source": [
    "# split validation\n",
    "X_train, X_test, y_train, y_test = train_test_split(X3, y3, test_size=0.3, random_state=42)\n",
    "# Initialize DecisionTreeClassifier() ... name your decision model \"dt\"\n",
    "dt = DecisionTreeClassifier(max_depth=3, min_samples_leaf=5)\n",
    "# Train a decision tree model\n",
    "dt = dt.fit(X_train, y_train)\n",
    "dt"
   ]
  },
  {
   "cell_type": "code",
   "execution_count": 114,
   "metadata": {
    "slideshow": {
     "slide_type": "slide"
    }
   },
   "outputs": [
    {
     "name": "stdout",
     "output_type": "stream",
     "text": [
      "0.7190605239385727\n",
      "--------------------------------------------------------\n",
      "[[  0  12  15   0]\n",
      " [  0  99 209   0]\n",
      " [  0  48 677   5]\n",
      " [  0   0  22  20]]\n",
      "--------------------------------------------------------\n",
      "              precision    recall  f1-score   support\n",
      "\n",
      "           1       0.00      0.00      0.00        27\n",
      "           2       0.62      0.32      0.42       308\n",
      "           3       0.73      0.93      0.82       730\n",
      "           4       0.80      0.48      0.60        42\n",
      "\n",
      "    accuracy                           0.72      1107\n",
      "   macro avg       0.54      0.43      0.46      1107\n",
      "weighted avg       0.69      0.72      0.68      1107\n",
      "\n",
      "--------------------------------------------------------\n"
     ]
    },
    {
     "name": "stderr",
     "output_type": "stream",
     "text": [
      "C:\\Users\\Brian\\Anaconda3\\lib\\site-packages\\sklearn\\metrics\\classification.py:1437: UndefinedMetricWarning: Precision and F-score are ill-defined and being set to 0.0 in labels with no predicted samples.\n",
      "  'precision', 'predicted', average, warn_for)\n"
     ]
    }
   ],
   "source": [
    "#Model evaluation\n",
    "# http://scikit-learn.org/stable/modules/model_evaluation.html\n",
    "print(metrics.accuracy_score(y_test, dt.predict(X_test)))\n",
    "print(\"--------------------------------------------------------\")\n",
    "print(metrics.confusion_matrix(y_test, dt.predict(X_test))) \n",
    "print(\"--------------------------------------------------------\")\n",
    "print(metrics.classification_report(y_test, dt.predict(X_test)))\n",
    "print(\"--------------------------------------------------------\")\n",
    "\n",
    "# y-test is the acual y value in the testing dataset\n",
    "# dt.predict(X_test) is the predicted y value generated by your model\n",
    "# If they are same, we can say your model is accurate."
   ]
  },
  {
   "cell_type": "code",
   "execution_count": 115,
   "metadata": {
    "slideshow": {
     "slide_type": "fragment"
    }
   },
   "outputs": [
    {
     "data": {
      "image/png": "[encoded data removed]",
      "text/plain": [
       "<Figure size 432x288 with 2 Axes>"
      ]
     },
     "metadata": {
      "needs_background": "light"
     },
     "output_type": "display_data"
    }
   ],
   "source": [
    "import scikitplot as skplt\n",
    "skplt.metrics.plot_confusion_matrix(y_true=np.array(y_test), y_pred=dt.predict(X_test))\n",
    "plt.show()"
   ]
  },
  {
   "cell_type": "code",
   "execution_count": 116,
   "metadata": {
    "slideshow": {
     "slide_type": "skip"
    }
   },
   "outputs": [
    {
     "data": {
      "image/svg+xml": [
       "<?xml version=\"1.0\" encoding=\"UTF-8\" standalone=\"no\"?>\r\n",
       "<!DOCTYPE svg PUBLIC \"-//W3C//DTD SVG 1.1//EN\"\r\n",
       " \"http://www.w3.org/Graphics/SVG/1.1/DTD/svg11.dtd\">\r\n",
       "<!-- Generated by graphviz version 2.38.0 (20140413.2041)\r\n",
       " -->\r\n",
       "<!-- Title: Tree Pages: 1 -->\r\n",
       "<svg width=\"1277pt\" height=\"373pt\"\r\n",
       " viewBox=\"0.00 0.00 1276.50 373.00\" xmlns=\"http://www.w3.org/2000/svg\" xmlns:xlink=\"http://www.w3.org/1999/xlink\">\r\n",
       "<g id=\"graph0\" class=\"graph\" transform=\"scale(1 1) rotate(0) translate(4 369)\">\r\n",
       "<title>Tree</title>\r\n",
       "<polygon fill=\"white\" stroke=\"none\" points=\"-4,4 -4,-369 1272.5,-369 1272.5,4 -4,4\"/>\r\n",
       "<!-- 0 -->\r\n",
       "<g id=\"node1\" class=\"node\"><title>0</title>\r\n",
       "<polygon fill=\"none\" stroke=\"black\" points=\"754,-365 569,-365 569,-297 754,-297 754,-365\"/>\r\n",
       "<text text-anchor=\"middle\" x=\"661.5\" y=\"-349.8\" font-family=\"Times New Roman,serif\" font-size=\"14.00\">num_voted_users &lt;= 67499.5</text>\r\n",
       "<text text-anchor=\"middle\" x=\"661.5\" y=\"-334.8\" font-family=\"Times New Roman,serif\" font-size=\"14.00\">gini = 0.5</text>\r\n",
       "<text text-anchor=\"middle\" x=\"661.5\" y=\"-319.8\" font-family=\"Times New Roman,serif\" font-size=\"14.00\">samples = 2583</text>\r\n",
       "<text text-anchor=\"middle\" x=\"661.5\" y=\"-304.8\" font-family=\"Times New Roman,serif\" font-size=\"14.00\">value = [68, 747, 1663, 105]</text>\r\n",
       "</g>\r\n",
       "<!-- 1 -->\r\n",
       "<g id=\"node2\" class=\"node\"><title>1</title>\r\n",
       "<polygon fill=\"none\" stroke=\"black\" points=\"620,-261 467,-261 467,-193 620,-193 620,-261\"/>\r\n",
       "<text text-anchor=\"middle\" x=\"543.5\" y=\"-245.8\" font-family=\"Times New Roman,serif\" font-size=\"14.00\">duration &lt;= 102.5</text>\r\n",
       "<text text-anchor=\"middle\" x=\"543.5\" y=\"-230.8\" font-family=\"Times New Roman,serif\" font-size=\"14.00\">gini = 0.531</text>\r\n",
       "<text text-anchor=\"middle\" x=\"543.5\" y=\"-215.8\" font-family=\"Times New Roman,serif\" font-size=\"14.00\">samples = 1499</text>\r\n",
       "<text text-anchor=\"middle\" x=\"543.5\" y=\"-200.8\" font-family=\"Times New Roman,serif\" font-size=\"14.00\">value = [63, 599, 831, 6]</text>\r\n",
       "</g>\r\n",
       "<!-- 0&#45;&gt;1 -->\r\n",
       "<g id=\"edge1\" class=\"edge\"><title>0&#45;&gt;1</title>\r\n",
       "<path fill=\"none\" stroke=\"black\" d=\"M623.189,-296.884C612.472,-287.62 600.712,-277.455 589.596,-267.845\"/>\r\n",
       "<polygon fill=\"black\" stroke=\"black\" points=\"591.877,-265.191 582.023,-261.299 587.299,-270.487 591.877,-265.191\"/>\r\n",
       "<text text-anchor=\"middle\" x=\"583.836\" y=\"-282.534\" font-family=\"Times New Roman,serif\" font-size=\"14.00\">True</text>\r\n",
       "</g>\r\n",
       "<!-- 8 -->\r\n",
       "<g id=\"node9\" class=\"node\"><title>8</title>\r\n",
       "<polygon fill=\"none\" stroke=\"black\" points=\"875,-261 684,-261 684,-193 875,-193 875,-261\"/>\r\n",
       "<text text-anchor=\"middle\" x=\"779.5\" y=\"-245.8\" font-family=\"Times New Roman,serif\" font-size=\"14.00\">num_voted_users &lt;= 536866.5</text>\r\n",
       "<text text-anchor=\"middle\" x=\"779.5\" y=\"-230.8\" font-family=\"Times New Roman,serif\" font-size=\"14.00\">gini = 0.384</text>\r\n",
       "<text text-anchor=\"middle\" x=\"779.5\" y=\"-215.8\" font-family=\"Times New Roman,serif\" font-size=\"14.00\">samples = 1084</text>\r\n",
       "<text text-anchor=\"middle\" x=\"779.5\" y=\"-200.8\" font-family=\"Times New Roman,serif\" font-size=\"14.00\">value = [5, 148, 832, 99]</text>\r\n",
       "</g>\r\n",
       "<!-- 0&#45;&gt;8 -->\r\n",
       "<g id=\"edge8\" class=\"edge\"><title>0&#45;&gt;8</title>\r\n",
       "<path fill=\"none\" stroke=\"black\" d=\"M699.811,-296.884C710.528,-287.62 722.288,-277.455 733.404,-267.845\"/>\r\n",
       "<polygon fill=\"black\" stroke=\"black\" points=\"735.701,-270.487 740.977,-261.299 731.123,-265.191 735.701,-270.487\"/>\r\n",
       "<text text-anchor=\"middle\" x=\"739.164\" y=\"-282.534\" font-family=\"Times New Roman,serif\" font-size=\"14.00\">False</text>\r\n",
       "</g>\r\n",
       "<!-- 2 -->\r\n",
       "<g id=\"node3\" class=\"node\"><title>2</title>\r\n",
       "<polygon fill=\"none\" stroke=\"black\" points=\"367.5,-157 127.5,-157 127.5,-89 367.5,-89 367.5,-157\"/>\r\n",
       "<text text-anchor=\"middle\" x=\"247.5\" y=\"-141.8\" font-family=\"Times New Roman,serif\" font-size=\"14.00\">actor_2_facebook_likes &lt;= 13100000.0</text>\r\n",
       "<text text-anchor=\"middle\" x=\"247.5\" y=\"-126.8\" font-family=\"Times New Roman,serif\" font-size=\"14.00\">gini = 0.562</text>\r\n",
       "<text text-anchor=\"middle\" x=\"247.5\" y=\"-111.8\" font-family=\"Times New Roman,serif\" font-size=\"14.00\">samples = 776</text>\r\n",
       "<text text-anchor=\"middle\" x=\"247.5\" y=\"-96.8\" font-family=\"Times New Roman,serif\" font-size=\"14.00\">value = [53, 391, 329, 3]</text>\r\n",
       "</g>\r\n",
       "<!-- 1&#45;&gt;2 -->\r\n",
       "<g id=\"edge2\" class=\"edge\"><title>1&#45;&gt;2</title>\r\n",
       "<path fill=\"none\" stroke=\"black\" d=\"M466.888,-199.6C432.147,-187.628 390.505,-173.279 352.88,-160.313\"/>\r\n",
       "<polygon fill=\"black\" stroke=\"black\" points=\"354.003,-156.998 343.408,-157.049 351.722,-163.616 354.003,-156.998\"/>\r\n",
       "</g>\r\n",
       "<!-- 5 -->\r\n",
       "<g id=\"node6\" class=\"node\"><title>5</title>\r\n",
       "<polygon fill=\"none\" stroke=\"black\" points=\"663.5,-157 423.5,-157 423.5,-89 663.5,-89 663.5,-157\"/>\r\n",
       "<text text-anchor=\"middle\" x=\"543.5\" y=\"-141.8\" font-family=\"Times New Roman,serif\" font-size=\"14.00\">actor_2_facebook_likes &lt;= 33500000.0</text>\r\n",
       "<text text-anchor=\"middle\" x=\"543.5\" y=\"-126.8\" font-family=\"Times New Roman,serif\" font-size=\"14.00\">gini = 0.435</text>\r\n",
       "<text text-anchor=\"middle\" x=\"543.5\" y=\"-111.8\" font-family=\"Times New Roman,serif\" font-size=\"14.00\">samples = 723</text>\r\n",
       "<text text-anchor=\"middle\" x=\"543.5\" y=\"-96.8\" font-family=\"Times New Roman,serif\" font-size=\"14.00\">value = [10, 208, 502, 3]</text>\r\n",
       "</g>\r\n",
       "<!-- 1&#45;&gt;5 -->\r\n",
       "<g id=\"edge5\" class=\"edge\"><title>1&#45;&gt;5</title>\r\n",
       "<path fill=\"none\" stroke=\"black\" d=\"M543.5,-192.884C543.5,-184.778 543.5,-175.982 543.5,-167.472\"/>\r\n",
       "<polygon fill=\"black\" stroke=\"black\" points=\"547,-167.299 543.5,-157.299 540,-167.299 547,-167.299\"/>\r\n",
       "</g>\r\n",
       "<!-- 3 -->\r\n",
       "<g id=\"node4\" class=\"node\"><title>3</title>\r\n",
       "<polygon fill=\"none\" stroke=\"black\" points=\"153,-53 0,-53 0,-0 153,-0 153,-53\"/>\r\n",
       "<text text-anchor=\"middle\" x=\"76.5\" y=\"-37.8\" font-family=\"Times New Roman,serif\" font-size=\"14.00\">gini = 0.534</text>\r\n",
       "<text text-anchor=\"middle\" x=\"76.5\" y=\"-22.8\" font-family=\"Times New Roman,serif\" font-size=\"14.00\">samples = 378</text>\r\n",
       "<text text-anchor=\"middle\" x=\"76.5\" y=\"-7.8\" font-family=\"Times New Roman,serif\" font-size=\"14.00\">value = [19, 140, 216, 3]</text>\r\n",
       "</g>\r\n",
       "<!-- 2&#45;&gt;3 -->\r\n",
       "<g id=\"edge3\" class=\"edge\"><title>2&#45;&gt;3</title>\r\n",
       "<path fill=\"none\" stroke=\"black\" d=\"M187.692,-88.9485C169.567,-78.9318 149.744,-67.9767 131.919,-58.1263\"/>\r\n",
       "<polygon fill=\"black\" stroke=\"black\" points=\"133.245,-54.8602 122.8,-53.0867 129.859,-60.9869 133.245,-54.8602\"/>\r\n",
       "</g>\r\n",
       "<!-- 4 -->\r\n",
       "<g id=\"node5\" class=\"node\"><title>4</title>\r\n",
       "<polygon fill=\"none\" stroke=\"black\" points=\"324,-53 171,-53 171,-0 324,-0 324,-53\"/>\r\n",
       "<text text-anchor=\"middle\" x=\"247.5\" y=\"-37.8\" font-family=\"Times New Roman,serif\" font-size=\"14.00\">gini = 0.514</text>\r\n",
       "<text text-anchor=\"middle\" x=\"247.5\" y=\"-22.8\" font-family=\"Times New Roman,serif\" font-size=\"14.00\">samples = 398</text>\r\n",
       "<text text-anchor=\"middle\" x=\"247.5\" y=\"-7.8\" font-family=\"Times New Roman,serif\" font-size=\"14.00\">value = [34, 251, 113, 0]</text>\r\n",
       "</g>\r\n",
       "<!-- 2&#45;&gt;4 -->\r\n",
       "<g id=\"edge4\" class=\"edge\"><title>2&#45;&gt;4</title>\r\n",
       "<path fill=\"none\" stroke=\"black\" d=\"M247.5,-88.9485C247.5,-80.7153 247.5,-71.848 247.5,-63.4814\"/>\r\n",
       "<polygon fill=\"black\" stroke=\"black\" points=\"251,-63.2367 247.5,-53.2367 244,-63.2367 251,-63.2367\"/>\r\n",
       "</g>\r\n",
       "<!-- 6 -->\r\n",
       "<g id=\"node7\" class=\"node\"><title>6</title>\r\n",
       "<polygon fill=\"none\" stroke=\"black\" points=\"488.5,-53 342.5,-53 342.5,-0 488.5,-0 488.5,-53\"/>\r\n",
       "<text text-anchor=\"middle\" x=\"415.5\" y=\"-37.8\" font-family=\"Times New Roman,serif\" font-size=\"14.00\">gini = 0.365</text>\r\n",
       "<text text-anchor=\"middle\" x=\"415.5\" y=\"-22.8\" font-family=\"Times New Roman,serif\" font-size=\"14.00\">samples = 481</text>\r\n",
       "<text text-anchor=\"middle\" x=\"415.5\" y=\"-7.8\" font-family=\"Times New Roman,serif\" font-size=\"14.00\">value = [6, 103, 369, 3]</text>\r\n",
       "</g>\r\n",
       "<!-- 5&#45;&gt;6 -->\r\n",
       "<g id=\"edge6\" class=\"edge\"><title>5&#45;&gt;6</title>\r\n",
       "<path fill=\"none\" stroke=\"black\" d=\"M498.732,-88.9485C485.721,-79.3431 471.542,-68.8747 458.634,-59.345\"/>\r\n",
       "<polygon fill=\"black\" stroke=\"black\" points=\"460.484,-56.3605 450.36,-53.2367 456.327,-61.992 460.484,-56.3605\"/>\r\n",
       "</g>\r\n",
       "<!-- 7 -->\r\n",
       "<g id=\"node8\" class=\"node\"><title>7</title>\r\n",
       "<polygon fill=\"none\" stroke=\"black\" points=\"652.5,-53 506.5,-53 506.5,-0 652.5,-0 652.5,-53\"/>\r\n",
       "<text text-anchor=\"middle\" x=\"579.5\" y=\"-37.8\" font-family=\"Times New Roman,serif\" font-size=\"14.00\">gini = 0.509</text>\r\n",
       "<text text-anchor=\"middle\" x=\"579.5\" y=\"-22.8\" font-family=\"Times New Roman,serif\" font-size=\"14.00\">samples = 242</text>\r\n",
       "<text text-anchor=\"middle\" x=\"579.5\" y=\"-7.8\" font-family=\"Times New Roman,serif\" font-size=\"14.00\">value = [4, 105, 133, 0]</text>\r\n",
       "</g>\r\n",
       "<!-- 5&#45;&gt;7 -->\r\n",
       "<g id=\"edge7\" class=\"edge\"><title>5&#45;&gt;7</title>\r\n",
       "<path fill=\"none\" stroke=\"black\" d=\"M556.091,-88.9485C559.332,-80.4408 562.831,-71.2562 566.111,-62.6464\"/>\r\n",
       "<polygon fill=\"black\" stroke=\"black\" points=\"569.406,-63.8276 569.696,-53.2367 562.865,-61.3356 569.406,-63.8276\"/>\r\n",
       "</g>\r\n",
       "<!-- 9 -->\r\n",
       "<g id=\"node10\" class=\"node\"><title>9</title>\r\n",
       "<polygon fill=\"none\" stroke=\"black\" points=\"875,-157 684,-157 684,-89 875,-89 875,-157\"/>\r\n",
       "<text text-anchor=\"middle\" x=\"779.5\" y=\"-141.8\" font-family=\"Times New Roman,serif\" font-size=\"14.00\">num_voted_users &lt;= 141974.5</text>\r\n",
       "<text text-anchor=\"middle\" x=\"779.5\" y=\"-126.8\" font-family=\"Times New Roman,serif\" font-size=\"14.00\">gini = 0.329</text>\r\n",
       "<text text-anchor=\"middle\" x=\"779.5\" y=\"-111.8\" font-family=\"Times New Roman,serif\" font-size=\"14.00\">samples = 1025</text>\r\n",
       "<text text-anchor=\"middle\" x=\"779.5\" y=\"-96.8\" font-family=\"Times New Roman,serif\" font-size=\"14.00\">value = [5, 148, 825, 47]</text>\r\n",
       "</g>\r\n",
       "<!-- 8&#45;&gt;9 -->\r\n",
       "<g id=\"edge9\" class=\"edge\"><title>8&#45;&gt;9</title>\r\n",
       "<path fill=\"none\" stroke=\"black\" d=\"M779.5,-192.884C779.5,-184.778 779.5,-175.982 779.5,-167.472\"/>\r\n",
       "<polygon fill=\"black\" stroke=\"black\" points=\"783,-167.299 779.5,-157.299 776,-167.299 783,-167.299\"/>\r\n",
       "</g>\r\n",
       "<!-- 12 -->\r\n",
       "<g id=\"node13\" class=\"node\"><title>12</title>\r\n",
       "<polygon fill=\"none\" stroke=\"black\" points=\"1163.5,-157 959.5,-157 959.5,-89 1163.5,-89 1163.5,-157\"/>\r\n",
       "<text text-anchor=\"middle\" x=\"1061.5\" y=\"-141.8\" font-family=\"Times New Roman,serif\" font-size=\"14.00\">num_critic_for_reviews &lt;= 314.0</text>\r\n",
       "<text text-anchor=\"middle\" x=\"1061.5\" y=\"-126.8\" font-family=\"Times New Roman,serif\" font-size=\"14.00\">gini = 0.209</text>\r\n",
       "<text text-anchor=\"middle\" x=\"1061.5\" y=\"-111.8\" font-family=\"Times New Roman,serif\" font-size=\"14.00\">samples = 59</text>\r\n",
       "<text text-anchor=\"middle\" x=\"1061.5\" y=\"-96.8\" font-family=\"Times New Roman,serif\" font-size=\"14.00\">value = [0, 0, 7, 52]</text>\r\n",
       "</g>\r\n",
       "<!-- 8&#45;&gt;12 -->\r\n",
       "<g id=\"edge12\" class=\"edge\"><title>8&#45;&gt;12</title>\r\n",
       "<path fill=\"none\" stroke=\"black\" d=\"M871.057,-192.884C899.522,-182.588 931.065,-171.179 960.156,-160.656\"/>\r\n",
       "<polygon fill=\"black\" stroke=\"black\" points=\"961.707,-163.817 969.92,-157.125 959.326,-157.235 961.707,-163.817\"/>\r\n",
       "</g>\r\n",
       "<!-- 10 -->\r\n",
       "<g id=\"node11\" class=\"node\"><title>10</title>\r\n",
       "<polygon fill=\"none\" stroke=\"black\" points=\"816.5,-53 670.5,-53 670.5,-0 816.5,-0 816.5,-53\"/>\r\n",
       "<text text-anchor=\"middle\" x=\"743.5\" y=\"-37.8\" font-family=\"Times New Roman,serif\" font-size=\"14.00\">gini = 0.372</text>\r\n",
       "<text text-anchor=\"middle\" x=\"743.5\" y=\"-22.8\" font-family=\"Times New Roman,serif\" font-size=\"14.00\">samples = 518</text>\r\n",
       "<text text-anchor=\"middle\" x=\"743.5\" y=\"-7.8\" font-family=\"Times New Roman,serif\" font-size=\"14.00\">value = [4, 118, 393, 3]</text>\r\n",
       "</g>\r\n",
       "<!-- 9&#45;&gt;10 -->\r\n",
       "<g id=\"edge10\" class=\"edge\"><title>9&#45;&gt;10</title>\r\n",
       "<path fill=\"none\" stroke=\"black\" d=\"M766.909,-88.9485C763.668,-80.4408 760.169,-71.2562 756.889,-62.6464\"/>\r\n",
       "<polygon fill=\"black\" stroke=\"black\" points=\"760.135,-61.3356 753.304,-53.2367 753.594,-63.8276 760.135,-61.3356\"/>\r\n",
       "</g>\r\n",
       "<!-- 11 -->\r\n",
       "<g id=\"node12\" class=\"node\"><title>11</title>\r\n",
       "<polygon fill=\"none\" stroke=\"black\" points=\"980.5,-53 834.5,-53 834.5,-0 980.5,-0 980.5,-53\"/>\r\n",
       "<text text-anchor=\"middle\" x=\"907.5\" y=\"-37.8\" font-family=\"Times New Roman,serif\" font-size=\"14.00\">gini = 0.263</text>\r\n",
       "<text text-anchor=\"middle\" x=\"907.5\" y=\"-22.8\" font-family=\"Times New Roman,serif\" font-size=\"14.00\">samples = 507</text>\r\n",
       "<text text-anchor=\"middle\" x=\"907.5\" y=\"-7.8\" font-family=\"Times New Roman,serif\" font-size=\"14.00\">value = [1, 30, 432, 44]</text>\r\n",
       "</g>\r\n",
       "<!-- 9&#45;&gt;11 -->\r\n",
       "<g id=\"edge11\" class=\"edge\"><title>9&#45;&gt;11</title>\r\n",
       "<path fill=\"none\" stroke=\"black\" d=\"M824.268,-88.9485C837.279,-79.3431 851.458,-68.8747 864.366,-59.345\"/>\r\n",
       "<polygon fill=\"black\" stroke=\"black\" points=\"866.673,-61.992 872.64,-53.2367 862.516,-56.3605 866.673,-61.992\"/>\r\n",
       "</g>\r\n",
       "<!-- 13 -->\r\n",
       "<g id=\"node14\" class=\"node\"><title>13</title>\r\n",
       "<polygon fill=\"none\" stroke=\"black\" points=\"1124.5,-53 998.5,-53 998.5,-0 1124.5,-0 1124.5,-53\"/>\r\n",
       "<text text-anchor=\"middle\" x=\"1061.5\" y=\"-37.8\" font-family=\"Times New Roman,serif\" font-size=\"14.00\">gini = 0.0</text>\r\n",
       "<text text-anchor=\"middle\" x=\"1061.5\" y=\"-22.8\" font-family=\"Times New Roman,serif\" font-size=\"14.00\">samples = 34</text>\r\n",
       "<text text-anchor=\"middle\" x=\"1061.5\" y=\"-7.8\" font-family=\"Times New Roman,serif\" font-size=\"14.00\">value = [0, 0, 0, 34]</text>\r\n",
       "</g>\r\n",
       "<!-- 12&#45;&gt;13 -->\r\n",
       "<g id=\"edge13\" class=\"edge\"><title>12&#45;&gt;13</title>\r\n",
       "<path fill=\"none\" stroke=\"black\" d=\"M1061.5,-88.9485C1061.5,-80.7153 1061.5,-71.848 1061.5,-63.4814\"/>\r\n",
       "<polygon fill=\"black\" stroke=\"black\" points=\"1065,-63.2367 1061.5,-53.2367 1058,-63.2367 1065,-63.2367\"/>\r\n",
       "</g>\r\n",
       "<!-- 14 -->\r\n",
       "<g id=\"node15\" class=\"node\"><title>14</title>\r\n",
       "<polygon fill=\"none\" stroke=\"black\" points=\"1268.5,-53 1142.5,-53 1142.5,-0 1268.5,-0 1268.5,-53\"/>\r\n",
       "<text text-anchor=\"middle\" x=\"1205.5\" y=\"-37.8\" font-family=\"Times New Roman,serif\" font-size=\"14.00\">gini = 0.403</text>\r\n",
       "<text text-anchor=\"middle\" x=\"1205.5\" y=\"-22.8\" font-family=\"Times New Roman,serif\" font-size=\"14.00\">samples = 25</text>\r\n",
       "<text text-anchor=\"middle\" x=\"1205.5\" y=\"-7.8\" font-family=\"Times New Roman,serif\" font-size=\"14.00\">value = [0, 0, 7, 18]</text>\r\n",
       "</g>\r\n",
       "<!-- 12&#45;&gt;14 -->\r\n",
       "<g id=\"edge14\" class=\"edge\"><title>12&#45;&gt;14</title>\r\n",
       "<path fill=\"none\" stroke=\"black\" d=\"M1111.86,-88.9485C1126.78,-79.1601 1143.06,-68.4756 1157.8,-58.8015\"/>\r\n",
       "<polygon fill=\"black\" stroke=\"black\" points=\"1159.84,-61.6495 1166.28,-53.2367 1156,-55.7971 1159.84,-61.6495\"/>\r\n",
       "</g>\r\n",
       "</g>\r\n",
       "</svg>\r\n"
      ],
      "text/plain": [
       "<graphviz.files.Source at 0x1f115eed438>"
      ]
     },
     "execution_count": 116,
     "metadata": {},
     "output_type": "execute_result"
    }
   ],
   "source": [
    "from graphviz import Source\n",
    "from sklearn import tree\n",
    "Source( tree.export_graphviz(dt, out_file=None, feature_names=X.columns))"
   ]
  },
  {
   "cell_type": "markdown",
   "metadata": {
    "slideshow": {
     "slide_type": "slide"
    }
   },
   "source": [
    "This model was able to accurately place 71.9% of movies into the correct bins. The confusion matrix created above is more interesting than the ones we created in our class assignments because it is a 4x4 grid instead of 2x2. This allows us to see different degrees of error. We would prefer to have 0 errors, but if we do have errors, we would like to see them be only 1 square off of their correct value. Only 15 of the 311 total errors were more than 1 category off (predicted as 3s and but were actually 1s), which is good.\n",
    "\n",
    "This decision tree model is a little bit complex, but it is much more accurate than any of the regression models."
   ]
  },
  {
   "cell_type": "markdown",
   "metadata": {
    "slideshow": {
     "slide_type": "slide"
    }
   },
   "source": [
    "<b>Now we move on to knn:<b>"
   ]
  },
  {
   "cell_type": "code",
   "execution_count": 117,
   "metadata": {
    "slideshow": {
     "slide_type": "skip"
    }
   },
   "outputs": [
    {
     "data": {
      "text/plain": [
       "KNeighborsClassifier(algorithm='auto', leaf_size=30, metric='minkowski',\n",
       "                     metric_params=None, n_jobs=None, n_neighbors=5, p=2,\n",
       "                     weights='uniform')"
      ]
     },
     "execution_count": 117,
     "metadata": {},
     "output_type": "execute_result"
    }
   ],
   "source": [
    "# evaluate the model by splitting into train and test sets & develop knn model (name it as knn)\n",
    "# split validation\n",
    "X_train, X_test, y_train, y_test = train_test_split(X3, y3, test_size=0.3, random_state=42)\n",
    "# Initialize DecisionTreeClassifier() ... name your decision model \"dt\"\n",
    "knn = KNeighborsClassifier()\n",
    "# Train a decision tree model\n",
    "knn = knn.fit(X_train, y_train)\n",
    "knn"
   ]
  },
  {
   "cell_type": "code",
   "execution_count": 118,
   "metadata": {
    "slideshow": {
     "slide_type": "slide"
    }
   },
   "outputs": [
    {
     "name": "stdout",
     "output_type": "stream",
     "text": [
      "0.6043360433604336\n",
      "--------------------------------------------------------\n",
      "[[  0   7  20   0]\n",
      " [  2  94 211   1]\n",
      " [  0 150 572   8]\n",
      " [  0   6  33   3]]\n",
      "--------------------------------------------------------\n",
      "              precision    recall  f1-score   support\n",
      "\n",
      "           1       0.00      0.00      0.00        27\n",
      "           2       0.37      0.31      0.33       308\n",
      "           3       0.68      0.78      0.73       730\n",
      "           4       0.25      0.07      0.11        42\n",
      "\n",
      "    accuracy                           0.60      1107\n",
      "   macro avg       0.32      0.29      0.29      1107\n",
      "weighted avg       0.56      0.60      0.58      1107\n",
      "\n",
      "--------------------------------------------------------\n"
     ]
    }
   ],
   "source": [
    "#Model evaluation\n",
    "# http://scikit-learn.org/stable/modules/model_evaluation.html\n",
    "print(metrics.accuracy_score(y_test, knn.predict(X_test)))\n",
    "print(\"--------------------------------------------------------\")\n",
    "print(metrics.confusion_matrix(y_test, knn.predict(X_test))) \n",
    "print(\"--------------------------------------------------------\")\n",
    "print(metrics.classification_report(y_test, knn.predict(X_test)))\n",
    "print(\"--------------------------------------------------------\")\n",
    "\n",
    "# y-test is the acual y value in the testing dataset\n",
    "# dt.predict(X_test) is the predicted y value generated by your model\n",
    "# If they are same, we can say your model is accurate."
   ]
  },
  {
   "cell_type": "markdown",
   "metadata": {
    "slideshow": {
     "slide_type": "fragment"
    }
   },
   "source": [
    "The knn model is less accurate than the decision tree model. It only predicted 60.4% of values correctly. Many of the errors were again only one category off, which is reassuring. Only 27 were 2 or more bins off."
   ]
  },
  {
   "cell_type": "markdown",
   "metadata": {
    "slideshow": {
     "slide_type": "slide"
    }
   },
   "source": [
    "<b>Now on to logistic regression:</b>"
   ]
  },
  {
   "cell_type": "code",
   "execution_count": 119,
   "metadata": {
    "slideshow": {
     "slide_type": "skip"
    }
   },
   "outputs": [
    {
     "name": "stderr",
     "output_type": "stream",
     "text": [
      "C:\\Users\\Brian\\Anaconda3\\lib\\site-packages\\sklearn\\linear_model\\logistic.py:469: FutureWarning: Default multi_class will be changed to 'auto' in 0.22. Specify the multi_class option to silence this warning.\n",
      "  \"this warning.\", FutureWarning)\n"
     ]
    },
    {
     "data": {
      "text/plain": [
       "LogisticRegression(C=1.0, class_weight=None, dual=False, fit_intercept=True,\n",
       "                   intercept_scaling=1, l1_ratio=None, max_iter=500,\n",
       "                   multi_class='warn', n_jobs=None, penalty='l2',\n",
       "                   random_state=None, solver='lbfgs', tol=0.0001, verbose=0,\n",
       "                   warm_start=False)"
      ]
     },
     "execution_count": 119,
     "metadata": {},
     "output_type": "execute_result"
    }
   ],
   "source": [
    "X_train, X_test, y_train, y_test = train_test_split(X3, y3, test_size=0.3, random_state=0)\n",
    "lr = LogisticRegression(solver='lbfgs', max_iter=500)\n",
    "lr.fit(X_train, y_train)"
   ]
  },
  {
   "cell_type": "code",
   "execution_count": 120,
   "metadata": {
    "slideshow": {
     "slide_type": "skip"
    }
   },
   "outputs": [
    {
     "data": {
      "text/html": [
       "<div>\n",
       "<style scoped>\n",
       "    .dataframe tbody tr th:only-of-type {\n",
       "        vertical-align: middle;\n",
       "    }\n",
       "\n",
       "    .dataframe tbody tr th {\n",
       "        vertical-align: top;\n",
       "    }\n",
       "\n",
       "    .dataframe thead th {\n",
       "        text-align: right;\n",
       "    }\n",
       "</style>\n",
       "<table border=\"1\" class=\"dataframe\">\n",
       "  <thead>\n",
       "    <tr style=\"text-align: right;\">\n",
       "      <th></th>\n",
       "      <th>X variables</th>\n",
       "      <th>coef</th>\n",
       "    </tr>\n",
       "  </thead>\n",
       "  <tbody>\n",
       "    <tr>\n",
       "      <th>9</th>\n",
       "      <td>num_user_for_reviews</td>\n",
       "      <td>1.131112e-07</td>\n",
       "    </tr>\n",
       "    <tr>\n",
       "      <th>14</th>\n",
       "      <td>Profit</td>\n",
       "      <td>1.367446e-09</td>\n",
       "    </tr>\n",
       "    <tr>\n",
       "      <th>5</th>\n",
       "      <td>gross</td>\n",
       "      <td>-1.775497e-08</td>\n",
       "    </tr>\n",
       "    <tr>\n",
       "      <th>11</th>\n",
       "      <td>actor_2_facebook_likes</td>\n",
       "      <td>-1.912241e-08</td>\n",
       "    </tr>\n",
       "    <tr>\n",
       "      <th>8</th>\n",
       "      <td>facenumber_in_poster</td>\n",
       "      <td>-4.648449e-08</td>\n",
       "    </tr>\n",
       "    <tr>\n",
       "      <th>15</th>\n",
       "      <td>ROI</td>\n",
       "      <td>-9.682445e-08</td>\n",
       "    </tr>\n",
       "    <tr>\n",
       "      <th>10</th>\n",
       "      <td>content_rating</td>\n",
       "      <td>-1.179775e-07</td>\n",
       "    </tr>\n",
       "    <tr>\n",
       "      <th>0</th>\n",
       "      <td>num_critic_for_reviews</td>\n",
       "      <td>-1.620816e-06</td>\n",
       "    </tr>\n",
       "    <tr>\n",
       "      <th>1</th>\n",
       "      <td>duration</td>\n",
       "      <td>-3.453563e-06</td>\n",
       "    </tr>\n",
       "    <tr>\n",
       "      <th>3</th>\n",
       "      <td>actor_3_facebook_likes</td>\n",
       "      <td>-9.472167e-06</td>\n",
       "    </tr>\n",
       "    <tr>\n",
       "      <th>2</th>\n",
       "      <td>director_facebook_likes</td>\n",
       "      <td>-1.075674e-05</td>\n",
       "    </tr>\n",
       "    <tr>\n",
       "      <th>13</th>\n",
       "      <td>movie_facebook_likes</td>\n",
       "      <td>-1.239147e-05</td>\n",
       "    </tr>\n",
       "    <tr>\n",
       "      <th>12</th>\n",
       "      <td>budget</td>\n",
       "      <td>-2.424394e-05</td>\n",
       "    </tr>\n",
       "    <tr>\n",
       "      <th>6</th>\n",
       "      <td>num_voted_users</td>\n",
       "      <td>-5.513694e-05</td>\n",
       "    </tr>\n",
       "    <tr>\n",
       "      <th>4</th>\n",
       "      <td>actor_1_facebook_likes</td>\n",
       "      <td>-9.026002e-05</td>\n",
       "    </tr>\n",
       "    <tr>\n",
       "      <th>7</th>\n",
       "      <td>cast_total_facebook_likes</td>\n",
       "      <td>-1.383549e-04</td>\n",
       "    </tr>\n",
       "  </tbody>\n",
       "</table>\n",
       "</div>"
      ],
      "text/plain": [
       "                  X variables          coef\n",
       "9        num_user_for_reviews  1.131112e-07\n",
       "14                     Profit  1.367446e-09\n",
       "5                       gross -1.775497e-08\n",
       "11     actor_2_facebook_likes -1.912241e-08\n",
       "8        facenumber_in_poster -4.648449e-08\n",
       "15                        ROI -9.682445e-08\n",
       "10             content_rating -1.179775e-07\n",
       "0      num_critic_for_reviews -1.620816e-06\n",
       "1                    duration -3.453563e-06\n",
       "3      actor_3_facebook_likes -9.472167e-06\n",
       "2     director_facebook_likes -1.075674e-05\n",
       "13       movie_facebook_likes -1.239147e-05\n",
       "12                     budget -2.424394e-05\n",
       "6             num_voted_users -5.513694e-05\n",
       "4      actor_1_facebook_likes -9.026002e-05\n",
       "7   cast_total_facebook_likes -1.383549e-04"
      ]
     },
     "execution_count": 120,
     "metadata": {},
     "output_type": "execute_result"
    }
   ],
   "source": [
    "# print coefficients\n",
    "coef = pd.DataFrame(list(zip(X.columns, np.transpose(lr.coef_))), \n",
    "             columns=['X variables', 'coef'])\n",
    "coef['coef'] = coef['coef'].str[0]\n",
    "coef.sort_values('coef', ascending=False)"
   ]
  },
  {
   "cell_type": "code",
   "execution_count": 121,
   "metadata": {
    "slideshow": {
     "slide_type": "slide"
    }
   },
   "outputs": [
    {
     "name": "stdout",
     "output_type": "stream",
     "text": [
      "0.6495031616982837\n",
      "[[  0   2  27   0]\n",
      " [  0  13 298   1]\n",
      " [  0   8 688  30]\n",
      " [  0   0  22  18]]\n",
      "              precision    recall  f1-score   support\n",
      "\n",
      "           1       0.00      0.00      0.00        29\n",
      "           2       0.57      0.04      0.08       312\n",
      "           3       0.66      0.95      0.78       726\n",
      "           4       0.37      0.45      0.40        40\n",
      "\n",
      "    accuracy                           0.65      1107\n",
      "   macro avg       0.40      0.36      0.32      1107\n",
      "weighted avg       0.61      0.65      0.55      1107\n",
      "\n"
     ]
    },
    {
     "name": "stderr",
     "output_type": "stream",
     "text": [
      "C:\\Users\\Brian\\Anaconda3\\lib\\site-packages\\sklearn\\metrics\\classification.py:1437: UndefinedMetricWarning: Precision and F-score are ill-defined and being set to 0.0 in labels with no predicted samples.\n",
      "  'precision', 'predicted', average, warn_for)\n"
     ]
    }
   ],
   "source": [
    "#Model evaluation\n",
    "print(metrics.accuracy_score(y_test, lr.predict(X_test)))\n",
    "print(metrics.confusion_matrix(y_test, lr.predict(X_test)))\n",
    "print(metrics.classification_report(y_test, lr.predict(X_test)))"
   ]
  },
  {
   "cell_type": "markdown",
   "metadata": {
    "slideshow": {
     "slide_type": "fragment"
    }
   },
   "source": [
    "This model was more accurate than the knn model, but less accurate than the decision tree model. At about 65%, this logistic regression model is pretty good. Like the previous models, most of the errors were only 1 category off."
   ]
  },
  {
   "cell_type": "markdown",
   "metadata": {
    "slideshow": {
     "slide_type": "slide"
    }
   },
   "source": [
    "<b>Now on to the random forest classifier:</b>"
   ]
  },
  {
   "cell_type": "code",
   "execution_count": 122,
   "metadata": {
    "slideshow": {
     "slide_type": "skip"
    }
   },
   "outputs": [
    {
     "data": {
      "text/plain": [
       "0.7416440831074977"
      ]
     },
     "execution_count": 122,
     "metadata": {},
     "output_type": "execute_result"
    }
   ],
   "source": [
    "from sklearn.ensemble import RandomForestClassifier\n",
    "clf = RandomForestClassifier(n_estimators=20)    #building 20 decision trees\n",
    "clf=clf.fit(X_train, y_train)\n",
    "clf.score(X_test, y_test)"
   ]
  },
  {
   "cell_type": "code",
   "execution_count": 123,
   "metadata": {
    "slideshow": {
     "slide_type": "slide"
    }
   },
   "outputs": [
    {
     "name": "stdout",
     "output_type": "stream",
     "text": [
      "0.7416440831074977\n",
      "[[  0  15  14   0]\n",
      " [  0 152 160   0]\n",
      " [  0  69 648   9]\n",
      " [  0   0  19  21]]\n",
      "              precision    recall  f1-score   support\n",
      "\n",
      "           1       0.00      0.00      0.00        29\n",
      "           2       0.64      0.49      0.55       312\n",
      "           3       0.77      0.89      0.83       726\n",
      "           4       0.70      0.53      0.60        40\n",
      "\n",
      "    accuracy                           0.74      1107\n",
      "   macro avg       0.53      0.48      0.50      1107\n",
      "weighted avg       0.71      0.74      0.72      1107\n",
      "\n"
     ]
    },
    {
     "name": "stderr",
     "output_type": "stream",
     "text": [
      "C:\\Users\\Brian\\Anaconda3\\lib\\site-packages\\sklearn\\metrics\\classification.py:1437: UndefinedMetricWarning: Precision and F-score are ill-defined and being set to 0.0 in labels with no predicted samples.\n",
      "  'precision', 'predicted', average, warn_for)\n"
     ]
    }
   ],
   "source": [
    "print(metrics.accuracy_score(y_test, clf.predict(X_test))) #overall accuracy\n",
    "print(metrics.confusion_matrix(y_test, clf.predict(X_test)))\n",
    "print(metrics.classification_report(y_test, clf.predict(X_test)))"
   ]
  },
  {
   "cell_type": "markdown",
   "metadata": {
    "slideshow": {
     "slide_type": "fragment"
    }
   },
   "source": [
    "This model is the most accurate model I have created so far, with 74.2% accuracy. That being said, it's only a little better than the initial decision tree, which is interesting. While doing the homework and labs for classification this model was usually the best by a wide margin since it is able to average multiple decision trees."
   ]
  },
  {
   "cell_type": "markdown",
   "metadata": {
    "slideshow": {
     "slide_type": "slide"
    }
   },
   "source": [
    "<b>Now on to Select-K-Best (feature selection classification):</b>"
   ]
  },
  {
   "cell_type": "code",
   "execution_count": 124,
   "metadata": {
    "slideshow": {
     "slide_type": "skip"
    }
   },
   "outputs": [
    {
     "data": {
      "text/html": [
       "<div>\n",
       "<style scoped>\n",
       "    .dataframe tbody tr th:only-of-type {\n",
       "        vertical-align: middle;\n",
       "    }\n",
       "\n",
       "    .dataframe tbody tr th {\n",
       "        vertical-align: top;\n",
       "    }\n",
       "\n",
       "    .dataframe thead th {\n",
       "        text-align: right;\n",
       "    }\n",
       "</style>\n",
       "<table border=\"1\" class=\"dataframe\">\n",
       "  <thead>\n",
       "    <tr style=\"text-align: right;\">\n",
       "      <th></th>\n",
       "      <th>num_critic_for_reviews</th>\n",
       "      <th>duration</th>\n",
       "      <th>director_facebook_likes</th>\n",
       "      <th>actor_3_facebook_likes</th>\n",
       "      <th>actor_1_facebook_likes</th>\n",
       "      <th>gross</th>\n",
       "      <th>num_voted_users</th>\n",
       "      <th>cast_total_facebook_likes</th>\n",
       "      <th>facenumber_in_poster</th>\n",
       "      <th>num_user_for_reviews</th>\n",
       "      <th>content_rating</th>\n",
       "      <th>budget</th>\n",
       "      <th>actor_2_facebook_likes</th>\n",
       "      <th>movie_facebook_likes</th>\n",
       "    </tr>\n",
       "  </thead>\n",
       "  <tbody>\n",
       "    <tr>\n",
       "      <th>0</th>\n",
       "      <td>723.0</td>\n",
       "      <td>178.0</td>\n",
       "      <td>0.0</td>\n",
       "      <td>855.0</td>\n",
       "      <td>1000.0</td>\n",
       "      <td>760505847.0</td>\n",
       "      <td>886204</td>\n",
       "      <td>4834</td>\n",
       "      <td>0.0</td>\n",
       "      <td>3054.0</td>\n",
       "      <td>3.0</td>\n",
       "      <td>237000000.0</td>\n",
       "      <td>936.0</td>\n",
       "      <td>33000</td>\n",
       "    </tr>\n",
       "    <tr>\n",
       "      <th>1</th>\n",
       "      <td>302.0</td>\n",
       "      <td>169.0</td>\n",
       "      <td>563.0</td>\n",
       "      <td>1000.0</td>\n",
       "      <td>40000.0</td>\n",
       "      <td>309404152.0</td>\n",
       "      <td>471220</td>\n",
       "      <td>48350</td>\n",
       "      <td>0.0</td>\n",
       "      <td>1238.0</td>\n",
       "      <td>3.0</td>\n",
       "      <td>300000000.0</td>\n",
       "      <td>5000.0</td>\n",
       "      <td>0</td>\n",
       "    </tr>\n",
       "    <tr>\n",
       "      <th>2</th>\n",
       "      <td>602.0</td>\n",
       "      <td>148.0</td>\n",
       "      <td>0.0</td>\n",
       "      <td>161.0</td>\n",
       "      <td>11000.0</td>\n",
       "      <td>200074175.0</td>\n",
       "      <td>275868</td>\n",
       "      <td>11700</td>\n",
       "      <td>1.0</td>\n",
       "      <td>994.0</td>\n",
       "      <td>3.0</td>\n",
       "      <td>245000000.0</td>\n",
       "      <td>393.0</td>\n",
       "      <td>85000</td>\n",
       "    </tr>\n",
       "    <tr>\n",
       "      <th>3</th>\n",
       "      <td>813.0</td>\n",
       "      <td>164.0</td>\n",
       "      <td>22000.0</td>\n",
       "      <td>23000.0</td>\n",
       "      <td>27000.0</td>\n",
       "      <td>448130642.0</td>\n",
       "      <td>1144337</td>\n",
       "      <td>106759</td>\n",
       "      <td>0.0</td>\n",
       "      <td>2701.0</td>\n",
       "      <td>3.0</td>\n",
       "      <td>250000000.0</td>\n",
       "      <td>23000.0</td>\n",
       "      <td>164000</td>\n",
       "    </tr>\n",
       "    <tr>\n",
       "      <th>5</th>\n",
       "      <td>462.0</td>\n",
       "      <td>132.0</td>\n",
       "      <td>475.0</td>\n",
       "      <td>530.0</td>\n",
       "      <td>640.0</td>\n",
       "      <td>73058679.0</td>\n",
       "      <td>212204</td>\n",
       "      <td>1873</td>\n",
       "      <td>1.0</td>\n",
       "      <td>738.0</td>\n",
       "      <td>3.0</td>\n",
       "      <td>263700000.0</td>\n",
       "      <td>632.0</td>\n",
       "      <td>24000</td>\n",
       "    </tr>\n",
       "  </tbody>\n",
       "</table>\n",
       "</div>"
      ],
      "text/plain": [
       "   num_critic_for_reviews  duration  director_facebook_likes  \\\n",
       "0                   723.0     178.0                      0.0   \n",
       "1                   302.0     169.0                    563.0   \n",
       "2                   602.0     148.0                      0.0   \n",
       "3                   813.0     164.0                  22000.0   \n",
       "5                   462.0     132.0                    475.0   \n",
       "\n",
       "   actor_3_facebook_likes  actor_1_facebook_likes        gross  \\\n",
       "0                   855.0                  1000.0  760505847.0   \n",
       "1                  1000.0                 40000.0  309404152.0   \n",
       "2                   161.0                 11000.0  200074175.0   \n",
       "3                 23000.0                 27000.0  448130642.0   \n",
       "5                   530.0                   640.0   73058679.0   \n",
       "\n",
       "   num_voted_users  cast_total_facebook_likes  facenumber_in_poster  \\\n",
       "0           886204                       4834                   0.0   \n",
       "1           471220                      48350                   0.0   \n",
       "2           275868                      11700                   1.0   \n",
       "3          1144337                     106759                   0.0   \n",
       "5           212204                       1873                   1.0   \n",
       "\n",
       "   num_user_for_reviews  content_rating       budget  actor_2_facebook_likes  \\\n",
       "0                3054.0             3.0  237000000.0                   936.0   \n",
       "1                1238.0             3.0  300000000.0                  5000.0   \n",
       "2                 994.0             3.0  245000000.0                   393.0   \n",
       "3                2701.0             3.0  250000000.0                 23000.0   \n",
       "5                 738.0             3.0  263700000.0                   632.0   \n",
       "\n",
       "   movie_facebook_likes  \n",
       "0                 33000  \n",
       "1                     0  \n",
       "2                 85000  \n",
       "3                164000  \n",
       "5                 24000  "
      ]
     },
     "execution_count": 124,
     "metadata": {},
     "output_type": "execute_result"
    }
   ],
   "source": [
    "#dropping columns with negative values as they will not work with select-k-best\n",
    "X3 = X3.drop(['Profit', 'ROI'], axis=1)\n",
    "X3.head()"
   ]
  },
  {
   "cell_type": "code",
   "execution_count": 125,
   "metadata": {
    "slideshow": {
     "slide_type": "skip"
    }
   },
   "outputs": [
    {
     "name": "stdout",
     "output_type": "stream",
     "text": [
      "[ 5  6 11]\n"
     ]
    }
   ],
   "source": [
    "selector = SelectKBest(chi2, k=3).fit(X3, y3)\n",
    "idxs_selected = selector.get_support(indices=True)\n",
    "print(idxs_selected)"
   ]
  },
  {
   "cell_type": "markdown",
   "metadata": {
    "slideshow": {
     "slide_type": "slide"
    }
   },
   "source": [
    "Gross, num_voted_users, and budget were selected as best predictors."
   ]
  },
  {
   "cell_type": "code",
   "execution_count": 126,
   "metadata": {
    "slideshow": {
     "slide_type": "slide"
    }
   },
   "outputs": [
    {
     "name": "stdout",
     "output_type": "stream",
     "text": [
      "0.6838301716350497\n",
      "--------------------------------------------------------\n",
      "[[  4  15   8   0]\n",
      " [ 19 164 124   1]\n",
      " [ 11 137 559  23]\n",
      " [  0   1  11  30]]\n",
      "--------------------------------------------------------\n",
      "              precision    recall  f1-score   support\n",
      "\n",
      "           1       0.12      0.15      0.13        27\n",
      "           2       0.52      0.53      0.52       308\n",
      "           3       0.80      0.77      0.78       730\n",
      "           4       0.56      0.71      0.63        42\n",
      "\n",
      "    accuracy                           0.68      1107\n",
      "   macro avg       0.50      0.54      0.52      1107\n",
      "weighted avg       0.69      0.68      0.69      1107\n",
      "\n",
      "--------------------------------------------------------\n"
     ]
    }
   ],
   "source": [
    "# Build a decision tree model with those three features ... Split validation:train (70%) and test sets (30%)\n",
    "# split validation\n",
    "X_train, X_test, y_train, y_test = train_test_split(X3, y3, test_size=0.3, random_state=42)\n",
    "# Initialize DecisionTreeClassifier() ... name your decision model \"dt\"\n",
    "dt = DecisionTreeClassifier()\n",
    "# Train a decision tree model\n",
    "dt = dt.fit(X_train, y_train)\n",
    "dt\n",
    "#Model evaluation\n",
    "print(metrics.accuracy_score(y_test, dt.predict(X_test)))\n",
    "print(\"--------------------------------------------------------\")\n",
    "print(metrics.confusion_matrix(y_test, dt.predict(X_test))) \n",
    "print(\"--------------------------------------------------------\")\n",
    "print(metrics.classification_report(y_test, dt.predict(X_test)))\n",
    "print(\"--------------------------------------------------------\")"
   ]
  },
  {
   "cell_type": "markdown",
   "metadata": {
    "slideshow": {
     "slide_type": "slide"
    }
   },
   "source": [
    "This model is also okay at 68.4% percent accuracy. This model has more errors on the bottom lower left of the confusion score than the previous models did, which means it is predicting movies be bad when in fact they were quite highly rated."
   ]
  },
  {
   "cell_type": "markdown",
   "metadata": {
    "slideshow": {
     "slide_type": "slide"
    }
   },
   "source": [
    "<h2> Part 9 - Model Selection - Random Forest Classifier </h2>"
   ]
  },
  {
   "cell_type": "markdown",
   "metadata": {
    "slideshow": {
     "slide_type": "slide"
    }
   },
   "source": [
    "I have created several models as part of this project. If I were to provide a \"best model\" for a prospective client I would pick the random forest classifier as it has the highest accuracy score when predicting which score category a movie would result in. It had an accuracy score of 73.8% and few egregious classifying error.\n",
    "\n",
    "That being said, it's important to realize that the classification models get to sort of cheat when compared to the regression models. Instead of being asked to predict the correct score, they just have to predict a movie falls into a certain range of imdb scores. None of the models created will be super accurate for predicting imdb_score, but they are significantly more helpful than just guessing.\n",
    "\n",
    "This reflects a lot of what I discovered during the mid-term project. There are not many numerical variables that are highly correlated with a high imdb score, which makes creating different models difficult. I feel as if the conclusion I came to when completing the mid-term project holds mostly true in this final project. Various models can help you predict imdb scores with decent accuracy, but selecting movies with personnel (actors and directors) with a history of success is far more likely to help predict imdb scores."
   ]
  },
  {
   "cell_type": "markdown",
   "metadata": {
    "slideshow": {
     "slide_type": "slide"
    }
   },
   "source": [
    "<h2>Part 10 - Clustering Analysis</h2>"
   ]
  },
  {
   "cell_type": "code",
   "execution_count": 136,
   "metadata": {
    "slideshow": {
     "slide_type": "skip"
    }
   },
   "outputs": [],
   "source": [
    "#removing non-numerical values\n",
    "df_clust = df.drop(['color', 'director_name', 'actor_2_name', 'actor_1_name','movie_title','actor_3_name','plot_keywords','movie_imdb_link','language','country'], axis=1)"
   ]
  },
  {
   "cell_type": "code",
   "execution_count": 137,
   "metadata": {
    "slideshow": {
     "slide_type": "skip"
    }
   },
   "outputs": [],
   "source": [
    "#removing bins even though they should not be here\n",
    "df_clust = df_clust.drop(['binned'], axis=1)"
   ]
  },
  {
   "cell_type": "code",
   "execution_count": 140,
   "metadata": {
    "slideshow": {
     "slide_type": "skip"
    }
   },
   "outputs": [
    {
     "data": {
      "text/html": [
       "<div>\n",
       "<style scoped>\n",
       "    .dataframe tbody tr th:only-of-type {\n",
       "        vertical-align: middle;\n",
       "    }\n",
       "\n",
       "    .dataframe tbody tr th {\n",
       "        vertical-align: top;\n",
       "    }\n",
       "\n",
       "    .dataframe thead th {\n",
       "        text-align: right;\n",
       "    }\n",
       "</style>\n",
       "<table border=\"1\" class=\"dataframe\">\n",
       "  <thead>\n",
       "    <tr style=\"text-align: right;\">\n",
       "      <th></th>\n",
       "      <th>num_critic_for_reviews</th>\n",
       "      <th>duration</th>\n",
       "      <th>director_facebook_likes</th>\n",
       "      <th>actor_3_facebook_likes</th>\n",
       "      <th>actor_1_facebook_likes</th>\n",
       "      <th>gross</th>\n",
       "      <th>num_voted_users</th>\n",
       "      <th>cast_total_facebook_likes</th>\n",
       "      <th>facenumber_in_poster</th>\n",
       "      <th>num_user_for_reviews</th>\n",
       "      <th>content_rating</th>\n",
       "      <th>budget</th>\n",
       "      <th>actor_2_facebook_likes</th>\n",
       "      <th>imdb_score</th>\n",
       "      <th>movie_facebook_likes</th>\n",
       "      <th>Profit</th>\n",
       "      <th>ROI</th>\n",
       "    </tr>\n",
       "  </thead>\n",
       "  <tbody>\n",
       "    <tr>\n",
       "      <th>0</th>\n",
       "      <td>723.0</td>\n",
       "      <td>178.0</td>\n",
       "      <td>0.0</td>\n",
       "      <td>855.0</td>\n",
       "      <td>1000.0</td>\n",
       "      <td>760505847.0</td>\n",
       "      <td>886204</td>\n",
       "      <td>4834</td>\n",
       "      <td>0.0</td>\n",
       "      <td>3054.0</td>\n",
       "      <td>3.0</td>\n",
       "      <td>237000000.0</td>\n",
       "      <td>936.0</td>\n",
       "      <td>7.9</td>\n",
       "      <td>33000</td>\n",
       "      <td>523505847.0</td>\n",
       "      <td>2.208885</td>\n",
       "    </tr>\n",
       "  </tbody>\n",
       "</table>\n",
       "</div>"
      ],
      "text/plain": [
       "   num_critic_for_reviews  duration  director_facebook_likes  \\\n",
       "0                   723.0     178.0                      0.0   \n",
       "\n",
       "   actor_3_facebook_likes  actor_1_facebook_likes        gross  \\\n",
       "0                   855.0                  1000.0  760505847.0   \n",
       "\n",
       "   num_voted_users  cast_total_facebook_likes  facenumber_in_poster  \\\n",
       "0           886204                       4834                   0.0   \n",
       "\n",
       "   num_user_for_reviews  content_rating       budget  actor_2_facebook_likes  \\\n",
       "0                3054.0             3.0  237000000.0                   936.0   \n",
       "\n",
       "   imdb_score  movie_facebook_likes       Profit       ROI  \n",
       "0         7.9                 33000  523505847.0  2.208885  "
      ]
     },
     "execution_count": 140,
     "metadata": {},
     "output_type": "execute_result"
    }
   ],
   "source": [
    "#confirming bin removal\n",
    "df_clust.head(1)"
   ]
  },
  {
   "cell_type": "code",
   "execution_count": 141,
   "metadata": {
    "slideshow": {
     "slide_type": "skip"
    }
   },
   "outputs": [
    {
     "data": {
      "text/html": [
       "<div>\n",
       "<style scoped>\n",
       "    .dataframe tbody tr th:only-of-type {\n",
       "        vertical-align: middle;\n",
       "    }\n",
       "\n",
       "    .dataframe tbody tr th {\n",
       "        vertical-align: top;\n",
       "    }\n",
       "\n",
       "    .dataframe thead th {\n",
       "        text-align: right;\n",
       "    }\n",
       "</style>\n",
       "<table border=\"1\" class=\"dataframe\">\n",
       "  <thead>\n",
       "    <tr style=\"text-align: right;\">\n",
       "      <th></th>\n",
       "      <th>num_critic_for_reviews</th>\n",
       "      <th>duration</th>\n",
       "      <th>director_facebook_likes</th>\n",
       "      <th>actor_3_facebook_likes</th>\n",
       "      <th>actor_1_facebook_likes</th>\n",
       "      <th>gross</th>\n",
       "      <th>num_voted_users</th>\n",
       "      <th>cast_total_facebook_likes</th>\n",
       "      <th>facenumber_in_poster</th>\n",
       "      <th>num_user_for_reviews</th>\n",
       "      <th>content_rating</th>\n",
       "      <th>budget</th>\n",
       "      <th>actor_2_facebook_likes</th>\n",
       "      <th>imdb_score</th>\n",
       "      <th>movie_facebook_likes</th>\n",
       "      <th>Profit</th>\n",
       "      <th>ROI</th>\n",
       "    </tr>\n",
       "  </thead>\n",
       "  <tbody>\n",
       "    <tr>\n",
       "      <th>0</th>\n",
       "      <td>0.686104</td>\n",
       "      <td>0.245223</td>\n",
       "      <td>-0.035343</td>\n",
       "      <td>0.003621</td>\n",
       "      <td>-0.010647</td>\n",
       "      <td>0.930805</td>\n",
       "      <td>0.462122</td>\n",
       "      <td>-0.010309</td>\n",
       "      <td>-0.032022</td>\n",
       "      <td>0.537546</td>\n",
       "      <td>-0.087895</td>\n",
       "      <td>0.015588</td>\n",
       "      <td>-0.007990</td>\n",
       "      <td>0.188906</td>\n",
       "      <td>0.067835</td>\n",
       "      <td>0.040628</td>\n",
       "      <td>-0.000334</td>\n",
       "    </tr>\n",
       "    <tr>\n",
       "      <th>1</th>\n",
       "      <td>0.167631</td>\n",
       "      <td>0.212732</td>\n",
       "      <td>-0.010865</td>\n",
       "      <td>0.009925</td>\n",
       "      <td>0.050290</td>\n",
       "      <td>0.337645</td>\n",
       "      <td>0.216531</td>\n",
       "      <td>0.055953</td>\n",
       "      <td>-0.032022</td>\n",
       "      <td>0.178582</td>\n",
       "      <td>-0.087895</td>\n",
       "      <td>0.020745</td>\n",
       "      <td>0.021674</td>\n",
       "      <td>0.085010</td>\n",
       "      <td>-0.026721</td>\n",
       "      <td>0.000264</td>\n",
       "      <td>-0.000637</td>\n",
       "    </tr>\n",
       "    <tr>\n",
       "      <th>2</th>\n",
       "      <td>0.537089</td>\n",
       "      <td>0.136920</td>\n",
       "      <td>-0.035343</td>\n",
       "      <td>-0.026553</td>\n",
       "      <td>0.004978</td>\n",
       "      <td>0.193885</td>\n",
       "      <td>0.100921</td>\n",
       "      <td>0.000146</td>\n",
       "      <td>-0.008767</td>\n",
       "      <td>0.130351</td>\n",
       "      <td>-0.087895</td>\n",
       "      <td>0.016243</td>\n",
       "      <td>-0.011954</td>\n",
       "      <td>0.046049</td>\n",
       "      <td>0.216832</td>\n",
       "      <td>-0.004001</td>\n",
       "      <td>-0.000666</td>\n",
       "    </tr>\n",
       "    <tr>\n",
       "      <th>3</th>\n",
       "      <td>0.796941</td>\n",
       "      <td>0.194682</td>\n",
       "      <td>0.921179</td>\n",
       "      <td>0.966447</td>\n",
       "      <td>0.029978</td>\n",
       "      <td>0.520058</td>\n",
       "      <td>0.614886</td>\n",
       "      <td>0.144892</td>\n",
       "      <td>-0.032022</td>\n",
       "      <td>0.467770</td>\n",
       "      <td>-0.087895</td>\n",
       "      <td>0.016652</td>\n",
       "      <td>0.153061</td>\n",
       "      <td>0.266829</td>\n",
       "      <td>0.443193</td>\n",
       "      <td>0.015082</td>\n",
       "      <td>-0.000531</td>\n",
       "    </tr>\n",
       "    <tr>\n",
       "      <th>5</th>\n",
       "      <td>0.364675</td>\n",
       "      <td>0.079158</td>\n",
       "      <td>-0.014691</td>\n",
       "      <td>-0.010510</td>\n",
       "      <td>-0.011210</td>\n",
       "      <td>0.026871</td>\n",
       "      <td>0.063244</td>\n",
       "      <td>-0.014818</td>\n",
       "      <td>-0.008767</td>\n",
       "      <td>0.079748</td>\n",
       "      <td>-0.087895</td>\n",
       "      <td>0.017774</td>\n",
       "      <td>-0.010209</td>\n",
       "      <td>0.020075</td>\n",
       "      <td>0.042047</td>\n",
       "      <td>-0.015442</td>\n",
       "      <td>-0.000741</td>\n",
       "    </tr>\n",
       "  </tbody>\n",
       "</table>\n",
       "</div>"
      ],
      "text/plain": [
       "   num_critic_for_reviews  duration  director_facebook_likes  \\\n",
       "0                0.686104  0.245223                -0.035343   \n",
       "1                0.167631  0.212732                -0.010865   \n",
       "2                0.537089  0.136920                -0.035343   \n",
       "3                0.796941  0.194682                 0.921179   \n",
       "5                0.364675  0.079158                -0.014691   \n",
       "\n",
       "   actor_3_facebook_likes  actor_1_facebook_likes     gross  num_voted_users  \\\n",
       "0                0.003621               -0.010647  0.930805         0.462122   \n",
       "1                0.009925                0.050290  0.337645         0.216531   \n",
       "2               -0.026553                0.004978  0.193885         0.100921   \n",
       "3                0.966447                0.029978  0.520058         0.614886   \n",
       "5               -0.010510               -0.011210  0.026871         0.063244   \n",
       "\n",
       "   cast_total_facebook_likes  facenumber_in_poster  num_user_for_reviews  \\\n",
       "0                  -0.010309             -0.032022              0.537546   \n",
       "1                   0.055953             -0.032022              0.178582   \n",
       "2                   0.000146             -0.008767              0.130351   \n",
       "3                   0.144892             -0.032022              0.467770   \n",
       "5                  -0.014818             -0.008767              0.079748   \n",
       "\n",
       "   content_rating    budget  actor_2_facebook_likes  imdb_score  \\\n",
       "0       -0.087895  0.015588               -0.007990    0.188906   \n",
       "1       -0.087895  0.020745                0.021674    0.085010   \n",
       "2       -0.087895  0.016243               -0.011954    0.046049   \n",
       "3       -0.087895  0.016652                0.153061    0.266829   \n",
       "5       -0.087895  0.017774               -0.010209    0.020075   \n",
       "\n",
       "   movie_facebook_likes    Profit       ROI  \n",
       "0              0.067835  0.040628 -0.000334  \n",
       "1             -0.026721  0.000264 -0.000637  \n",
       "2              0.216832 -0.004001 -0.000666  \n",
       "3              0.443193  0.015082 -0.000531  \n",
       "5              0.042047 -0.015442 -0.000741  "
      ]
     },
     "execution_count": 141,
     "metadata": {},
     "output_type": "execute_result"
    }
   ],
   "source": [
    "#normalizing data\n",
    "df_norm = (df_clust - df_clust.mean()) / (df_clust.max() - df_clust.min())\n",
    "df_norm.head()"
   ]
  },
  {
   "cell_type": "code",
   "execution_count": 142,
   "metadata": {
    "slideshow": {
     "slide_type": "skip"
    }
   },
   "outputs": [
    {
     "data": {
      "text/plain": [
       "num_critic_for_reviews       0.023430\n",
       "duration                     0.006482\n",
       "director_facebook_likes      0.018047\n",
       "actor_3_facebook_likes       0.006653\n",
       "actor_1_facebook_likes       0.000597\n",
       "gross                        0.008473\n",
       "num_voted_users              0.008102\n",
       "cast_total_facebook_likes    0.000854\n",
       "facenumber_in_poster         0.002271\n",
       "num_user_for_reviews         0.006673\n",
       "content_rating               0.072059\n",
       "budget                       0.000348\n",
       "actor_2_facebook_likes       0.001104\n",
       "imdb_score                   0.018820\n",
       "movie_facebook_likes         0.003796\n",
       "Profit                       0.000331\n",
       "ROI                          0.000304\n",
       "dtype: float64"
      ]
     },
     "execution_count": 142,
     "metadata": {},
     "output_type": "execute_result"
    }
   ],
   "source": [
    "#confirming\n",
    "df_norm.var()"
   ]
  },
  {
   "cell_type": "code",
   "execution_count": 207,
   "metadata": {
    "slideshow": {
     "slide_type": "slide"
    }
   },
   "outputs": [],
   "source": [
    "k_means = KMeans(init='k-means++', n_clusters=2, random_state=0)"
   ]
  },
  {
   "cell_type": "code",
   "execution_count": 208,
   "metadata": {
    "slideshow": {
     "slide_type": "skip"
    }
   },
   "outputs": [
    {
     "data": {
      "text/plain": [
       "KMeans(algorithm='auto', copy_x=True, init='k-means++', max_iter=300,\n",
       "       n_clusters=2, n_init=10, n_jobs=None, precompute_distances='auto',\n",
       "       random_state=0, tol=0.0001, verbose=0)"
      ]
     },
     "execution_count": 208,
     "metadata": {},
     "output_type": "execute_result"
    }
   ],
   "source": [
    "k_means.fit(df_norm)"
   ]
  },
  {
   "cell_type": "code",
   "execution_count": 209,
   "metadata": {
    "slideshow": {
     "slide_type": "skip"
    }
   },
   "outputs": [
    {
     "data": {
      "text/plain": [
       "array([0, 0, 0, ..., 0, 1, 0])"
      ]
     },
     "execution_count": 209,
     "metadata": {},
     "output_type": "execute_result"
    }
   ],
   "source": [
    "# cluster labels\n",
    "k_means.labels_"
   ]
  },
  {
   "cell_type": "code",
   "execution_count": 210,
   "metadata": {
    "slideshow": {
     "slide_type": "skip"
    }
   },
   "outputs": [
    {
     "data": {
      "text/plain": [
       "array([[-0.0005677 , -0.00265805, -0.00109142,  0.0060321 ,  0.0006168 ,\n",
       "         0.02423774,  0.00137507,  0.00119434,  0.00121872,  0.00079378,\n",
       "        -0.21475836,  0.00067397,  0.00074313, -0.02009995,  0.00168911,\n",
       "         0.00080084, -0.00043502],\n",
       "       [ 0.0006488 ,  0.00303777,  0.00124734, -0.00689383, -0.00070491,\n",
       "        -0.02770028, -0.00157151, -0.00136496, -0.00139283, -0.00090717,\n",
       "         0.24543812, -0.00077025, -0.00084929,  0.02297138, -0.00193041,\n",
       "        -0.00091524,  0.00049717]])"
      ]
     },
     "execution_count": 210,
     "metadata": {},
     "output_type": "execute_result"
    }
   ],
   "source": [
    "# find out cluster centers\n",
    "k_means.cluster_centers_"
   ]
  },
  {
   "cell_type": "code",
   "execution_count": 211,
   "metadata": {
    "slideshow": {
     "slide_type": "skip"
    }
   },
   "outputs": [
    {
     "data": {
      "text/html": [
       "<div>\n",
       "<style scoped>\n",
       "    .dataframe tbody tr th:only-of-type {\n",
       "        vertical-align: middle;\n",
       "    }\n",
       "\n",
       "    .dataframe tbody tr th {\n",
       "        vertical-align: top;\n",
       "    }\n",
       "\n",
       "    .dataframe thead th {\n",
       "        text-align: right;\n",
       "    }\n",
       "</style>\n",
       "<table border=\"1\" class=\"dataframe\">\n",
       "  <thead>\n",
       "    <tr style=\"text-align: right;\">\n",
       "      <th></th>\n",
       "      <th>cluster</th>\n",
       "    </tr>\n",
       "  </thead>\n",
       "  <tbody>\n",
       "    <tr>\n",
       "      <th>0</th>\n",
       "      <td>0</td>\n",
       "    </tr>\n",
       "    <tr>\n",
       "      <th>1</th>\n",
       "      <td>0</td>\n",
       "    </tr>\n",
       "    <tr>\n",
       "      <th>2</th>\n",
       "      <td>0</td>\n",
       "    </tr>\n",
       "    <tr>\n",
       "      <th>3</th>\n",
       "      <td>0</td>\n",
       "    </tr>\n",
       "    <tr>\n",
       "      <th>4</th>\n",
       "      <td>0</td>\n",
       "    </tr>\n",
       "  </tbody>\n",
       "</table>\n",
       "</div>"
      ],
      "text/plain": [
       "   cluster\n",
       "0        0\n",
       "1        0\n",
       "2        0\n",
       "3        0\n",
       "4        0"
      ]
     },
     "execution_count": 211,
     "metadata": {},
     "output_type": "execute_result"
    }
   ],
   "source": [
    "df1 = pd.DataFrame(k_means.labels_, columns = ['cluster'])\n",
    "df1.head()"
   ]
  },
  {
   "cell_type": "code",
   "execution_count": 212,
   "metadata": {
    "slideshow": {
     "slide_type": "skip"
    }
   },
   "outputs": [
    {
     "data": {
      "text/html": [
       "<div>\n",
       "<style scoped>\n",
       "    .dataframe tbody tr th:only-of-type {\n",
       "        vertical-align: middle;\n",
       "    }\n",
       "\n",
       "    .dataframe tbody tr th {\n",
       "        vertical-align: top;\n",
       "    }\n",
       "\n",
       "    .dataframe thead th {\n",
       "        text-align: right;\n",
       "    }\n",
       "</style>\n",
       "<table border=\"1\" class=\"dataframe\">\n",
       "  <thead>\n",
       "    <tr style=\"text-align: right;\">\n",
       "      <th></th>\n",
       "      <th>num_critic_for_reviews</th>\n",
       "      <th>duration</th>\n",
       "      <th>director_facebook_likes</th>\n",
       "      <th>actor_3_facebook_likes</th>\n",
       "      <th>actor_1_facebook_likes</th>\n",
       "      <th>gross</th>\n",
       "      <th>num_voted_users</th>\n",
       "      <th>cast_total_facebook_likes</th>\n",
       "      <th>facenumber_in_poster</th>\n",
       "      <th>num_user_for_reviews</th>\n",
       "      <th>content_rating</th>\n",
       "      <th>budget</th>\n",
       "      <th>actor_2_facebook_likes</th>\n",
       "      <th>imdb_score</th>\n",
       "      <th>movie_facebook_likes</th>\n",
       "      <th>Profit</th>\n",
       "      <th>ROI</th>\n",
       "      <th>cluster</th>\n",
       "    </tr>\n",
       "  </thead>\n",
       "  <tbody>\n",
       "    <tr>\n",
       "      <th>0</th>\n",
       "      <td>0.686104</td>\n",
       "      <td>0.245223</td>\n",
       "      <td>-0.035343</td>\n",
       "      <td>0.003621</td>\n",
       "      <td>-0.010647</td>\n",
       "      <td>0.930805</td>\n",
       "      <td>0.462122</td>\n",
       "      <td>-0.010309</td>\n",
       "      <td>-0.032022</td>\n",
       "      <td>0.537546</td>\n",
       "      <td>-0.087895</td>\n",
       "      <td>0.015588</td>\n",
       "      <td>-0.007990</td>\n",
       "      <td>0.188906</td>\n",
       "      <td>0.067835</td>\n",
       "      <td>0.040628</td>\n",
       "      <td>-0.000334</td>\n",
       "      <td>0.0</td>\n",
       "    </tr>\n",
       "    <tr>\n",
       "      <th>1</th>\n",
       "      <td>0.167631</td>\n",
       "      <td>0.212732</td>\n",
       "      <td>-0.010865</td>\n",
       "      <td>0.009925</td>\n",
       "      <td>0.050290</td>\n",
       "      <td>0.337645</td>\n",
       "      <td>0.216531</td>\n",
       "      <td>0.055953</td>\n",
       "      <td>-0.032022</td>\n",
       "      <td>0.178582</td>\n",
       "      <td>-0.087895</td>\n",
       "      <td>0.020745</td>\n",
       "      <td>0.021674</td>\n",
       "      <td>0.085010</td>\n",
       "      <td>-0.026721</td>\n",
       "      <td>0.000264</td>\n",
       "      <td>-0.000637</td>\n",
       "      <td>0.0</td>\n",
       "    </tr>\n",
       "    <tr>\n",
       "      <th>2</th>\n",
       "      <td>0.537089</td>\n",
       "      <td>0.136920</td>\n",
       "      <td>-0.035343</td>\n",
       "      <td>-0.026553</td>\n",
       "      <td>0.004978</td>\n",
       "      <td>0.193885</td>\n",
       "      <td>0.100921</td>\n",
       "      <td>0.000146</td>\n",
       "      <td>-0.008767</td>\n",
       "      <td>0.130351</td>\n",
       "      <td>-0.087895</td>\n",
       "      <td>0.016243</td>\n",
       "      <td>-0.011954</td>\n",
       "      <td>0.046049</td>\n",
       "      <td>0.216832</td>\n",
       "      <td>-0.004001</td>\n",
       "      <td>-0.000666</td>\n",
       "      <td>0.0</td>\n",
       "    </tr>\n",
       "    <tr>\n",
       "      <th>3</th>\n",
       "      <td>0.796941</td>\n",
       "      <td>0.194682</td>\n",
       "      <td>0.921179</td>\n",
       "      <td>0.966447</td>\n",
       "      <td>0.029978</td>\n",
       "      <td>0.520058</td>\n",
       "      <td>0.614886</td>\n",
       "      <td>0.144892</td>\n",
       "      <td>-0.032022</td>\n",
       "      <td>0.467770</td>\n",
       "      <td>-0.087895</td>\n",
       "      <td>0.016652</td>\n",
       "      <td>0.153061</td>\n",
       "      <td>0.266829</td>\n",
       "      <td>0.443193</td>\n",
       "      <td>0.015082</td>\n",
       "      <td>-0.000531</td>\n",
       "      <td>0.0</td>\n",
       "    </tr>\n",
       "    <tr>\n",
       "      <th>5</th>\n",
       "      <td>0.364675</td>\n",
       "      <td>0.079158</td>\n",
       "      <td>-0.014691</td>\n",
       "      <td>-0.010510</td>\n",
       "      <td>-0.011210</td>\n",
       "      <td>0.026871</td>\n",
       "      <td>0.063244</td>\n",
       "      <td>-0.014818</td>\n",
       "      <td>-0.008767</td>\n",
       "      <td>0.079748</td>\n",
       "      <td>-0.087895</td>\n",
       "      <td>0.017774</td>\n",
       "      <td>-0.010209</td>\n",
       "      <td>0.020075</td>\n",
       "      <td>0.042047</td>\n",
       "      <td>-0.015442</td>\n",
       "      <td>-0.000741</td>\n",
       "      <td>0.0</td>\n",
       "    </tr>\n",
       "  </tbody>\n",
       "</table>\n",
       "</div>"
      ],
      "text/plain": [
       "   num_critic_for_reviews  duration  director_facebook_likes  \\\n",
       "0                0.686104  0.245223                -0.035343   \n",
       "1                0.167631  0.212732                -0.010865   \n",
       "2                0.537089  0.136920                -0.035343   \n",
       "3                0.796941  0.194682                 0.921179   \n",
       "5                0.364675  0.079158                -0.014691   \n",
       "\n",
       "   actor_3_facebook_likes  actor_1_facebook_likes     gross  num_voted_users  \\\n",
       "0                0.003621               -0.010647  0.930805         0.462122   \n",
       "1                0.009925                0.050290  0.337645         0.216531   \n",
       "2               -0.026553                0.004978  0.193885         0.100921   \n",
       "3                0.966447                0.029978  0.520058         0.614886   \n",
       "5               -0.010510               -0.011210  0.026871         0.063244   \n",
       "\n",
       "   cast_total_facebook_likes  facenumber_in_poster  num_user_for_reviews  \\\n",
       "0                  -0.010309             -0.032022              0.537546   \n",
       "1                   0.055953             -0.032022              0.178582   \n",
       "2                   0.000146             -0.008767              0.130351   \n",
       "3                   0.144892             -0.032022              0.467770   \n",
       "5                  -0.014818             -0.008767              0.079748   \n",
       "\n",
       "   content_rating    budget  actor_2_facebook_likes  imdb_score  \\\n",
       "0       -0.087895  0.015588               -0.007990    0.188906   \n",
       "1       -0.087895  0.020745                0.021674    0.085010   \n",
       "2       -0.087895  0.016243               -0.011954    0.046049   \n",
       "3       -0.087895  0.016652                0.153061    0.266829   \n",
       "5       -0.087895  0.017774               -0.010209    0.020075   \n",
       "\n",
       "   movie_facebook_likes    Profit       ROI  cluster  \n",
       "0              0.067835  0.040628 -0.000334      0.0  \n",
       "1             -0.026721  0.000264 -0.000637      0.0  \n",
       "2              0.216832 -0.004001 -0.000666      0.0  \n",
       "3              0.443193  0.015082 -0.000531      0.0  \n",
       "5              0.042047 -0.015442 -0.000741      0.0  "
      ]
     },
     "execution_count": 212,
     "metadata": {},
     "output_type": "execute_result"
    }
   ],
   "source": [
    "df2 = df_norm.join(df1)\n",
    "df2.head()"
   ]
  },
  {
   "cell_type": "code",
   "execution_count": 213,
   "metadata": {
    "slideshow": {
     "slide_type": "skip"
    }
   },
   "outputs": [],
   "source": [
    "df2 = df2.dropna()"
   ]
  },
  {
   "cell_type": "code",
   "execution_count": 214,
   "metadata": {
    "slideshow": {
     "slide_type": "fragment"
    }
   },
   "outputs": [
    {
     "data": {
      "text/plain": [
       "cluster\n",
       "0.0    1704\n",
       "1.0    1414\n",
       "dtype: int64"
      ]
     },
     "execution_count": 214,
     "metadata": {},
     "output_type": "execute_result"
    }
   ],
   "source": [
    "df2.groupby('cluster').size()"
   ]
  },
  {
   "cell_type": "code",
   "execution_count": 215,
   "metadata": {
    "slideshow": {
     "slide_type": "slide"
    }
   },
   "outputs": [
    {
     "data": {
      "text/html": [
       "<div>\n",
       "<style scoped>\n",
       "    .dataframe tbody tr th:only-of-type {\n",
       "        vertical-align: middle;\n",
       "    }\n",
       "\n",
       "    .dataframe tbody tr th {\n",
       "        vertical-align: top;\n",
       "    }\n",
       "\n",
       "    .dataframe thead th {\n",
       "        text-align: right;\n",
       "    }\n",
       "</style>\n",
       "<table border=\"1\" class=\"dataframe\">\n",
       "  <thead>\n",
       "    <tr style=\"text-align: right;\">\n",
       "      <th></th>\n",
       "      <th>num_critic_for_reviews</th>\n",
       "      <th>duration</th>\n",
       "      <th>director_facebook_likes</th>\n",
       "      <th>actor_3_facebook_likes</th>\n",
       "      <th>actor_1_facebook_likes</th>\n",
       "      <th>gross</th>\n",
       "      <th>num_voted_users</th>\n",
       "      <th>cast_total_facebook_likes</th>\n",
       "      <th>facenumber_in_poster</th>\n",
       "      <th>num_user_for_reviews</th>\n",
       "      <th>content_rating</th>\n",
       "      <th>budget</th>\n",
       "      <th>actor_2_facebook_likes</th>\n",
       "      <th>imdb_score</th>\n",
       "      <th>movie_facebook_likes</th>\n",
       "      <th>Profit</th>\n",
       "      <th>ROI</th>\n",
       "    </tr>\n",
       "    <tr>\n",
       "      <th>cluster</th>\n",
       "      <th></th>\n",
       "      <th></th>\n",
       "      <th></th>\n",
       "      <th></th>\n",
       "      <th></th>\n",
       "      <th></th>\n",
       "      <th></th>\n",
       "      <th></th>\n",
       "      <th></th>\n",
       "      <th></th>\n",
       "      <th></th>\n",
       "      <th></th>\n",
       "      <th></th>\n",
       "      <th></th>\n",
       "      <th></th>\n",
       "      <th></th>\n",
       "      <th></th>\n",
       "    </tr>\n",
       "  </thead>\n",
       "  <tbody>\n",
       "    <tr>\n",
       "      <th>0.0</th>\n",
       "      <td>0.024450</td>\n",
       "      <td>0.013454</td>\n",
       "      <td>0.007809</td>\n",
       "      <td>0.008893</td>\n",
       "      <td>0.001844</td>\n",
       "      <td>0.023019</td>\n",
       "      <td>0.014566</td>\n",
       "      <td>0.003138</td>\n",
       "      <td>0.002247</td>\n",
       "      <td>0.011200</td>\n",
       "      <td>-0.040360</td>\n",
       "      <td>0.001174</td>\n",
       "      <td>0.003575</td>\n",
       "      <td>0.000732</td>\n",
       "      <td>0.005959</td>\n",
       "      <td>0.000248</td>\n",
       "      <td>-0.000567</td>\n",
       "    </tr>\n",
       "    <tr>\n",
       "      <th>1.0</th>\n",
       "      <td>-0.009565</td>\n",
       "      <td>-0.001939</td>\n",
       "      <td>-0.001593</td>\n",
       "      <td>-0.002983</td>\n",
       "      <td>-0.000174</td>\n",
       "      <td>-0.008166</td>\n",
       "      <td>-0.004865</td>\n",
       "      <td>-0.000465</td>\n",
       "      <td>0.000115</td>\n",
       "      <td>-0.004283</td>\n",
       "      <td>0.001685</td>\n",
       "      <td>-0.000433</td>\n",
       "      <td>-0.000583</td>\n",
       "      <td>-0.006762</td>\n",
       "      <td>-0.002996</td>\n",
       "      <td>-0.000072</td>\n",
       "      <td>-0.000461</td>\n",
       "    </tr>\n",
       "  </tbody>\n",
       "</table>\n",
       "</div>"
      ],
      "text/plain": [
       "         num_critic_for_reviews  duration  director_facebook_likes  \\\n",
       "cluster                                                              \n",
       "0.0                    0.024450  0.013454                 0.007809   \n",
       "1.0                   -0.009565 -0.001939                -0.001593   \n",
       "\n",
       "         actor_3_facebook_likes  actor_1_facebook_likes     gross  \\\n",
       "cluster                                                             \n",
       "0.0                    0.008893                0.001844  0.023019   \n",
       "1.0                   -0.002983               -0.000174 -0.008166   \n",
       "\n",
       "         num_voted_users  cast_total_facebook_likes  facenumber_in_poster  \\\n",
       "cluster                                                                     \n",
       "0.0             0.014566                   0.003138              0.002247   \n",
       "1.0            -0.004865                  -0.000465              0.000115   \n",
       "\n",
       "         num_user_for_reviews  content_rating    budget  \\\n",
       "cluster                                                   \n",
       "0.0                  0.011200       -0.040360  0.001174   \n",
       "1.0                 -0.004283        0.001685 -0.000433   \n",
       "\n",
       "         actor_2_facebook_likes  imdb_score  movie_facebook_likes    Profit  \\\n",
       "cluster                                                                       \n",
       "0.0                    0.003575    0.000732              0.005959  0.000248   \n",
       "1.0                   -0.000583   -0.006762             -0.002996 -0.000072   \n",
       "\n",
       "              ROI  \n",
       "cluster            \n",
       "0.0     -0.000567  \n",
       "1.0     -0.000461  "
      ]
     },
     "execution_count": 215,
     "metadata": {},
     "output_type": "execute_result"
    }
   ],
   "source": [
    "df2.groupby('cluster').mean()"
   ]
  },
  {
   "cell_type": "markdown",
   "metadata": {
    "slideshow": {
     "slide_type": "fragment"
    }
   },
   "source": [
    "<b>Profiling each cluster:</b>\n",
    "Cluster 0 has a higher amount of critical reviews, a longer duration, more director facebook likes, more third actor facebook likes, more lead actor facebook likes, a higher gross, more users voted, more total cast facebook likes, more faces in its poster, more user reviews, a lower content rating, a higher budget, more second actor facebook likes, higher imdb score, higher profit, and a slighly lower ROI value.\n",
    "\n",
    "Cluster 1 would have the opposite of those characteristics.\n",
    "\n",
    "What is interesting about these profiles is that they seem to confirm what we've already discovered. The clustering algorithm finds more significant differences between these 2 clusters in tons of variables <i>other</i> than IMDB score. IMDB scores just do not have very significant correlations to any of the numerical variables we have analyzed."
   ]
  },
  {
   "cell_type": "code",
   "execution_count": 218,
   "metadata": {
    "slideshow": {
     "slide_type": "slide"
    }
   },
   "outputs": [
    {
     "data": {
      "image/png": "[encoded data removed]",
      "text/plain": [
       "<Figure size 360x360 with 1 Axes>"
      ]
     },
     "metadata": {
      "needs_background": "light"
     },
     "output_type": "display_data"
    }
   ],
   "source": [
    "#visualizing difference in imdb score\n",
    "sns.lmplot(\"cluster\", \"imdb_score\", df2, x_jitter=.15, y_jitter=.15);"
   ]
  },
  {
   "cell_type": "code",
   "execution_count": 219,
   "metadata": {
    "slideshow": {
     "slide_type": "slide"
    }
   },
   "outputs": [
    {
     "data": {
      "image/png": "[encoded data removed]",
      "text/plain": [
       "<Figure size 360x360 with 1 Axes>"
      ]
     },
     "metadata": {
      "needs_background": "light"
     },
     "output_type": "display_data"
    }
   ],
   "source": [
    "sns.lmplot(\"cluster\", \"num_critic_for_reviews\", df2, x_jitter=.15, y_jitter=.15);"
   ]
  },
  {
   "cell_type": "markdown",
   "metadata": {
    "slideshow": {
     "slide_type": "slide"
    }
   },
   "source": [
    "The most stark difference between the 2 clusters is number of critical reviews. What I think the algorithm is detecting here is a difference in popularity of movies. Cluster 0 has the biggest differences with regards to critical reviews, gross, and facebook likes. So instead of any meaningful clustering with regards to score, there's meaningful clustering relating to movie popularity."
   ]
  },
  {
   "cell_type": "markdown",
   "metadata": {
    "slideshow": {
     "slide_type": "slide"
    }
   },
   "source": [
    "<b>Now to creating a decision tree:</b>"
   ]
  },
  {
   "cell_type": "code",
   "execution_count": 220,
   "metadata": {
    "slideshow": {
     "slide_type": "skip"
    }
   },
   "outputs": [],
   "source": [
    "y = df2['cluster'].values\n",
    "X = df2.drop(['cluster'], axis=1)"
   ]
  },
  {
   "cell_type": "code",
   "execution_count": 221,
   "metadata": {
    "slideshow": {
     "slide_type": "skip"
    }
   },
   "outputs": [],
   "source": [
    "# instantiate a decision tree model, and fit with X and y (no split validation needed)\n",
    "dt = DecisionTreeClassifier(max_depth=3, min_samples_leaf=5)\n",
    "\n",
    "# Train a decision tree model\n",
    "dt = dt.fit(X,y)"
   ]
  },
  {
   "cell_type": "code",
   "execution_count": 222,
   "metadata": {
    "slideshow": {
     "slide_type": "skip"
    }
   },
   "outputs": [
    {
     "name": "stdout",
     "output_type": "stream",
     "text": [
      "[0. 0. 0. ... 1. 1. 1.]\n"
     ]
    }
   ],
   "source": [
    "predicted_Y = dt.predict(X)\n",
    "print (predicted_Y)"
   ]
  },
  {
   "cell_type": "code",
   "execution_count": 224,
   "metadata": {
    "slideshow": {
     "slide_type": "skip"
    }
   },
   "outputs": [
    {
     "data": {
      "text/plain": [
       "True"
      ]
     },
     "execution_count": 224,
     "metadata": {},
     "output_type": "execute_result"
    }
   ],
   "source": [
    "from sklearn.externals.six import StringIO\n",
    "\n",
    "#!pip install pydotplus\n",
    "import pydotplus\n",
    "\n",
    "dot_data = StringIO() \n",
    "tree.export_graphviz(dt, out_file=dot_data, feature_names=X.columns,\n",
    "                     filled=True, rounded=True, special_characters=True)\n",
    "graph = pydotplus.graph_from_dot_data(dot_data.getvalue())\n",
    "graph.write_pdf(\"data/dt.pdf\")\n",
    "# go to data folder and open the pdf file"
   ]
  },
  {
   "cell_type": "code",
   "execution_count": 225,
   "metadata": {
    "slideshow": {
     "slide_type": "skip"
    }
   },
   "outputs": [
    {
     "data": {
      "text/html": [
       "\n",
       "        <iframe\n",
       "            width=\"1000\"\n",
       "            height=\"500\"\n",
       "            src=\"data/dt.pdf\"\n",
       "            frameborder=\"0\"\n",
       "            allowfullscreen\n",
       "        ></iframe>\n",
       "        "
      ],
      "text/plain": [
       "<IPython.lib.display.IFrame at 0x1f11d33ba90>"
      ]
     },
     "execution_count": 225,
     "metadata": {},
     "output_type": "execute_result"
    }
   ],
   "source": [
    "from IPython.display import IFrame\n",
    "IFrame('data/dt.pdf', width=1000, height=500)"
   ]
  },
  {
   "cell_type": "code",
   "execution_count": 226,
   "metadata": {
    "slideshow": {
     "slide_type": "slide"
    }
   },
   "outputs": [
    {
     "name": "stdout",
     "output_type": "stream",
     "text": [
      "              precision    recall  f1-score   support\n",
      "\n",
      "         0.0       0.68      0.60      0.64      1704\n",
      "         1.0       0.58      0.66      0.61      1414\n",
      "\n",
      "    accuracy                           0.63      3118\n",
      "   macro avg       0.63      0.63      0.63      3118\n",
      "weighted avg       0.63      0.63      0.63      3118\n",
      "\n",
      "--------------------------------------------------------\n",
      "[[1024  680]\n",
      " [ 485  929]]\n",
      "--------------------------------------------------------\n",
      "0.6263630532392559\n"
     ]
    }
   ],
   "source": [
    "print(metrics.classification_report(y, dt.predict(X)))\n",
    "print(\"--------------------------------------------------------\")\n",
    "print(metrics.confusion_matrix(y, dt.predict(X)))\n",
    "print(\"--------------------------------------------------------\")\n",
    "print(metrics.accuracy_score(y, dt.predict(X)))"
   ]
  },
  {
   "cell_type": "markdown",
   "metadata": {
    "slideshow": {
     "slide_type": "slide"
    }
   },
   "source": [
    "This decision tree model is not perfect, with an accuracy score of only 62.6% (this could be increased with more leafs and higher depth). Interestingly, the tree uses budget for several of it's decision nodes. That surprised me."
   ]
  },
  {
   "cell_type": "markdown",
   "metadata": {
    "slideshow": {
     "slide_type": "slide"
    }
   },
   "source": [
    "<b>Now Random Forest Classifier:</b>"
   ]
  },
  {
   "cell_type": "code",
   "execution_count": 227,
   "metadata": {
    "slideshow": {
     "slide_type": "slide"
    }
   },
   "outputs": [
    {
     "data": {
      "text/plain": [
       "0.9961513790891597"
      ]
     },
     "execution_count": 227,
     "metadata": {},
     "output_type": "execute_result"
    }
   ],
   "source": [
    "# build randomforeastmodel\n",
    "from sklearn.ensemble import RandomForestClassifier\n",
    "clf = RandomForestClassifier(n_estimators=20)    #building 20 decision trees\n",
    "clf=clf.fit(X, y)\n",
    "clf.score(X,y)"
   ]
  },
  {
   "cell_type": "markdown",
   "metadata": {
    "slideshow": {
     "slide_type": "slide"
    }
   },
   "source": [
    "<b>Feature Importance:</b>"
   ]
  },
  {
   "cell_type": "code",
   "execution_count": 228,
   "metadata": {
    "slideshow": {
     "slide_type": "slide"
    }
   },
   "outputs": [
    {
     "data": {
      "text/html": [
       "<div>\n",
       "<style scoped>\n",
       "    .dataframe tbody tr th:only-of-type {\n",
       "        vertical-align: middle;\n",
       "    }\n",
       "\n",
       "    .dataframe tbody tr th {\n",
       "        vertical-align: top;\n",
       "    }\n",
       "\n",
       "    .dataframe thead th {\n",
       "        text-align: right;\n",
       "    }\n",
       "</style>\n",
       "<table border=\"1\" class=\"dataframe\">\n",
       "  <thead>\n",
       "    <tr style=\"text-align: right;\">\n",
       "      <th></th>\n",
       "      <th>feature</th>\n",
       "      <th>importance</th>\n",
       "    </tr>\n",
       "  </thead>\n",
       "  <tbody>\n",
       "    <tr>\n",
       "      <th>0</th>\n",
       "      <td>num_critic_for_reviews</td>\n",
       "      <td>0.062755</td>\n",
       "    </tr>\n",
       "    <tr>\n",
       "      <th>1</th>\n",
       "      <td>duration</td>\n",
       "      <td>0.057174</td>\n",
       "    </tr>\n",
       "    <tr>\n",
       "      <th>2</th>\n",
       "      <td>director_facebook_likes</td>\n",
       "      <td>0.057818</td>\n",
       "    </tr>\n",
       "    <tr>\n",
       "      <th>3</th>\n",
       "      <td>actor_3_facebook_likes</td>\n",
       "      <td>0.060988</td>\n",
       "    </tr>\n",
       "    <tr>\n",
       "      <th>4</th>\n",
       "      <td>actor_1_facebook_likes</td>\n",
       "      <td>0.053287</td>\n",
       "    </tr>\n",
       "    <tr>\n",
       "      <th>5</th>\n",
       "      <td>gross</td>\n",
       "      <td>0.074100</td>\n",
       "    </tr>\n",
       "    <tr>\n",
       "      <th>6</th>\n",
       "      <td>num_voted_users</td>\n",
       "      <td>0.071164</td>\n",
       "    </tr>\n",
       "    <tr>\n",
       "      <th>7</th>\n",
       "      <td>cast_total_facebook_likes</td>\n",
       "      <td>0.062622</td>\n",
       "    </tr>\n",
       "    <tr>\n",
       "      <th>8</th>\n",
       "      <td>facenumber_in_poster</td>\n",
       "      <td>0.026698</td>\n",
       "    </tr>\n",
       "    <tr>\n",
       "      <th>9</th>\n",
       "      <td>num_user_for_reviews</td>\n",
       "      <td>0.061667</td>\n",
       "    </tr>\n",
       "    <tr>\n",
       "      <th>10</th>\n",
       "      <td>content_rating</td>\n",
       "      <td>0.016900</td>\n",
       "    </tr>\n",
       "    <tr>\n",
       "      <th>11</th>\n",
       "      <td>budget</td>\n",
       "      <td>0.097179</td>\n",
       "    </tr>\n",
       "    <tr>\n",
       "      <th>12</th>\n",
       "      <td>actor_2_facebook_likes</td>\n",
       "      <td>0.058707</td>\n",
       "    </tr>\n",
       "    <tr>\n",
       "      <th>13</th>\n",
       "      <td>imdb_score</td>\n",
       "      <td>0.053331</td>\n",
       "    </tr>\n",
       "    <tr>\n",
       "      <th>14</th>\n",
       "      <td>movie_facebook_likes</td>\n",
       "      <td>0.037335</td>\n",
       "    </tr>\n",
       "    <tr>\n",
       "      <th>15</th>\n",
       "      <td>Profit</td>\n",
       "      <td>0.077052</td>\n",
       "    </tr>\n",
       "    <tr>\n",
       "      <th>16</th>\n",
       "      <td>ROI</td>\n",
       "      <td>0.071224</td>\n",
       "    </tr>\n",
       "  </tbody>\n",
       "</table>\n",
       "</div>"
      ],
      "text/plain": [
       "                      feature  importance\n",
       "0      num_critic_for_reviews    0.062755\n",
       "1                    duration    0.057174\n",
       "2     director_facebook_likes    0.057818\n",
       "3      actor_3_facebook_likes    0.060988\n",
       "4      actor_1_facebook_likes    0.053287\n",
       "5                       gross    0.074100\n",
       "6             num_voted_users    0.071164\n",
       "7   cast_total_facebook_likes    0.062622\n",
       "8        facenumber_in_poster    0.026698\n",
       "9        num_user_for_reviews    0.061667\n",
       "10             content_rating    0.016900\n",
       "11                     budget    0.097179\n",
       "12     actor_2_facebook_likes    0.058707\n",
       "13                 imdb_score    0.053331\n",
       "14       movie_facebook_likes    0.037335\n",
       "15                     Profit    0.077052\n",
       "16                        ROI    0.071224"
      ]
     },
     "execution_count": 228,
     "metadata": {},
     "output_type": "execute_result"
    }
   ],
   "source": [
    "pd.DataFrame({'feature':X.columns, 'importance':clf.feature_importances_})"
   ]
  },
  {
   "cell_type": "markdown",
   "metadata": {
    "slideshow": {
     "slide_type": "slide"
    }
   },
   "source": [
    "Many variables here have the same value of around .06 to .07 relating to how important they are for clustering via decision tree, but budget stands out at .097 - which fits with the decision tree we made."
   ]
  },
  {
   "cell_type": "markdown",
   "metadata": {
    "slideshow": {
     "slide_type": "slide"
    }
   },
   "source": [
    "<b>Agglomerative Clustering:</b>"
   ]
  },
  {
   "cell_type": "code",
   "execution_count": 229,
   "metadata": {
    "slideshow": {
     "slide_type": "skip"
    }
   },
   "outputs": [
    {
     "data": {
      "text/plain": [
       "array([0, 0, 0, ..., 0, 0, 0], dtype=int64)"
      ]
     },
     "execution_count": 229,
     "metadata": {},
     "output_type": "execute_result"
    }
   ],
   "source": [
    "np.random.seed(1) # setting random seed to get the same results each time.\n",
    "agg= AgglomerativeClustering(n_clusters=2, linkage='ward').fit(X)\n",
    "agg.labels_"
   ]
  },
  {
   "cell_type": "code",
   "execution_count": 230,
   "metadata": {
    "slideshow": {
     "slide_type": "skip"
    }
   },
   "outputs": [
    {
     "data": {
      "image/png": "[encoded data removed]",
      "text/plain": [
       "<Figure size 1152x576 with 1 Axes>"
      ]
     },
     "metadata": {
      "needs_background": "light"
     },
     "output_type": "display_data"
    }
   ],
   "source": [
    "plt.figure(figsize=(16,8))\n",
    "plt.title('Hierarchical Clustering Dendrogram (truncated)')\n",
    "plt.xlabel('sample index or (cluster size)')\n",
    "plt.ylabel('distance')\n",
    "\n",
    "linkage_matrix = ward(X)\n",
    "dendrogram(linkage_matrix, \n",
    "           truncate_mode='lastp',  # show only the last p merged clusters\n",
    "           p=2,  # show only the last p merged clusters\n",
    "           #show_leaf_counts=False,  # otherwise numbers in brackets are counts\n",
    "           leaf_rotation=90.,\n",
    "           leaf_font_size=12.,\n",
    "           show_contracted=True,  # to get a distribution impression in truncated branches\n",
    "           orientation=\"top\")\n",
    "plt.tight_layout() # fixes margins"
   ]
  },
  {
   "cell_type": "code",
   "execution_count": 231,
   "metadata": {
    "slideshow": {
     "slide_type": "skip"
    }
   },
   "outputs": [
    {
     "data": {
      "text/html": [
       "<div>\n",
       "<style scoped>\n",
       "    .dataframe tbody tr th:only-of-type {\n",
       "        vertical-align: middle;\n",
       "    }\n",
       "\n",
       "    .dataframe tbody tr th {\n",
       "        vertical-align: top;\n",
       "    }\n",
       "\n",
       "    .dataframe thead th {\n",
       "        text-align: right;\n",
       "    }\n",
       "</style>\n",
       "<table border=\"1\" class=\"dataframe\">\n",
       "  <thead>\n",
       "    <tr style=\"text-align: right;\">\n",
       "      <th></th>\n",
       "      <th>cluster</th>\n",
       "    </tr>\n",
       "  </thead>\n",
       "  <tbody>\n",
       "    <tr>\n",
       "      <th>0</th>\n",
       "      <td>0</td>\n",
       "    </tr>\n",
       "    <tr>\n",
       "      <th>1</th>\n",
       "      <td>0</td>\n",
       "    </tr>\n",
       "    <tr>\n",
       "      <th>2</th>\n",
       "      <td>0</td>\n",
       "    </tr>\n",
       "    <tr>\n",
       "      <th>3</th>\n",
       "      <td>0</td>\n",
       "    </tr>\n",
       "    <tr>\n",
       "      <th>4</th>\n",
       "      <td>0</td>\n",
       "    </tr>\n",
       "  </tbody>\n",
       "</table>\n",
       "</div>"
      ],
      "text/plain": [
       "   cluster\n",
       "0        0\n",
       "1        0\n",
       "2        0\n",
       "3        0\n",
       "4        0"
      ]
     },
     "execution_count": 231,
     "metadata": {},
     "output_type": "execute_result"
    }
   ],
   "source": [
    "df_copy1 = pd.DataFrame(agg.labels_, columns = ['cluster'])\n",
    "df_copy1.head()"
   ]
  },
  {
   "cell_type": "code",
   "execution_count": 234,
   "metadata": {
    "slideshow": {
     "slide_type": "skip"
    }
   },
   "outputs": [
    {
     "data": {
      "text/html": [
       "<div>\n",
       "<style scoped>\n",
       "    .dataframe tbody tr th:only-of-type {\n",
       "        vertical-align: middle;\n",
       "    }\n",
       "\n",
       "    .dataframe tbody tr th {\n",
       "        vertical-align: top;\n",
       "    }\n",
       "\n",
       "    .dataframe thead th {\n",
       "        text-align: right;\n",
       "    }\n",
       "</style>\n",
       "<table border=\"1\" class=\"dataframe\">\n",
       "  <thead>\n",
       "    <tr style=\"text-align: right;\">\n",
       "      <th></th>\n",
       "      <th>num_critic_for_reviews</th>\n",
       "      <th>duration</th>\n",
       "      <th>director_facebook_likes</th>\n",
       "      <th>actor_3_facebook_likes</th>\n",
       "      <th>actor_1_facebook_likes</th>\n",
       "      <th>gross</th>\n",
       "      <th>num_voted_users</th>\n",
       "      <th>cast_total_facebook_likes</th>\n",
       "      <th>facenumber_in_poster</th>\n",
       "      <th>num_user_for_reviews</th>\n",
       "      <th>content_rating</th>\n",
       "      <th>budget</th>\n",
       "      <th>actor_2_facebook_likes</th>\n",
       "      <th>imdb_score</th>\n",
       "      <th>movie_facebook_likes</th>\n",
       "      <th>Profit</th>\n",
       "      <th>ROI</th>\n",
       "      <th>cluster</th>\n",
       "    </tr>\n",
       "  </thead>\n",
       "  <tbody>\n",
       "    <tr>\n",
       "      <th>0</th>\n",
       "      <td>0.686104</td>\n",
       "      <td>0.245223</td>\n",
       "      <td>-0.035343</td>\n",
       "      <td>0.003621</td>\n",
       "      <td>-0.010647</td>\n",
       "      <td>0.930805</td>\n",
       "      <td>0.462122</td>\n",
       "      <td>-0.010309</td>\n",
       "      <td>-0.032022</td>\n",
       "      <td>0.537546</td>\n",
       "      <td>-0.087895</td>\n",
       "      <td>0.015588</td>\n",
       "      <td>-0.007990</td>\n",
       "      <td>0.188906</td>\n",
       "      <td>0.067835</td>\n",
       "      <td>0.040628</td>\n",
       "      <td>-0.000334</td>\n",
       "      <td>0.0</td>\n",
       "    </tr>\n",
       "    <tr>\n",
       "      <th>1</th>\n",
       "      <td>0.167631</td>\n",
       "      <td>0.212732</td>\n",
       "      <td>-0.010865</td>\n",
       "      <td>0.009925</td>\n",
       "      <td>0.050290</td>\n",
       "      <td>0.337645</td>\n",
       "      <td>0.216531</td>\n",
       "      <td>0.055953</td>\n",
       "      <td>-0.032022</td>\n",
       "      <td>0.178582</td>\n",
       "      <td>-0.087895</td>\n",
       "      <td>0.020745</td>\n",
       "      <td>0.021674</td>\n",
       "      <td>0.085010</td>\n",
       "      <td>-0.026721</td>\n",
       "      <td>0.000264</td>\n",
       "      <td>-0.000637</td>\n",
       "      <td>0.0</td>\n",
       "    </tr>\n",
       "    <tr>\n",
       "      <th>2</th>\n",
       "      <td>0.537089</td>\n",
       "      <td>0.136920</td>\n",
       "      <td>-0.035343</td>\n",
       "      <td>-0.026553</td>\n",
       "      <td>0.004978</td>\n",
       "      <td>0.193885</td>\n",
       "      <td>0.100921</td>\n",
       "      <td>0.000146</td>\n",
       "      <td>-0.008767</td>\n",
       "      <td>0.130351</td>\n",
       "      <td>-0.087895</td>\n",
       "      <td>0.016243</td>\n",
       "      <td>-0.011954</td>\n",
       "      <td>0.046049</td>\n",
       "      <td>0.216832</td>\n",
       "      <td>-0.004001</td>\n",
       "      <td>-0.000666</td>\n",
       "      <td>0.0</td>\n",
       "    </tr>\n",
       "    <tr>\n",
       "      <th>3</th>\n",
       "      <td>0.796941</td>\n",
       "      <td>0.194682</td>\n",
       "      <td>0.921179</td>\n",
       "      <td>0.966447</td>\n",
       "      <td>0.029978</td>\n",
       "      <td>0.520058</td>\n",
       "      <td>0.614886</td>\n",
       "      <td>0.144892</td>\n",
       "      <td>-0.032022</td>\n",
       "      <td>0.467770</td>\n",
       "      <td>-0.087895</td>\n",
       "      <td>0.016652</td>\n",
       "      <td>0.153061</td>\n",
       "      <td>0.266829</td>\n",
       "      <td>0.443193</td>\n",
       "      <td>0.015082</td>\n",
       "      <td>-0.000531</td>\n",
       "      <td>0.0</td>\n",
       "    </tr>\n",
       "    <tr>\n",
       "      <th>5</th>\n",
       "      <td>0.364675</td>\n",
       "      <td>0.079158</td>\n",
       "      <td>-0.014691</td>\n",
       "      <td>-0.010510</td>\n",
       "      <td>-0.011210</td>\n",
       "      <td>0.026871</td>\n",
       "      <td>0.063244</td>\n",
       "      <td>-0.014818</td>\n",
       "      <td>-0.008767</td>\n",
       "      <td>0.079748</td>\n",
       "      <td>-0.087895</td>\n",
       "      <td>0.017774</td>\n",
       "      <td>-0.010209</td>\n",
       "      <td>0.020075</td>\n",
       "      <td>0.042047</td>\n",
       "      <td>-0.015442</td>\n",
       "      <td>-0.000741</td>\n",
       "      <td>0.0</td>\n",
       "    </tr>\n",
       "  </tbody>\n",
       "</table>\n",
       "</div>"
      ],
      "text/plain": [
       "   num_critic_for_reviews  duration  director_facebook_likes  \\\n",
       "0                0.686104  0.245223                -0.035343   \n",
       "1                0.167631  0.212732                -0.010865   \n",
       "2                0.537089  0.136920                -0.035343   \n",
       "3                0.796941  0.194682                 0.921179   \n",
       "5                0.364675  0.079158                -0.014691   \n",
       "\n",
       "   actor_3_facebook_likes  actor_1_facebook_likes     gross  num_voted_users  \\\n",
       "0                0.003621               -0.010647  0.930805         0.462122   \n",
       "1                0.009925                0.050290  0.337645         0.216531   \n",
       "2               -0.026553                0.004978  0.193885         0.100921   \n",
       "3                0.966447                0.029978  0.520058         0.614886   \n",
       "5               -0.010510               -0.011210  0.026871         0.063244   \n",
       "\n",
       "   cast_total_facebook_likes  facenumber_in_poster  num_user_for_reviews  \\\n",
       "0                  -0.010309             -0.032022              0.537546   \n",
       "1                   0.055953             -0.032022              0.178582   \n",
       "2                   0.000146             -0.008767              0.130351   \n",
       "3                   0.144892             -0.032022              0.467770   \n",
       "5                  -0.014818             -0.008767              0.079748   \n",
       "\n",
       "   content_rating    budget  actor_2_facebook_likes  imdb_score  \\\n",
       "0       -0.087895  0.015588               -0.007990    0.188906   \n",
       "1       -0.087895  0.020745                0.021674    0.085010   \n",
       "2       -0.087895  0.016243               -0.011954    0.046049   \n",
       "3       -0.087895  0.016652                0.153061    0.266829   \n",
       "5       -0.087895  0.017774               -0.010209    0.020075   \n",
       "\n",
       "   movie_facebook_likes    Profit       ROI  cluster  \n",
       "0              0.067835  0.040628 -0.000334      0.0  \n",
       "1             -0.026721  0.000264 -0.000637      0.0  \n",
       "2              0.216832 -0.004001 -0.000666      0.0  \n",
       "3              0.443193  0.015082 -0.000531      0.0  \n",
       "5              0.042047 -0.015442 -0.000741      0.0  "
      ]
     },
     "execution_count": 234,
     "metadata": {},
     "output_type": "execute_result"
    }
   ],
   "source": [
    "\n",
    "\n",
    "df_copy2 = df_norm.join(df_copy1)\n",
    "df_copy2.head()\n",
    "\n"
   ]
  },
  {
   "cell_type": "code",
   "execution_count": 235,
   "metadata": {
    "slideshow": {
     "slide_type": "slide"
    }
   },
   "outputs": [
    {
     "data": {
      "text/html": [
       "<div>\n",
       "<style scoped>\n",
       "    .dataframe tbody tr th:only-of-type {\n",
       "        vertical-align: middle;\n",
       "    }\n",
       "\n",
       "    .dataframe tbody tr th {\n",
       "        vertical-align: top;\n",
       "    }\n",
       "\n",
       "    .dataframe thead th {\n",
       "        text-align: right;\n",
       "    }\n",
       "</style>\n",
       "<table border=\"1\" class=\"dataframe\">\n",
       "  <thead>\n",
       "    <tr style=\"text-align: right;\">\n",
       "      <th></th>\n",
       "      <th>num_critic_for_reviews</th>\n",
       "      <th>duration</th>\n",
       "      <th>director_facebook_likes</th>\n",
       "      <th>actor_3_facebook_likes</th>\n",
       "      <th>actor_1_facebook_likes</th>\n",
       "      <th>gross</th>\n",
       "      <th>num_voted_users</th>\n",
       "      <th>cast_total_facebook_likes</th>\n",
       "      <th>facenumber_in_poster</th>\n",
       "      <th>num_user_for_reviews</th>\n",
       "      <th>content_rating</th>\n",
       "      <th>budget</th>\n",
       "      <th>actor_2_facebook_likes</th>\n",
       "      <th>imdb_score</th>\n",
       "      <th>movie_facebook_likes</th>\n",
       "      <th>Profit</th>\n",
       "      <th>ROI</th>\n",
       "    </tr>\n",
       "    <tr>\n",
       "      <th>cluster</th>\n",
       "      <th></th>\n",
       "      <th></th>\n",
       "      <th></th>\n",
       "      <th></th>\n",
       "      <th></th>\n",
       "      <th></th>\n",
       "      <th></th>\n",
       "      <th></th>\n",
       "      <th></th>\n",
       "      <th></th>\n",
       "      <th></th>\n",
       "      <th></th>\n",
       "      <th></th>\n",
       "      <th></th>\n",
       "      <th></th>\n",
       "      <th></th>\n",
       "      <th></th>\n",
       "    </tr>\n",
       "  </thead>\n",
       "  <tbody>\n",
       "    <tr>\n",
       "      <th>0.0</th>\n",
       "      <td>0.015882</td>\n",
       "      <td>0.009238</td>\n",
       "      <td>0.007566</td>\n",
       "      <td>0.004002</td>\n",
       "      <td>0.001103</td>\n",
       "      <td>0.014734</td>\n",
       "      <td>0.008951</td>\n",
       "      <td>0.001830</td>\n",
       "      <td>0.000399</td>\n",
       "      <td>0.006564</td>\n",
       "      <td>-0.032118</td>\n",
       "      <td>0.000775</td>\n",
       "      <td>0.002230</td>\n",
       "      <td>-0.003489</td>\n",
       "      <td>0.004196</td>\n",
       "      <td>0.000136</td>\n",
       "      <td>-0.000539</td>\n",
       "    </tr>\n",
       "    <tr>\n",
       "      <th>1.0</th>\n",
       "      <td>0.021259</td>\n",
       "      <td>0.011233</td>\n",
       "      <td>0.002005</td>\n",
       "      <td>0.011891</td>\n",
       "      <td>0.004122</td>\n",
       "      <td>0.021400</td>\n",
       "      <td>0.014686</td>\n",
       "      <td>0.005653</td>\n",
       "      <td>0.001375</td>\n",
       "      <td>0.013320</td>\n",
       "      <td>-0.043947</td>\n",
       "      <td>0.001228</td>\n",
       "      <td>0.004372</td>\n",
       "      <td>-0.004318</td>\n",
       "      <td>0.002768</td>\n",
       "      <td>0.000100</td>\n",
       "      <td>-0.000586</td>\n",
       "    </tr>\n",
       "  </tbody>\n",
       "</table>\n",
       "</div>"
      ],
      "text/plain": [
       "         num_critic_for_reviews  duration  director_facebook_likes  \\\n",
       "cluster                                                              \n",
       "0.0                    0.015882  0.009238                 0.007566   \n",
       "1.0                    0.021259  0.011233                 0.002005   \n",
       "\n",
       "         actor_3_facebook_likes  actor_1_facebook_likes     gross  \\\n",
       "cluster                                                             \n",
       "0.0                    0.004002                0.001103  0.014734   \n",
       "1.0                    0.011891                0.004122  0.021400   \n",
       "\n",
       "         num_voted_users  cast_total_facebook_likes  facenumber_in_poster  \\\n",
       "cluster                                                                     \n",
       "0.0             0.008951                   0.001830              0.000399   \n",
       "1.0             0.014686                   0.005653              0.001375   \n",
       "\n",
       "         num_user_for_reviews  content_rating    budget  \\\n",
       "cluster                                                   \n",
       "0.0                  0.006564       -0.032118  0.000775   \n",
       "1.0                  0.013320       -0.043947  0.001228   \n",
       "\n",
       "         actor_2_facebook_likes  imdb_score  movie_facebook_likes    Profit  \\\n",
       "cluster                                                                       \n",
       "0.0                    0.002230   -0.003489              0.004196  0.000136   \n",
       "1.0                    0.004372   -0.004318              0.002768  0.000100   \n",
       "\n",
       "              ROI  \n",
       "cluster            \n",
       "0.0     -0.000539  \n",
       "1.0     -0.000586  "
      ]
     },
     "execution_count": 235,
     "metadata": {},
     "output_type": "execute_result"
    }
   ],
   "source": [
    "df_copy2.groupby('cluster').mean()"
   ]
  },
  {
   "cell_type": "markdown",
   "metadata": {
    "slideshow": {
     "slide_type": "fragment"
    }
   },
   "source": [
    "Cluster 0: has lower number of critical reviews, lower duration, more director facebook likes, fewer third actor facebook likes, fewer lead actor facebook likes, lower gross, lower number of votes, lower number of cast facebook likes, fewer face numbers in the movie poster, lower number of user reviews, a higher content rating, lower budget, fewer second actor facebook likes, higher imdb score, more movie facebook likes, slightly higher profit and slightly higher ROI.\n",
    "\n",
    "Cluser 1 has the opposite of those characteristics."
   ]
  },
  {
   "cell_type": "code",
   "execution_count": 236,
   "metadata": {
    "slideshow": {
     "slide_type": "skip"
    }
   },
   "outputs": [
    {
     "data": {
      "text/html": [
       "<div>\n",
       "<style scoped>\n",
       "    .dataframe tbody tr th:only-of-type {\n",
       "        vertical-align: middle;\n",
       "    }\n",
       "\n",
       "    .dataframe tbody tr th {\n",
       "        vertical-align: top;\n",
       "    }\n",
       "\n",
       "    .dataframe thead th {\n",
       "        text-align: right;\n",
       "    }\n",
       "</style>\n",
       "<table border=\"1\" class=\"dataframe\">\n",
       "  <thead>\n",
       "    <tr style=\"text-align: right;\">\n",
       "      <th></th>\n",
       "      <th>num_critic_for_reviews</th>\n",
       "      <th>duration</th>\n",
       "      <th>director_facebook_likes</th>\n",
       "      <th>actor_3_facebook_likes</th>\n",
       "      <th>actor_1_facebook_likes</th>\n",
       "      <th>gross</th>\n",
       "      <th>num_voted_users</th>\n",
       "      <th>cast_total_facebook_likes</th>\n",
       "      <th>facenumber_in_poster</th>\n",
       "      <th>num_user_for_reviews</th>\n",
       "      <th>content_rating</th>\n",
       "      <th>budget</th>\n",
       "      <th>actor_2_facebook_likes</th>\n",
       "      <th>imdb_score</th>\n",
       "      <th>movie_facebook_likes</th>\n",
       "      <th>Profit</th>\n",
       "      <th>ROI</th>\n",
       "    </tr>\n",
       "    <tr>\n",
       "      <th>cluster</th>\n",
       "      <th></th>\n",
       "      <th></th>\n",
       "      <th></th>\n",
       "      <th></th>\n",
       "      <th></th>\n",
       "      <th></th>\n",
       "      <th></th>\n",
       "      <th></th>\n",
       "      <th></th>\n",
       "      <th></th>\n",
       "      <th></th>\n",
       "      <th></th>\n",
       "      <th></th>\n",
       "      <th></th>\n",
       "      <th></th>\n",
       "      <th></th>\n",
       "      <th></th>\n",
       "    </tr>\n",
       "  </thead>\n",
       "  <tbody>\n",
       "    <tr>\n",
       "      <th>0.0</th>\n",
       "      <td>0.024450</td>\n",
       "      <td>0.013454</td>\n",
       "      <td>0.007809</td>\n",
       "      <td>0.008893</td>\n",
       "      <td>0.001844</td>\n",
       "      <td>0.023019</td>\n",
       "      <td>0.014566</td>\n",
       "      <td>0.003138</td>\n",
       "      <td>0.002247</td>\n",
       "      <td>0.011200</td>\n",
       "      <td>-0.040360</td>\n",
       "      <td>0.001174</td>\n",
       "      <td>0.003575</td>\n",
       "      <td>0.000732</td>\n",
       "      <td>0.005959</td>\n",
       "      <td>0.000248</td>\n",
       "      <td>-0.000567</td>\n",
       "    </tr>\n",
       "    <tr>\n",
       "      <th>1.0</th>\n",
       "      <td>-0.009565</td>\n",
       "      <td>-0.001939</td>\n",
       "      <td>-0.001593</td>\n",
       "      <td>-0.002983</td>\n",
       "      <td>-0.000174</td>\n",
       "      <td>-0.008166</td>\n",
       "      <td>-0.004865</td>\n",
       "      <td>-0.000465</td>\n",
       "      <td>0.000115</td>\n",
       "      <td>-0.004283</td>\n",
       "      <td>0.001685</td>\n",
       "      <td>-0.000433</td>\n",
       "      <td>-0.000583</td>\n",
       "      <td>-0.006762</td>\n",
       "      <td>-0.002996</td>\n",
       "      <td>-0.000072</td>\n",
       "      <td>-0.000461</td>\n",
       "    </tr>\n",
       "  </tbody>\n",
       "</table>\n",
       "</div>"
      ],
      "text/plain": [
       "         num_critic_for_reviews  duration  director_facebook_likes  \\\n",
       "cluster                                                              \n",
       "0.0                    0.024450  0.013454                 0.007809   \n",
       "1.0                   -0.009565 -0.001939                -0.001593   \n",
       "\n",
       "         actor_3_facebook_likes  actor_1_facebook_likes     gross  \\\n",
       "cluster                                                             \n",
       "0.0                    0.008893                0.001844  0.023019   \n",
       "1.0                   -0.002983               -0.000174 -0.008166   \n",
       "\n",
       "         num_voted_users  cast_total_facebook_likes  facenumber_in_poster  \\\n",
       "cluster                                                                     \n",
       "0.0             0.014566                   0.003138              0.002247   \n",
       "1.0            -0.004865                  -0.000465              0.000115   \n",
       "\n",
       "         num_user_for_reviews  content_rating    budget  \\\n",
       "cluster                                                   \n",
       "0.0                  0.011200       -0.040360  0.001174   \n",
       "1.0                 -0.004283        0.001685 -0.000433   \n",
       "\n",
       "         actor_2_facebook_likes  imdb_score  movie_facebook_likes    Profit  \\\n",
       "cluster                                                                       \n",
       "0.0                    0.003575    0.000732              0.005959  0.000248   \n",
       "1.0                   -0.000583   -0.006762             -0.002996 -0.000072   \n",
       "\n",
       "              ROI  \n",
       "cluster            \n",
       "0.0     -0.000567  \n",
       "1.0     -0.000461  "
      ]
     },
     "execution_count": 236,
     "metadata": {},
     "output_type": "execute_result"
    }
   ],
   "source": [
    "df2.groupby('cluster').mean()"
   ]
  },
  {
   "cell_type": "markdown",
   "metadata": {
    "slideshow": {
     "slide_type": "slide"
    }
   },
   "source": [
    "The clustering analysis is largely similar between the 2 methods regarding the different variables. Cluster 0 in hierarchical and cluster 0 in k-means both cluster their groups largely relating to facebook likes and number of reviews, though cluster 0 in hierarchical does not do so with director likes, which is the largest difference between the 2 groups."
   ]
  },
  {
   "cell_type": "markdown",
   "metadata": {
    "slideshow": {
     "slide_type": "slide"
    }
   },
   "source": [
    "<h2>Part 11 - Conclusion</h2>"
   ]
  },
  {
   "cell_type": "markdown",
   "metadata": {
    "slideshow": {
     "slide_type": "slide"
    }
   },
   "source": [
    "Many of the takeaways from the first half of the project (due at mid-term) remain the same after doing the final analysis. Here are the most important points:\n",
    "\n",
    "* Predicting a movie's IMDB score is difficult. \n",
    "* The models created in this analysis using regression had poor r-squared scores, indicating they were not very accurate. \n",
    "* The classification models were better with regards to accuracy, but they are less precise - predicting within a range of score (like 6-8/10) - rather than a specific score.\n"
   ]
  },
  {
   "cell_type": "markdown",
   "metadata": {
    "slideshow": {
     "slide_type": "slide"
    }
   },
   "source": [
    "* Important variables such as actor or director are very difficult to integrate into models due to them being non-numerical values. \n",
    "* The clustering analysis detected some interesting segments within the dataset, but these divisions did not relate to IMDB score in a significant way.\n",
    "* Random forest classifiers regularly have good accuracy scores.\n",
    "\n",
    "To conclude, using various models and clustering analysis can be useful for gaining an insight into what results in a movie having a higher imdb score, but they are not as useful as one would hope."
   ]
  }
 ],
 "metadata": {
  "celltoolbar": "Slideshow",
  "kernelspec": {
   "display_name": "Python 3",
   "language": "python",
   "name": "python3"
  },
  "language_info": {
   "codemirror_mode": {
    "name": "ipython",
    "version": 3
   },
   "file_extension": ".py",
   "mimetype": "text/x-python",
   "name": "python",
   "nbconvert_exporter": "python",
   "pygments_lexer": "ipython3",
   "version": "3.7.3"
  }
 },
 "nbformat": 4,
 "nbformat_minor": 2
}
